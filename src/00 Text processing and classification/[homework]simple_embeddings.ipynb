{
 "nbformat": 4,
 "nbformat_minor": 0,
 "metadata": {
  "kernelspec": {
   "display_name": "Python 3",
   "language": "python",
   "name": "python3"
  },
  "language_info": {
   "codemirror_mode": {
    "name": "ipython",
    "version": 3
   },
   "file_extension": ".py",
   "mimetype": "text/x-python",
   "name": "python",
   "nbconvert_exporter": "python",
   "pygments_lexer": "ipython3",
   "version": "3.7.2"
  },
  "colab": {
   "name": "[homework]simple_embeddings.ipynb",
   "provenance": [],
   "collapsed_sections": [
    "BIWqBuEa6j0b",
    "uS9FwWNd5a3S",
    "MQk_rolFwT_h",
    "ai48-5vv6j1d",
    "Y60z4t6W6j16",
    "0sUSxk866j1_",
    "J5xWOORI6j2F",
    "tHZqgDTo6j0i",
    "ySQQp0oQt1Ep",
    "LL6_Rjg3InL8"
   ]
  }
 },
 "cells": [
  {
   "cell_type": "markdown",
   "metadata": {
    "id": "Ot3c4fjZwC4T"
   },
   "source": [
    "<img src=\"https://s8.hostingkartinok.com/uploads/images/2018/08/308b49fcfbc619d629fe4604bceb67ac.jpg\" width=500, height=450>\n",
    "<h3 style=\"text-align: center;\"><b>Физтех-Школа Прикладной математики и информатики (ФПМИ) МФТИ</b></h3>"
   ]
  },
  {
   "cell_type": "markdown",
   "metadata": {
    "id": "P2JdzEXmwRU5"
   },
   "source": [
    "---"
   ]
  },
  {
   "cell_type": "markdown",
   "metadata": {
    "id": "Fc8iHXIVwDwj"
   },
   "source": [
    "***Some parts of the notebook are almost the copy of [ mmta-team course](https://github.com/mmta-team/mmta_fall_2020). Special thanks to mmta-team for making them publicly available. [Original notebook](https://github.com/mmta-team/mmta_fall_2020/blob/master/tasks/01_word_embeddings/task_word_embeddings.ipynb).***"
   ]
  },
  {
   "cell_type": "markdown",
   "metadata": {
    "id": "7D0wm5jt6j0U"
   },
   "source": [
    "<b> Прочитайте семинар, пожалуйста, для успешного выполнения домашнего задания. В конце ноутка напишите свой вывод. Работа без вывода оценивается ниже."
   ]
  },
  {
   "cell_type": "markdown",
   "metadata": {
    "id": "BIWqBuEa6j0b"
   },
   "source": [
    "## Задача поиска схожих по смыслу предложений"
   ]
  },
  {
   "cell_type": "markdown",
   "metadata": {
    "id": "NUkwMPLA6j0g"
   },
   "source": [
    "Мы будем ранжировать вопросы [StackOverflow](https://stackoverflow.com) на основе семантического векторного представления "
   ]
  },
  {
   "cell_type": "markdown",
   "metadata": {
    "id": "dNRXIEfu5a3Q"
   },
   "source": [
    "До этого в курсе не было речи про задачу ранжировния, поэтому введем математическую формулировку"
   ]
  },
  {
   "cell_type": "markdown",
   "metadata": {
    "id": "uS9FwWNd5a3S"
   },
   "source": [
    "## Задача ранжирования(Learning to Rank)"
   ]
  },
  {
   "cell_type": "markdown",
   "metadata": {
    "id": "wdwY9-f75a3T"
   },
   "source": [
    "* $X$ - множество объектов\n",
    "* $X^l = \\{x_1, x_2, ..., x_l\\}$ - обучающая выборка\n",
    "<br>На обучающей выборке задан порядок между некоторыми элементами, то есть нам известно, что некий объект выборки более релевантный для нас, чем другой:\n",
    "* $i \\prec j$ - порядок пары индексов объектов на выборке $X^l$ c индексами $i$ и $j$\n",
    "### Задача:\n",
    "построить ранжирующую функцию $a$ : $X \\rightarrow R$ такую, что\n",
    "$$i \\prec j \\Rightarrow a(x_i) < a(x_j)$$"
   ]
  },
  {
   "cell_type": "markdown",
   "metadata": {
    "id": "WG2IGBsh5a3U"
   },
   "source": [
    "<img src=\"https://d25skit2l41vkl.cloudfront.net/wp-content/uploads/2016/12/Featured-Image.jpg\" width=500, height=450>"
   ]
  },
  {
   "cell_type": "markdown",
   "metadata": {
    "id": "MQk_rolFwT_h"
   },
   "source": [
    "### Embeddings"
   ]
  },
  {
   "cell_type": "markdown",
   "metadata": {
    "id": "xUe1PGXn6j0l"
   },
   "source": [
    "Будем использовать предобученные векторные представления слов на постах Stack Overflow.<br>\n",
    "[A word2vec model trained on Stack Overflow posts](https://github.com/vefstathiou/SO_word2vec)"
   ]
  },
  {
   "metadata": {
    "ExecuteTime": {
     "end_time": "2025-01-20T16:42:47.053129Z",
     "start_time": "2025-01-20T16:42:47.047942Z"
    }
   },
   "cell_type": "code",
   "source": "import math",
   "outputs": [],
   "execution_count": 1
  },
  {
   "metadata": {},
   "cell_type": "markdown",
   "source": "Dataset: https://zenodo.org/record/1199620/files/SO_vectors_200.bin?download=1"
  },
  {
   "cell_type": "code",
   "metadata": {
    "id": "O8YJTOYv6j0s",
    "ExecuteTime": {
     "end_time": "2025-01-20T16:43:00.225579Z",
     "start_time": "2025-01-20T16:42:47.076706Z"
    }
   },
   "source": [
    "from gensim.models.keyedvectors import KeyedVectors\n",
    "wv_embeddings = KeyedVectors.load_word2vec_format(\"../../datasets/SO_vectors_200.bin\", binary=True)"
   ],
   "outputs": [],
   "execution_count": 2
  },
  {
   "metadata": {
    "ExecuteTime": {
     "end_time": "2025-01-20T16:43:01.018204Z",
     "start_time": "2025-01-20T16:43:00.425593Z"
    }
   },
   "cell_type": "code",
   "source": [
    "outlier = wv_embeddings.doesnt_match([\"python\", \"java\", \"c\", \"dog\"])  # Находит \"лишнее\" слово в списке\n",
    "outlier"
   ],
   "outputs": [
    {
     "data": {
      "text/plain": [
       "'dog'"
      ]
     },
     "execution_count": 3,
     "metadata": {},
     "output_type": "execute_result"
    }
   ],
   "execution_count": 3
  },
  {
   "metadata": {
    "ExecuteTime": {
     "end_time": "2025-01-20T16:43:01.063847Z",
     "start_time": "2025-01-20T16:43:01.058850Z"
    }
   },
   "cell_type": "code",
   "source": "wv_embeddings.similarity('dog', 'cat')  # Возвращает коэффициент косинусной близости между двумя словами.",
   "outputs": [
    {
     "data": {
      "text/plain": [
       "0.6852341"
      ]
     },
     "execution_count": 4,
     "metadata": {},
     "output_type": "execute_result"
    }
   ],
   "execution_count": 4
  },
  {
   "metadata": {},
   "cell_type": "markdown",
   "source": [
    "Косинусная сходство: \n",
    "\n",
    "![Косинусное сходство](https://avatars.mds.yandex.net/i?id=bb9eff763a532435d4cca4f948d40d74_l-5235567-images-thumbs&n=13)\n"
   ]
  },
  {
   "metadata": {
    "ExecuteTime": {
     "end_time": "2025-01-20T16:43:01.131099Z",
     "start_time": "2025-01-20T16:43:01.126037Z"
    }
   },
   "cell_type": "code",
   "source": "wv_embeddings.index_to_key[0:10]",
   "outputs": [
    {
     "data": {
      "text/plain": [
       "['use', 'code', 'using', 'like', 'will', 'want', 'need', 'get', 'file', 'one']"
      ]
     },
     "execution_count": 5,
     "metadata": {},
     "output_type": "execute_result"
    }
   ],
   "execution_count": 5
  },
  {
   "metadata": {
    "ExecuteTime": {
     "end_time": "2025-01-20T16:43:01.277846Z",
     "start_time": "2025-01-20T16:43:01.195847Z"
    }
   },
   "cell_type": "code",
   "source": "wv_embeddings.most_similar(positive=['django', 'python'], negative=['ruby'], topn=3)",
   "outputs": [
    {
     "data": {
      "text/plain": [
       "[('web2py', 0.6115486025810242),\n",
       " ('flask', 0.5925045609474182),\n",
       " ('djangos', 0.5907748341560364)]"
      ]
     },
     "execution_count": 6,
     "metadata": {},
     "output_type": "execute_result"
    }
   ],
   "execution_count": 6
  },
  {
   "metadata": {
    "ExecuteTime": {
     "end_time": "2025-01-20T16:43:01.406646Z",
     "start_time": "2025-01-20T16:43:01.328846Z"
    }
   },
   "cell_type": "code",
   "source": "wv_embeddings.most_similar(positive=['pandas', 'python'], negative=['r'], topn=3)",
   "outputs": [
    {
     "data": {
      "text/plain": [
       "[('pythons', 0.6542717218399048),\n",
       " ('pytables', 0.6075527667999268),\n",
       " ('python3', 0.5946738719940186)]"
      ]
     },
     "execution_count": 7,
     "metadata": {},
     "output_type": "execute_result"
    }
   ],
   "execution_count": 7
  },
  {
   "metadata": {
    "ExecuteTime": {
     "end_time": "2025-01-20T16:43:01.460383Z",
     "start_time": "2025-01-20T16:43:01.455487Z"
    }
   },
   "cell_type": "code",
   "source": "wv_embeddings[0].shape",
   "outputs": [
    {
     "data": {
      "text/plain": [
       "(200,)"
      ]
     },
     "execution_count": 8,
     "metadata": {},
     "output_type": "execute_result"
    }
   ],
   "execution_count": 8
  },
  {
   "cell_type": "markdown",
   "metadata": {
    "id": "aIcT_g-C6j1E"
   },
   "source": [
    "#### Как пользоваться этими векторами?"
   ]
  },
  {
   "cell_type": "markdown",
   "metadata": {
    "id": "DWO5SPDY6j1G"
   },
   "source": [
    "Посмотрим на примере одного слова, что из себя представляет embedding"
   ]
  },
  {
   "cell_type": "code",
   "metadata": {
    "scrolled": true,
    "id": "KeSBlQfk6j1J",
    "ExecuteTime": {
     "end_time": "2025-01-20T16:43:01.497950Z",
     "start_time": "2025-01-20T16:43:01.493421Z"
    }
   },
   "source": [
    "word = 'dog'\n",
    "if word in wv_embeddings:\n",
    "    print(wv_embeddings[word].dtype, wv_embeddings[word].shape)"
   ],
   "outputs": [
    {
     "name": "stdout",
     "output_type": "stream",
     "text": [
      "float32 (200,)\n"
     ]
    }
   ],
   "execution_count": 9
  },
  {
   "cell_type": "code",
   "metadata": {
    "id": "T4Eq-D1qxpMJ",
    "ExecuteTime": {
     "end_time": "2025-01-20T16:43:01.562530Z",
     "start_time": "2025-01-20T16:43:01.559298Z"
    }
   },
   "source": "print(f\"Num of words: {len(wv_embeddings.index_to_key)}\")",
   "outputs": [
    {
     "name": "stdout",
     "output_type": "stream",
     "text": [
      "Num of words: 1787145\n"
     ]
    }
   ],
   "execution_count": 10
  },
  {
   "cell_type": "markdown",
   "metadata": {
    "id": "ZT6NTCys6j1Q"
   },
   "source": [
    "Найдем наиболее близкие слова к слову `dog`:"
   ]
  },
  {
   "metadata": {
    "ExecuteTime": {
     "end_time": "2025-01-20T16:43:01.695807Z",
     "start_time": "2025-01-20T16:43:01.622529Z"
    }
   },
   "cell_type": "code",
   "source": "wv_embeddings.most_similar(positive=['dog'], topn=5)",
   "outputs": [
    {
     "data": {
      "text/plain": [
       "[('animal', 0.8564180135726929),\n",
       " ('dogs', 0.7880866527557373),\n",
       " ('mammal', 0.7623804211616516),\n",
       " ('cats', 0.7621253728866577),\n",
       " ('animals', 0.760793924331665)]"
      ]
     },
     "execution_count": 11,
     "metadata": {},
     "output_type": "execute_result"
    }
   ],
   "execution_count": 11
  },
  {
   "cell_type": "markdown",
   "metadata": {
    "id": "n08z2PjMwC5o"
   },
   "source": [
    "#### Вопрос 1:\n",
    "* Входит ли слов `cat` топ-5 близких слов к слову `dog`? Какое место? "
   ]
  },
  {
   "metadata": {
    "scrolled": true,
    "id": "nYwVz0xG6j1U",
    "ExecuteTime": {
     "end_time": "2025-01-20T16:43:01.855121Z",
     "start_time": "2025-01-20T16:43:01.769454Z"
    }
   },
   "cell_type": "code",
   "source": [
    "for i, obj in enumerate(wv_embeddings.most_similar(positive=['cat'], topn=5)):\n",
    "    word, similary = obj\n",
    "    if 'dog' == word:\n",
    "        print(f'top: {i + 1}, word: {word}, similary: {similary}')\n",
    "        break"
   ],
   "outputs": [
    {
     "name": "stdout",
     "output_type": "stream",
     "text": [
      "top: 2, word: dog, similary: 0.6852341890335083\n"
     ]
    }
   ],
   "execution_count": 12
  },
  {
   "cell_type": "markdown",
   "metadata": {
    "id": "ai48-5vv6j1d"
   },
   "source": [
    "### Векторные представления текста\n",
    "\n",
    "Перейдем от векторных представлений отдельных слов к векторным представлениям вопросов, как к **среднему** векторов всех слов в вопросе. Если для какого-то слова нет предобученного вектора, то его нужно пропустить. Если вопрос не содержит ни одного известного слова, то нужно вернуть нулевой вектор."
   ]
  },
  {
   "cell_type": "code",
   "metadata": {
    "id": "EhNuxBJd6j1f",
    "ExecuteTime": {
     "end_time": "2025-01-20T18:45:07.883585Z",
     "start_time": "2025-01-20T18:45:07.880652Z"
    }
   },
   "source": [
    "import re\n",
    "import numpy as np\n",
    "\n",
    "# you can use your tokenizer\n",
    "# for example, from nltk.tokenize import WordPunctTokenizer\n",
    "\n",
    "class MyTokenizer:\n",
    "    def __init__(self):\n",
    "        pass\n",
    "    def tokenize(self, text):\n",
    "        return re.findall(r'\\w+', text)\n",
    "tokenizer = MyTokenizer()"
   ],
   "outputs": [],
   "execution_count": 92
  },
  {
   "cell_type": "code",
   "metadata": {
    "id": "YHcvu6186j1m",
    "ExecuteTime": {
     "end_time": "2025-01-20T18:45:08.086162Z",
     "start_time": "2025-01-20T18:45:08.083064Z"
    }
   },
   "source": [
    "def question_to_vec(question, embeddings, tokenizer, dim=200):\n",
    "    \"\"\"\n",
    "        question: строка\n",
    "        embeddings: наше векторное представление\n",
    "        dim: размер любого вектора в нашем представлении\n",
    "        \n",
    "        return: векторное представление для вопроса\n",
    "    \"\"\"\n",
    "    \n",
    "    emb_means = []\n",
    "    for word in tokenizer.tokenize(question):\n",
    "        if word in embeddings:\n",
    "            emb_means.append(embeddings[word])\n",
    "    \n",
    "    if len(emb_means) == 0:\n",
    "        return np.zeros(dim)\n",
    "    return np.array(emb_means, dtype='float32').mean(axis=0)"
   ],
   "outputs": [],
   "execution_count": 93
  },
  {
   "cell_type": "markdown",
   "metadata": {
    "id": "u5Q_4j7r6j1u"
   },
   "source": [
    "Теперь у нас есть метод для создания векторного представления любого предложения."
   ]
  },
  {
   "cell_type": "markdown",
   "metadata": {
    "id": "EsJSNkhm6j1y"
   },
   "source": [
    "#### Вопрос 2:\n",
    "* Какая третья(с индексом 2) компонента вектора предложения `I love neural networks` (округлите до 2 знаков после запятой)?"
   ]
  },
  {
   "cell_type": "code",
   "metadata": {
    "scrolled": true,
    "id": "a62r11cT6j10",
    "ExecuteTime": {
     "end_time": "2025-01-20T18:45:08.555286Z",
     "start_time": "2025-01-20T18:45:08.552174Z"
    }
   },
   "source": "text = 'I love neural networks'",
   "outputs": [],
   "execution_count": 94
  },
  {
   "metadata": {
    "ExecuteTime": {
     "end_time": "2025-01-20T18:45:08.773778Z",
     "start_time": "2025-01-20T18:45:08.768629Z"
    }
   },
   "cell_type": "code",
   "source": [
    "vector = question_to_vec(text, wv_embeddings, tokenizer)\n",
    "vector"
   ],
   "outputs": [
    {
     "data": {
      "text/plain": [
       "array([-1.0142275 , -1.6891261 , -1.2854122 , -1.3710302 ,  0.15916634,\n",
       "        0.06706961,  1.1188413 , -0.07051762,  0.5386369 , -0.37139115,\n",
       "        0.28913018,  1.03125   , -2.865466  , -1.3192873 ,  2.2098296 ,\n",
       "        1.1678672 ,  1.0841951 ,  1.8467226 , -0.98733807,  0.8720946 ,\n",
       "       -0.17219625,  0.73839015, -0.7827826 , -0.8827869 , -0.6152611 ,\n",
       "       -0.15872358, -0.6170798 ,  0.36668167,  2.0137532 ,  0.2627472 ,\n",
       "       -1.4950123 , -1.386715  , -1.2049937 , -1.016617  ,  2.7621174 ,\n",
       "        1.7255713 , -0.19038178, -0.5899447 , -0.1141155 , -1.8890352 ,\n",
       "       -1.7883505 , -0.20420384, -0.7062034 ,  2.489034  , -0.15452717,\n",
       "        1.1255013 ,  0.2610835 ,  1.3153247 , -0.57667524, -0.3327141 ,\n",
       "        1.6764902 ,  0.91229993, -0.69880134,  2.3752553 , -1.7634224 ,\n",
       "        3.1378052 ,  1.2243204 , -1.0554415 ,  0.7897571 ,  0.04404024,\n",
       "        1.1623045 , -0.4478023 , -0.9149816 ,  0.01501505, -0.85523087,\n",
       "       -1.0183454 , -0.7162116 ,  1.0727204 ,  0.8881876 , -0.29789424,\n",
       "        1.4994873 , -0.9384045 , -1.6828092 ,  1.0525229 ,  0.77871495,\n",
       "       -3.34081   ,  0.15682733,  0.7449282 , -1.4001557 ,  0.26698634,\n",
       "       -0.73809963,  0.37732854, -1.186255  , -1.5580353 , -1.6205387 ,\n",
       "        0.3077639 , -0.6114703 ,  2.3046587 , -1.5368671 ,  1.1242722 ,\n",
       "        1.1441461 , -1.1531478 , -0.5860432 , -0.51876646,  0.0847506 ,\n",
       "        0.55700606,  0.23870413,  1.9462968 ,  0.53030854,  2.6519432 ,\n",
       "       -0.44217658, -1.3738413 , -2.3082082 , -1.7291006 ,  0.09150317,\n",
       "        0.5256326 , -1.2948507 ,  0.47028258, -0.27833918,  1.7435821 ,\n",
       "        1.2399105 , -0.5580708 ,  1.1559254 ,  0.41553274,  1.609121  ,\n",
       "        1.7537718 , -1.77554   ,  0.44009423, -1.2379423 ,  0.10831648,\n",
       "       -0.6030591 , -2.0164118 , -0.741288  ,  1.3980994 , -0.16379206,\n",
       "       -0.68049955, -0.5787128 , -0.39811432,  0.01662459, -0.02013254,\n",
       "       -1.4819161 , -1.5942149 ,  1.7215437 ,  1.3974282 ,  1.8339332 ,\n",
       "       -1.6149954 ,  1.6407114 ,  0.01269384,  0.8794584 ,  0.8255847 ,\n",
       "       -1.4109812 , -0.6173281 , -0.35946855,  0.6510838 , -1.4075956 ,\n",
       "        1.1300169 , -0.93034726, -2.0259316 ,  0.76860523,  1.2960612 ,\n",
       "       -0.889519  ,  1.3354112 ,  0.99171686,  0.9166878 ,  1.4183179 ,\n",
       "        1.3392485 , -2.2770903 ,  2.0534172 , -0.06724194, -2.3479369 ,\n",
       "       -1.8847011 , -0.02379521, -0.26363063,  1.0747885 , -0.3491387 ,\n",
       "       -0.7492485 ,  0.6601408 ,  0.02122569,  0.35414076,  0.21582615,\n",
       "        0.5345003 ,  0.8234115 ,  0.03441159,  1.2792889 ,  0.57790637,\n",
       "       -1.0084995 , -1.4206891 ,  1.8025084 ,  0.8448728 ,  0.35306382,\n",
       "       -0.61330116, -0.4524261 , -0.4341513 , -0.1759737 , -0.7880316 ,\n",
       "        0.02072136,  0.683048  , -0.3041604 ,  1.2950336 , -0.92554665,\n",
       "       -1.357943  ,  0.16884269, -1.2752739 ,  0.02057016, -1.4632632 ,\n",
       "       -0.57811093,  0.9936001 ,  1.8199921 , -1.6206802 ,  0.8086469 ],\n",
       "      dtype=float32)"
      ]
     },
     "execution_count": 95,
     "metadata": {},
     "output_type": "execute_result"
    }
   ],
   "execution_count": 95
  },
  {
   "metadata": {
    "ExecuteTime": {
     "end_time": "2025-01-20T18:45:08.983778Z",
     "start_time": "2025-01-20T18:45:08.980203Z"
    }
   },
   "cell_type": "code",
   "source": "round(vector[2], 2)",
   "outputs": [
    {
     "data": {
      "text/plain": [
       "-1.29"
      ]
     },
     "execution_count": 96,
     "metadata": {},
     "output_type": "execute_result"
    }
   ],
   "execution_count": 96
  },
  {
   "metadata": {
    "ExecuteTime": {
     "end_time": "2025-01-20T18:45:09.166939Z",
     "start_time": "2025-01-20T18:45:09.161421Z"
    }
   },
   "cell_type": "code",
   "source": [
    "from nltk.tokenize import WordPunctTokenizer\n",
    "\n",
    "tokenizer = WordPunctTokenizer()\n",
    "vector = question_to_vec(text, wv_embeddings, tokenizer)\n",
    "vector"
   ],
   "outputs": [
    {
     "data": {
      "text/plain": [
       "array([-1.0142275 , -1.6891261 , -1.2854122 , -1.3710302 ,  0.15916634,\n",
       "        0.06706961,  1.1188413 , -0.07051762,  0.5386369 , -0.37139115,\n",
       "        0.28913018,  1.03125   , -2.865466  , -1.3192873 ,  2.2098296 ,\n",
       "        1.1678672 ,  1.0841951 ,  1.8467226 , -0.98733807,  0.8720946 ,\n",
       "       -0.17219625,  0.73839015, -0.7827826 , -0.8827869 , -0.6152611 ,\n",
       "       -0.15872358, -0.6170798 ,  0.36668167,  2.0137532 ,  0.2627472 ,\n",
       "       -1.4950123 , -1.386715  , -1.2049937 , -1.016617  ,  2.7621174 ,\n",
       "        1.7255713 , -0.19038178, -0.5899447 , -0.1141155 , -1.8890352 ,\n",
       "       -1.7883505 , -0.20420384, -0.7062034 ,  2.489034  , -0.15452717,\n",
       "        1.1255013 ,  0.2610835 ,  1.3153247 , -0.57667524, -0.3327141 ,\n",
       "        1.6764902 ,  0.91229993, -0.69880134,  2.3752553 , -1.7634224 ,\n",
       "        3.1378052 ,  1.2243204 , -1.0554415 ,  0.7897571 ,  0.04404024,\n",
       "        1.1623045 , -0.4478023 , -0.9149816 ,  0.01501505, -0.85523087,\n",
       "       -1.0183454 , -0.7162116 ,  1.0727204 ,  0.8881876 , -0.29789424,\n",
       "        1.4994873 , -0.9384045 , -1.6828092 ,  1.0525229 ,  0.77871495,\n",
       "       -3.34081   ,  0.15682733,  0.7449282 , -1.4001557 ,  0.26698634,\n",
       "       -0.73809963,  0.37732854, -1.186255  , -1.5580353 , -1.6205387 ,\n",
       "        0.3077639 , -0.6114703 ,  2.3046587 , -1.5368671 ,  1.1242722 ,\n",
       "        1.1441461 , -1.1531478 , -0.5860432 , -0.51876646,  0.0847506 ,\n",
       "        0.55700606,  0.23870413,  1.9462968 ,  0.53030854,  2.6519432 ,\n",
       "       -0.44217658, -1.3738413 , -2.3082082 , -1.7291006 ,  0.09150317,\n",
       "        0.5256326 , -1.2948507 ,  0.47028258, -0.27833918,  1.7435821 ,\n",
       "        1.2399105 , -0.5580708 ,  1.1559254 ,  0.41553274,  1.609121  ,\n",
       "        1.7537718 , -1.77554   ,  0.44009423, -1.2379423 ,  0.10831648,\n",
       "       -0.6030591 , -2.0164118 , -0.741288  ,  1.3980994 , -0.16379206,\n",
       "       -0.68049955, -0.5787128 , -0.39811432,  0.01662459, -0.02013254,\n",
       "       -1.4819161 , -1.5942149 ,  1.7215437 ,  1.3974282 ,  1.8339332 ,\n",
       "       -1.6149954 ,  1.6407114 ,  0.01269384,  0.8794584 ,  0.8255847 ,\n",
       "       -1.4109812 , -0.6173281 , -0.35946855,  0.6510838 , -1.4075956 ,\n",
       "        1.1300169 , -0.93034726, -2.0259316 ,  0.76860523,  1.2960612 ,\n",
       "       -0.889519  ,  1.3354112 ,  0.99171686,  0.9166878 ,  1.4183179 ,\n",
       "        1.3392485 , -2.2770903 ,  2.0534172 , -0.06724194, -2.3479369 ,\n",
       "       -1.8847011 , -0.02379521, -0.26363063,  1.0747885 , -0.3491387 ,\n",
       "       -0.7492485 ,  0.6601408 ,  0.02122569,  0.35414076,  0.21582615,\n",
       "        0.5345003 ,  0.8234115 ,  0.03441159,  1.2792889 ,  0.57790637,\n",
       "       -1.0084995 , -1.4206891 ,  1.8025084 ,  0.8448728 ,  0.35306382,\n",
       "       -0.61330116, -0.4524261 , -0.4341513 , -0.1759737 , -0.7880316 ,\n",
       "        0.02072136,  0.683048  , -0.3041604 ,  1.2950336 , -0.92554665,\n",
       "       -1.357943  ,  0.16884269, -1.2752739 ,  0.02057016, -1.4632632 ,\n",
       "       -0.57811093,  0.9936001 ,  1.8199921 , -1.6206802 ,  0.8086469 ],\n",
       "      dtype=float32)"
      ]
     },
     "execution_count": 97,
     "metadata": {},
     "output_type": "execute_result"
    }
   ],
   "execution_count": 97
  },
  {
   "metadata": {
    "ExecuteTime": {
     "end_time": "2025-01-20T18:45:09.381497Z",
     "start_time": "2025-01-20T18:45:09.377657Z"
    }
   },
   "cell_type": "code",
   "source": "round(vector[2], 2)",
   "outputs": [
    {
     "data": {
      "text/plain": [
       "-1.29"
      ]
     },
     "execution_count": 98,
     "metadata": {},
     "output_type": "execute_result"
    }
   ],
   "execution_count": 98
  },
  {
   "cell_type": "markdown",
   "metadata": {
    "id": "Y60z4t6W6j16"
   },
   "source": [
    "### Оценка близости текстов\n",
    "\n",
    "Представим, что мы используем идеальные векторные представления слов. Тогда косинусное расстояние между дублирующими предложениями должно быть меньше, чем между случайно взятыми предложениями. \n",
    "\n",
    "Сгенерируем для каждого из $N$ вопросов $R$ случайных отрицательных примеров и примешаем к ним также настоящие дубликаты. Для каждого вопроса будем ранжировать с помощью нашей модели $R + 1$ примеров и смотреть на позицию дубликата. Мы хотим, чтобы дубликат был первым в ранжированном списке.\n",
    "\n",
    "#### Hits@K\n",
    "Первой простой метрикой будет количество корректных попаданий для какого-то $K$:\n",
    "$$ \\text{Hits@K} = \\frac{1}{N}\\sum_{i=1}^N \\, [rank\\_q_i^{'} \\le K],$$\n",
    "* $\\begin{equation*}\n",
    "[x < 0 ] \\equiv \n",
    " \\begin{cases}\n",
    "   1, &x < 0\\\\\n",
    "   0, &x \\geq 0\n",
    " \\end{cases}\n",
    "\\end{equation*}$ - индикаторная функция\n",
    "* $q_i$ - $i$-ый вопрос\n",
    "* $q_i^{'}$ - его дубликат\n",
    "* $rank\\_q_i^{'}$ - позиция дубликата в ранжированном списке ближайших предложений для вопроса $q_i$.\n",
    "\n",
    "#### DCG@K\n",
    "Второй метрикой будет упрощенная DCG метрика, учитывающая порядок элементов в списке путем домножения релевантности элемента на вес равный обратному логарифму номера позиции::\n",
    "$$ \\text{DCG@K} = \\frac{1}{N} \\sum_{i=1}^N\\frac{1}{\\log_2(1+rank\\_q_i^{'})}\\cdot[rank\\_q_i^{'} \\le K],$$\n",
    "С такой метрикой модель штрафуется за большой ранк корректного ответа"
   ]
  },
  {
   "cell_type": "markdown",
   "metadata": {
    "id": "eHCnH-jw6j18"
   },
   "source": [
    "#### Вопрос 3:\n",
    "* Максимум `Hits@47 - DCG@1`?\n",
    "\n",
    "1 - min(DCG)? min(DSG) = 0 => Ответ: 1."
   ]
  },
  {
   "cell_type": "markdown",
   "metadata": {
    "id": "_tFemBkP6j1-"
   },
   "source": [
    "<img src='https://hsto.org/files/1c5/edf/dee/1c5edfdeebce4b71a86bdf986d9f88f2.jpg' width=400, height=200>"
   ]
  },
  {
   "cell_type": "markdown",
   "metadata": {
    "id": "0sUSxk866j1_"
   },
   "source": [
    "#### Пример оценок\n",
    "\n",
    "Вычислим описанные выше метрики для игрушечного примера. \n",
    "Пусть\n",
    "* $N = 1$, $R = 3$\n",
    "* <font color='green'>\"Что такое python?\"</font> - вопрос $q_1$\n",
    "* <font color='red'>\"Что такое язык python?\"</font> - его дубликат $q_i^{'}$\n",
    "\n",
    "Пусть модель выдала следующий ранжированный список кандидатов:\n",
    "\n",
    "1. \"Как изучить с++?\"\n",
    "2. <font color='red'>\"Что такое язык python?\"</font>\n",
    "3. \"Хочу учить Java\"\n",
    "4. \"Не понимаю Tensorflow\"\n",
    "\n",
    "$\\Rightarrow rank\\_q_i^{'} = 2$\n",
    "\n",
    "Вычислим метрику *Hits@K* для *K = 1, 4*:\n",
    "\n",
    "- [K = 1] $\\text{Hits@1} =  [rank\\_q_i^{'} \\le 1] = 0$\n",
    "- [K = 4] $\\text{Hits@4} =  [rank\\_q_i^{'} \\le 4] = 1$\n",
    "\n",
    "Вычислим метрику *DCG@K* для *K = 1, 4*:\n",
    "- [K = 1] $\\text{DCG@1} = \\frac{1}{\\log_2(1+2)}\\cdot[2 \\le 1] = 0$\n",
    "- [K = 4] $\\text{DCG@4} = \\frac{1}{\\log_2(1+2)}\\cdot[2 \\le 4] = \\frac{1}{\\log_2{3}}$"
   ]
  },
  {
   "cell_type": "markdown",
   "metadata": {
    "id": "B4L6HJJC6j2B"
   },
   "source": [
    "#### Вопрос 4:\n",
    "* Вычислите `DCG@10`, если $rank\\_q_i^{'} = 9$(округлите до одного знака после запятой)\n",
    "\n",
    "- [K = 10] $\\text{DCG@10} = \\frac{1}{\\log_2(1+9)}\\cdot[9 \\le 10] = \\frac{1}{\\log_2{10}} \\approx 0,3$"
   ]
  },
  {
   "cell_type": "markdown",
   "metadata": {
    "id": "J5xWOORI6j2F"
   },
   "source": [
    "### HITS\\_COUNT и DCG\\_SCORE"
   ]
  },
  {
   "cell_type": "markdown",
   "metadata": {
    "id": "I1q9WQOx6j2H"
   },
   "source": [
    "Каждая функция имеет два аргумента: $dup\\_ranks$ и $k$. $dup\\_ranks$ является списком, который содержит рейтинги дубликатов(их позиции в ранжированном списке). Например, $dup\\_ranks = [2]$ для примера, описанного выше."
   ]
  },
  {
   "cell_type": "code",
   "metadata": {
    "id": "F5VwySUB6j2J",
    "ExecuteTime": {
     "end_time": "2025-01-20T18:45:10.868967Z",
     "start_time": "2025-01-20T18:45:10.865579Z"
    }
   },
   "source": [
    "def hits_count(dup_ranks, k):\n",
    "    \"\"\"\n",
    "        dup_ranks: list индексов дубликатов\n",
    "        result: вернуть  Hits@k\n",
    "    \"\"\"\n",
    "    \n",
    "    return sum(rank_qi <= k for rank_qi in dup_ranks) / len(dup_ranks)"
   ],
   "outputs": [],
   "execution_count": 99
  },
  {
   "cell_type": "code",
   "metadata": {
    "id": "82hQaxCH6j2R",
    "ExecuteTime": {
     "end_time": "2025-01-20T18:45:11.079490Z",
     "start_time": "2025-01-20T18:45:11.075278Z"
    }
   },
   "source": [
    "def dcg_score(dup_ranks, k):\n",
    "    \"\"\"\n",
    "        dup_ranks: list индексов дубликатов\n",
    "        result: вернуть DCG@k\n",
    "    \"\"\"\n",
    "\n",
    "    return sum((1 / math.log2(1 + rank_qi)) if rank_qi <= k else 0 for rank_qi in dup_ranks) / len(dup_ranks)"
   ],
   "outputs": [],
   "execution_count": 100
  },
  {
   "cell_type": "markdown",
   "metadata": {
    "id": "PcwHeXN26j2Y"
   },
   "source": [
    "Протестируем функции. Пусть $N = 1$, то есть один эксперимент. Будем искать копию вопроса и оценивать метрики."
   ]
  },
  {
   "cell_type": "code",
   "metadata": {
    "id": "fjISmOEW6j2h",
    "ExecuteTime": {
     "end_time": "2025-01-20T18:45:11.487214Z",
     "start_time": "2025-01-20T18:45:11.483931Z"
    }
   },
   "source": [
    "import pandas as pd"
   ],
   "outputs": [],
   "execution_count": 101
  },
  {
   "cell_type": "code",
   "metadata": {
    "id": "gLa_Wqfh6j2m",
    "ExecuteTime": {
     "end_time": "2025-01-20T18:45:11.708168Z",
     "start_time": "2025-01-20T18:45:11.703930Z"
    }
   },
   "source": [
    "copy_answers = [\"How does the catch keyword determine the type of exception that was thrown\",]\n",
    "\n",
    "# наши кандидаты\n",
    "candidates_ranking = [[\"How Can I Make These Links Rotate in PHP\",\n",
    "                       \"How does the catch keyword determine the type of exception that was thrown\",\n",
    "                       \"NSLog array description not memory address\",\n",
    "                       \"PECL_HTTP not recognised php ubuntu\"],]\n",
    "# dup_ranks — позиции наших копий, так как эксперимент один, то этот массив длины 1\n",
    "dup_ranks = [2]\n",
    "\n",
    "# вычисляем метрику для разных k\n",
    "print('Ваш ответ HIT:', [hits_count(dup_ranks, k) for k in range(1, 5)])\n",
    "print('Ваш ответ DCG:', [round(dcg_score(dup_ranks, k), 5) for k in range(1, 5)])"
   ],
   "outputs": [
    {
     "name": "stdout",
     "output_type": "stream",
     "text": [
      "Ваш ответ HIT: [0.0, 1.0, 1.0, 1.0]\n",
      "Ваш ответ DCG: [0.0, 0.63093, 0.63093, 0.63093]\n"
     ]
    }
   ],
   "execution_count": 102
  },
  {
   "cell_type": "markdown",
   "metadata": {
    "id": "MoHC3YoQ6j2t"
   },
   "source": [
    "У вас должно получиться"
   ]
  },
  {
   "cell_type": "code",
   "metadata": {
    "scrolled": true,
    "id": "B0NFWq4f6j2u",
    "ExecuteTime": {
     "end_time": "2025-01-20T18:45:12.596948Z",
     "start_time": "2025-01-20T18:45:12.589272Z"
    }
   },
   "source": [
    "# correct_answers - метрика для разных k\n",
    "correct_answers = pd.DataFrame([[0, 1, 1, 1], [0, 1 / (np.log2(3)), 1 / (np.log2(3)), 1 / (np.log2(3))]],\n",
    "                               index=['HITS', 'DCG'], columns=range(1,5))\n",
    "correct_answers"
   ],
   "outputs": [
    {
     "data": {
      "text/plain": [
       "      1        2        3        4\n",
       "HITS  0  1.00000  1.00000  1.00000\n",
       "DCG   0  0.63093  0.63093  0.63093"
      ],
      "text/html": [
       "<div>\n",
       "<style scoped>\n",
       "    .dataframe tbody tr th:only-of-type {\n",
       "        vertical-align: middle;\n",
       "    }\n",
       "\n",
       "    .dataframe tbody tr th {\n",
       "        vertical-align: top;\n",
       "    }\n",
       "\n",
       "    .dataframe thead th {\n",
       "        text-align: right;\n",
       "    }\n",
       "</style>\n",
       "<table border=\"1\" class=\"dataframe\">\n",
       "  <thead>\n",
       "    <tr style=\"text-align: right;\">\n",
       "      <th></th>\n",
       "      <th>1</th>\n",
       "      <th>2</th>\n",
       "      <th>3</th>\n",
       "      <th>4</th>\n",
       "    </tr>\n",
       "  </thead>\n",
       "  <tbody>\n",
       "    <tr>\n",
       "      <th>HITS</th>\n",
       "      <td>0</td>\n",
       "      <td>1.00000</td>\n",
       "      <td>1.00000</td>\n",
       "      <td>1.00000</td>\n",
       "    </tr>\n",
       "    <tr>\n",
       "      <th>DCG</th>\n",
       "      <td>0</td>\n",
       "      <td>0.63093</td>\n",
       "      <td>0.63093</td>\n",
       "      <td>0.63093</td>\n",
       "    </tr>\n",
       "  </tbody>\n",
       "</table>\n",
       "</div>"
      ]
     },
     "execution_count": 103,
     "metadata": {},
     "output_type": "execute_result"
    }
   ],
   "execution_count": 103
  },
  {
   "cell_type": "markdown",
   "metadata": {
    "id": "tHZqgDTo6j0i"
   },
   "source": [
    "### Данные\n",
    "[arxiv link](https://drive.google.com/file/d/1QqT4D0EoqJTy7v9VrNCYD-m964XZFR7_/edit)\n",
    "\n",
    "`train.tsv` - выборка для обучения.<br> В каждой строке через табуляцию записаны: **<вопрос>, <похожий вопрос>**\n",
    "\n",
    "`validation.tsv` - тестовая выборка.<br> В каждой строке через табуляцию записаны: **<вопрос>, <похожий вопрос>, <отрицательный пример 1>, <отрицательный пример 2>, ...**"
   ]
  },
  {
   "metadata": {},
   "cell_type": "markdown",
   "source": "!unzip stackoverflow_similar_questions.zip"
  },
  {
   "cell_type": "markdown",
   "metadata": {
    "id": "hil2UsUG6j22"
   },
   "source": [
    "Считайте данные."
   ]
  },
  {
   "cell_type": "code",
   "metadata": {
    "id": "B4EBho8s6j26",
    "ExecuteTime": {
     "end_time": "2025-01-20T18:45:13.982714Z",
     "start_time": "2025-01-20T18:45:13.978853Z"
    }
   },
   "source": [
    "def read_corpus(filename):\n",
    "    data = []\n",
    "    for line in open(filename, encoding='utf-8'):\n",
    "        data.append(line.strip().split('\\t'))\n",
    "    return data"
   ],
   "outputs": [],
   "execution_count": 104
  },
  {
   "cell_type": "markdown",
   "metadata": {
    "id": "kkTxY3Mk9_nG"
   },
   "source": [
    "Нам понадобиться только файл validation."
   ]
  },
  {
   "cell_type": "code",
   "metadata": {
    "id": "PTVB9Tnp6j29",
    "colab": {
     "base_uri": "https://localhost:8080/",
     "height": 274
    },
    "executionInfo": {
     "status": "error",
     "timestamp": 1628256058355,
     "user_tz": -180,
     "elapsed": 21,
     "user": {
      "displayName": "Deep Learning School",
      "photoUrl": "https://lh3.googleusercontent.com/a-/AOh14GhNf0RkP5WvkU5MixKfC1Sv3mb-9QWgAbC6VcfQvA=s64",
      "userId": "16549096980415837553"
     }
    },
    "outputId": "9c55c802-3d82-471d-eab2-195dabf5026c",
    "ExecuteTime": {
     "end_time": "2025-01-20T18:45:15.475324Z",
     "start_time": "2025-01-20T18:45:14.454178Z"
    }
   },
   "source": "validation_data = read_corpus('../../datasets/validation.tsv')",
   "outputs": [],
   "execution_count": 105
  },
  {
   "cell_type": "markdown",
   "metadata": {
    "id": "bTHfL-9y6j3F"
   },
   "source": [
    "Кол-во строк"
   ]
  },
  {
   "cell_type": "code",
   "metadata": {
    "scrolled": false,
    "id": "z6ubXhIe6j3H",
    "ExecuteTime": {
     "end_time": "2025-01-20T18:45:15.491993Z",
     "start_time": "2025-01-20T18:45:15.488330Z"
    }
   },
   "source": [
    "len(validation_data)"
   ],
   "outputs": [
    {
     "data": {
      "text/plain": [
       "3760"
      ]
     },
     "execution_count": 106,
     "metadata": {},
     "output_type": "execute_result"
    }
   ],
   "execution_count": 106
  },
  {
   "cell_type": "markdown",
   "metadata": {
    "id": "kaOQblBy6j3M"
   },
   "source": [
    "Размер нескольких первых строк"
   ]
  },
  {
   "cell_type": "code",
   "metadata": {
    "id": "yRx6e-Pe6j3M",
    "ExecuteTime": {
     "end_time": "2025-01-20T18:45:15.905727Z",
     "start_time": "2025-01-20T18:45:15.902042Z"
    }
   },
   "source": [
    "for i in range(5):\n",
    "    print(i + 1, len(validation_data[i]))"
   ],
   "outputs": [
    {
     "name": "stdout",
     "output_type": "stream",
     "text": [
      "1 1001\n",
      "2 1001\n",
      "3 1001\n",
      "4 1001\n",
      "5 1001\n"
     ]
    }
   ],
   "execution_count": 107
  },
  {
   "cell_type": "markdown",
   "metadata": {
    "id": "ySQQp0oQt1Ep"
   },
   "source": [
    "### Ранжирование без обучения"
   ]
  },
  {
   "cell_type": "markdown",
   "metadata": {
    "id": "iElEDhj-6j3R"
   },
   "source": [
    "Реализуйте функцию ранжирования кандидатов на основе косинусного расстояния. Функция должна по списку кандидатов вернуть отсортированный список пар (позиция в исходном списке кандидатов, кандидат). При этом позиция кандидата в полученном списке является его рейтингом (первый - лучший). Например, если исходный список кандидатов был [a, b, c], и самый похожий на исходный вопрос среди них - c, затем a, и в конце b, то функция должна вернуть список **[(2, c), (0, a), (1, b)]**."
   ]
  },
  {
   "cell_type": "code",
   "metadata": {
    "id": "K02JARKr6j3T",
    "ExecuteTime": {
     "end_time": "2025-01-20T18:45:17.162658Z",
     "start_time": "2025-01-20T18:45:17.159564Z"
    }
   },
   "source": [
    "from sklearn.metrics.pairwise import cosine_similarity\n",
    "from copy import deepcopy"
   ],
   "outputs": [],
   "execution_count": 108
  },
  {
   "cell_type": "code",
   "metadata": {
    "id": "1yP8wJWj6j3X",
    "ExecuteTime": {
     "end_time": "2025-01-20T18:45:17.775678Z",
     "start_time": "2025-01-20T18:45:17.771690Z"
    }
   },
   "source": [
    "def rank_candidates(question, candidates, embeddings, tokenizer, dim=200):\n",
    "    \"\"\"\n",
    "        question: строка\n",
    "        candidates: массив строк(кандидатов) [a, b, c]\n",
    "        result: пары (начальная позиция, кандидат) [(2, c), (0, a), (1, b)]\n",
    "    \"\"\"\n",
    "    \n",
    "    q_vec = question_to_vec(question, embeddings, tokenizer, dim=dim)\n",
    "    \n",
    "    candidate_vectors = [question_to_vec(candidate, embeddings, tokenizer, dim=dim) for candidate in candidates]\n",
    "    result = ((i, cs, candidates[i]) for i, cs in enumerate(cosine_similarity([q_vec], candidate_vectors)[0]))\n",
    "    sorted_result = sorted(result, key=lambda x: x[1], reverse=True)\n",
    "    return [(x[0], x[2]) for x in sorted_result]\n",
    "    "
   ],
   "outputs": [],
   "execution_count": 109
  },
  {
   "cell_type": "markdown",
   "metadata": {
    "id": "TnBszTb76j3c"
   },
   "source": [
    "Протестируйте работу функции на примерах ниже. Пусть $N=2$, то есть два эксперимента"
   ]
  },
  {
   "cell_type": "code",
   "metadata": {
    "id": "xvQgtP176j3h",
    "ExecuteTime": {
     "end_time": "2025-01-20T18:45:19.393575Z",
     "start_time": "2025-01-20T18:45:19.389921Z"
    }
   },
   "source": [
    "questions = ['converting string to list', 'Sending array via Ajax fails'] \n",
    "\n",
    "candidates = [['Convert Google results object (pure js) to Python object', # первый эксперимент\n",
    "               'C# create cookie from string and send it',\n",
    "               'How to use jQuery AJAX for an outside domain?'],\n",
    "              \n",
    "              ['Getting all list items of an unordered list in PHP',      # второй эксперимент\n",
    "               'WPF- How to update the changes in list item of a list',\n",
    "               'select2 not displaying search results']]"
   ],
   "outputs": [],
   "execution_count": 110
  },
  {
   "cell_type": "code",
   "metadata": {
    "id": "bPj1JGFi6j3m",
    "ExecuteTime": {
     "end_time": "2025-01-20T18:45:19.767092Z",
     "start_time": "2025-01-20T18:45:19.761625Z"
    }
   },
   "source": [
    "tokenizer = MyTokenizer()\n",
    "\n",
    "for question, q_candidates in zip(questions, candidates):\n",
    "        ranks = rank_candidates(question, q_candidates, wv_embeddings, tokenizer)\n",
    "        print(ranks)\n",
    "        print()"
   ],
   "outputs": [
    {
     "name": "stdout",
     "output_type": "stream",
     "text": [
      "[(1, 'C# create cookie from string and send it'), (0, 'Convert Google results object (pure js) to Python object'), (2, 'How to use jQuery AJAX for an outside domain?')]\n",
      "\n",
      "[(1, 'WPF- How to update the changes in list item of a list'), (0, 'Getting all list items of an unordered list in PHP'), (2, 'select2 not displaying search results')]\n",
      "\n"
     ]
    }
   ],
   "execution_count": 111
  },
  {
   "cell_type": "markdown",
   "metadata": {
    "id": "jm4cidj56j3q"
   },
   "source": [
    "Для первого экперимента вы можете полностью сравнить ваши ответы и правильные ответы. Но для второго эксперимента два ответа на кандидаты будут <b>скрыты</b>(*)"
   ]
  },
  {
   "metadata": {},
   "cell_type": "markdown",
   "source": [
    "должно вывести\n",
    "```\n",
    "results = [[(1, 'C# create cookie from string and send it'),\n",
    "            (0, 'Convert Google results object (pure js) to Python object'),\n",
    "            (2, 'How to use jQuery AJAX for an outside domain?')],\n",
    "           [(*, 'Getting all list items of an unordered list in PHP'), #скрыт\n",
    "            (*, 'select2 not displaying search results'), #скрыт\n",
    "            (*, 'WPF- How to update the changes in list item of a list')]] #скрыт\n",
    "```"
   ]
  },
  {
   "cell_type": "markdown",
   "metadata": {
    "id": "t1ttnIBe6j3x"
   },
   "source": [
    "Последовательность начальных индексов вы должны получить `для эксперимента 1`  1, 0, 2."
   ]
  },
  {
   "cell_type": "markdown",
   "metadata": {
    "id": "5WQgYDWd6j3y"
   },
   "source": [
    "#### Вопрос 5:\n",
    "* Какую последовательность начальных индексов вы получили `для эксперимента 2`(перечисление без запятой и пробелов, например, `102` для первого эксперимента?"
   ]
  },
  {
   "metadata": {},
   "cell_type": "markdown",
   "source": "Ответ: 102"
  },
  {
   "cell_type": "markdown",
   "metadata": {
    "id": "fPllOY-Y6j30"
   },
   "source": [
    "Теперь мы можем оценить качество нашего метода. Запустите следующие два блока кода для получения результата. Обратите внимание, что вычисление расстояния между векторами занимает некоторое время (примерно 10 минут). Можете взять для validation 1000 примеров."
   ]
  },
  {
   "cell_type": "code",
   "metadata": {
    "id": "Z3q9sxddz-yU",
    "ExecuteTime": {
     "end_time": "2025-01-20T18:45:23.334656Z",
     "start_time": "2025-01-20T18:45:23.331737Z"
    }
   },
   "source": "from tqdm import tqdm",
   "outputs": [],
   "execution_count": 112
  },
  {
   "cell_type": "code",
   "metadata": {
    "id": "nu7K4mis6j32",
    "ExecuteTime": {
     "end_time": "2025-01-20T19:26:49.580639Z",
     "start_time": "2025-01-20T19:26:22.380368Z"
    }
   },
   "source": [
    "wv_ranking = []\n",
    "max_validation_examples = 1000\n",
    "for i, line in enumerate(tqdm(validation_data)):\n",
    "    if i == max_validation_examples:\n",
    "        break\n",
    "    q, *ex = line\n",
    "    ranks = rank_candidates(q, ex, wv_embeddings, tokenizer)\n",
    "    wv_ranking.append([r[0] for r in ranks].index(0) + 1)"
   ],
   "outputs": [
    {
     "name": "stderr",
     "output_type": "stream",
     "text": [
      " 27%|██▋       | 1000/3760 [00:27<01:15, 36.77it/s]\n"
     ]
    }
   ],
   "execution_count": 119
  },
  {
   "cell_type": "code",
   "metadata": {
    "scrolled": true,
    "id": "gDtS520v6j35",
    "ExecuteTime": {
     "end_time": "2025-01-20T19:23:35.479923Z",
     "start_time": "2025-01-20T19:23:35.473279Z"
    }
   },
   "source": [
    "for k in tqdm([1, 5, 10, 100, 500, 1000]):\n",
    "    print(\"DCG@%4d: %.3f | Hits@%4d: %.3f\" % (k, dcg_score(wv_ranking, k), k, hits_count(wv_ranking, k)))"
   ],
   "outputs": [
    {
     "name": "stderr",
     "output_type": "stream",
     "text": [
      "100%|██████████| 6/6 [00:00<00:00, 6003.30it/s]"
     ]
    },
    {
     "name": "stdout",
     "output_type": "stream",
     "text": [
      "DCG@   1: 0.276 | Hits@   1: 0.276\n",
      "DCG@   5: 0.332 | Hits@   5: 0.386\n",
      "DCG@  10: 0.349 | Hits@  10: 0.438\n",
      "DCG@ 100: 0.395 | Hits@ 100: 0.671\n",
      "DCG@ 500: 0.421 | Hits@ 500: 0.875\n",
      "DCG@1000: 0.434 | Hits@1000: 1.000\n"
     ]
    },
    {
     "name": "stderr",
     "output_type": "stream",
     "text": [
      "\n"
     ]
    }
   ],
   "execution_count": 118
  },
  {
   "cell_type": "markdown",
   "metadata": {
    "id": "LL6_Rjg3InL8"
   },
   "source": [
    "### Эмбеддинги, обученные на корпусе похожих вопросов"
   ]
  },
  {
   "cell_type": "code",
   "metadata": {
    "id": "iNvbpR5gJIPz",
    "ExecuteTime": {
     "end_time": "2025-01-20T18:45:51.892718Z",
     "start_time": "2025-01-20T18:45:50.082341Z"
    }
   },
   "source": [
    "train_data = read_corpus('../../datasets/train.tsv')\n",
    "train_data"
   ],
   "outputs": [
    {
     "data": {
      "text/plain": [
       "[['converting string to list',\n",
       "  'Convert Google results object (pure js) to Python object'],\n",
       " ['Which HTML 5 Canvas Javascript to use for making an interactive drawing tool?',\n",
       "  'Event handling for geometries in Three.js?'],\n",
       " ['Sending array via Ajax fails',\n",
       "  'Getting all list items of an unordered list in PHP'],\n",
       " ['How to insert CookieCollection to CookieContainer?',\n",
       "  'C# create cookie from string and send it'],\n",
       " ['Updating one element of a bound Observable collection',\n",
       "  'WPF- How to update the changes in list item of a list'],\n",
       " ['MongoDB error on find()',\n",
       "  'Retrieve only the queried element in an object array in MongoDB collection'],\n",
       " ['select2 not displaying search results',\n",
       "  'How to use jQuery AJAX for an outside domain?'],\n",
       " ['Using Reduce to merge multiple data frames with passing arguments and without defining function outside the Reduce (syntax)',\n",
       "  'R - merge a list of data frames into one data frame with missing values by row'],\n",
       " ['Adding Prototype to JavaScript Object Literal',\n",
       "  'How does JavaScript .prototype work?',\n",
       "  'Javascript not setting property of undefined in prototyped object'],\n",
       " [\"What's the best way to get the directory from which an assembly is executing\",\n",
       "  'What is the dependency inversion principle and why is it important?',\n",
       "  'Dependency Inversion with compile time configured Dependency Injection in an ASP.NET MVC 4 Solution'],\n",
       " ['min value sql query', 'row with minimum value of a column'],\n",
       " ['Media Queries: How to target desktop, tablet and mobile?',\n",
       "  'Media Queries to load resource?'],\n",
       " ['opaque element in a transparent in WPF',\n",
       "  'WPF transparency changing, when elements are bound',\n",
       "  'How do you override the opacity of a parent control in WPF?'],\n",
       " ['SmartThreadPool Blocking UI Thread',\n",
       "  \"What's the difference between Invoke() and BeginInvoke()\"],\n",
       " ['Adding entity classes dynamically at runtime',\n",
       "  'Create EntityManagerFactory programatically (without persistence.xml file) with annotated classes'],\n",
       " ['Is it possible to use Font Awesome icon instead to select default drop down sign',\n",
       "  'How would I place a font-awesome icon into a select drop-down menu?'],\n",
       " ['ios 8 - buttons in horizontal scroll view intercepting pan event - scroll does not work',\n",
       "  'Swift UIScrollView not working with buttons'],\n",
       " ['an expression of type Null is ineligible for implicit conversion',\n",
       "  'Scala Option type in function parameter - Best Practices'],\n",
       " ['Is it safe to display a image using $_GET for path?',\n",
       "  'CSRF (Cross-site request forgery) attack example and prevention in PHP'],\n",
       " ['How to change scroll bar position with CSS?',\n",
       "  'Scroll Bar at Top and Bottom in DataTables',\n",
       "  'horizontal scrollbar on top and bottom of table'],\n",
       " ['Is it possible to use `SqlDbType.Structured` to pass Table-Valued Parameters in NHibernate?',\n",
       "  'While calling SQL Server stored procedure from NHibernate can I pass list or custom data type as a parameter'],\n",
       " ['private/public qt signals',\n",
       "  'Why do people use __(double underscore) so much in C++',\n",
       "  'Qt signals and slots: permissions'],\n",
       " ['AJAX request not working unless alert() is used',\n",
       "  'AJAX not working without alert box'],\n",
       " ['Injecting a Spring dependency into a JPA EntityListener',\n",
       "  'eventlisteners using hibernate 4.0 with spring 3.1.0.release?',\n",
       "  'Injecting spring bean in a JPA Entity Listener'],\n",
       " ['How to I get the N closest points to a coordinate in firebase?',\n",
       "  'Limit the number of queried items from GeoFire'],\n",
       " ['How to do JIRA login using Jsoup?',\n",
       "  'JSoup.connect throws 403 error while apache.httpclient is able to fetch the content'],\n",
       " ['DICOM image to BufferedImage on Windows 64',\n",
       "  'display a dicom image in a java application using ImageJ'],\n",
       " ['Multiple \"order by\" in LINQ', 'Group by C# Concat?'],\n",
       " ['Character or text limit in ScrollView or TextBlock?',\n",
       "  'TextBlock is Cutting Text in Windows Phone'],\n",
       " ['Export Excel via AJAX from VB.NET WebMethod As Binary?',\n",
       "  'Export a data set to Excel and raise a file download dialog from an asp.net web method'],\n",
       " ['How to stop event propagation with inline onclick attribute?',\n",
       "  'How to .stopProagation() in a function called via onClick()',\n",
       "  'How to pass event as argument to an inline event handler in JavaScript?'],\n",
       " ['Smooth Animation in HTML5 Canvas',\n",
       "  'get a smooth animation for a canvas game'],\n",
       " ['Embeded document with belong_to association in Mongoid',\n",
       "  'Mongoid embedded document belongs_to embedded document'],\n",
       " [\"Should I use field 'datetime' or 'timestamp'?\",\n",
       "  'Is timestamp in mysql cached when retrieved in different timezones?'],\n",
       " ['Is the length of HTTP GET limited to 2048?',\n",
       "  'What is the maximum length of a URL in different browsers?',\n",
       "  'maximum length of HTTP GET request?'],\n",
       " ['How to give priority to button', 'Stacked buttons'],\n",
       " ['How do I delete a Git branch both locally and remotely?',\n",
       "  'How do I strip branches from a git repository?'],\n",
       " ['Javascript save data to file system (with user prompt)',\n",
       "  'Export to csv in jQuery'],\n",
       " ['Rotate hover-info in Plotly',\n",
       "  'How to make a great R reproducible example?'],\n",
       " ['Why a reference is returned in an assignment operator overload?',\n",
       "  'Why does flowing off the end of a non-void function without returning a value not produce a compiler error?'],\n",
       " ['Golang, processes and shared memory',\n",
       "  'linux - run process on several cores'],\n",
       " ['Speed comparison of sapply with a composite function',\n",
       "  \"Is R's apply family more than syntactic sugar?\"],\n",
       " ['How to remove specific value from array using jQuery',\n",
       "  'Remove set of items from an array jQuery',\n",
       "  'javascript remove array from array'],\n",
       " [\"Apache web server doesn't allow me to refresh on /about but on localhost its working fine\",\n",
       "  \"React-router urls don't work when refreshing or writting manually\",\n",
       "  'How to create multi page app without node in react js with react router',\n",
       "  'How to tell webpack dev server to serve index.html for any route'],\n",
       " ['How to get UTF-8 working in Java webapps?',\n",
       "  'Charset filter causing issue in parsing UTF-8 characters',\n",
       "  'How to enable reading non-ascii characters in Servlets',\n",
       "  'UTF-8 URL Decode / Encode'],\n",
       " ['What is the difference between inheritance and Categories in Objective-C',\n",
       "  'When to use Categories'],\n",
       " ['problem with Random.nextGaussian()',\n",
       "  'Random Normal Distribution in Java returns values outside range'],\n",
       " ['NSPropertyListSerialization Alternative?',\n",
       "  'Nasty NSPropertyListSerialization Leak'],\n",
       " ['Is it possible to repeat left side in a left outer join to repeat only once',\n",
       "  'SQL with rank and partition'],\n",
       " ['Inspecting STL containers in Visual Studio debugging',\n",
       "  'An easy way to watch a vector element in debugger'],\n",
       " ['How to download large file with binary mode in python?',\n",
       "  'HTTP Download very Big File'],\n",
       " ['addEventListener vs onclick',\n",
       "  \"Is assigning a function to window.onerror preferable to window.addEventListener('error', callback)?\"],\n",
       " ['Way to securely give a password to R application?',\n",
       "  'Encrypt password in R - to connect to an Oracle DB using RODBC',\n",
       "  'How to set up a secure password-protected connection between R and a server'],\n",
       " ['Why does boost include two different versions of strong_typedef.hpp?',\n",
       "  'Implicit cast doesnt work for BOOST_STRONG_TYPEDEF and BOOST_SPIRIT_DEBUG_NODE',\n",
       "  'Simple types with higher meaning (C++11)'],\n",
       " ['Does the order of headers in an HTTP response ever matter?',\n",
       "  'How can I change order of HTTP headers sent by Scrapy?'],\n",
       " ['Sub Word in a String',\n",
       "  'Scanner is skipping nextLine() after using next(), nextInt() or other nextFoo()?'],\n",
       " ['Loading jQuery into chrome-extension',\n",
       "  'How to use jQuery in chrome extension?'],\n",
       " ['No targets specified and no makefile found',\n",
       "  \"Can't build bitcoin from source, make won't work\"],\n",
       " ['Starting Calendar Activity',\n",
       "  'Error Inserting Event into Calendar with Intent'],\n",
       " ['Are JAR files in WebContent/WEB-INF/lib available to Java design elements in Domino Designer?',\n",
       "  'The contents of jar file not found using jar design element of Designer 9'],\n",
       " ['Are \"strings.xml\" string arrays always parsed/deserialized in the same order?',\n",
       "  'Sorting string-array',\n",
       "  'Sort Android strings.xml in Alphabetical Order'],\n",
       " ['how to use a loop to get data from file one by one in scripting',\n",
       "  'strange hashing match all the time in bash scripting'],\n",
       " ['How to display parts of text in jtable',\n",
       "  'JTable, RowFilter and RowFilter.Entry'],\n",
       " ['Export Javascript Console log from Google Chrome',\n",
       "  'Can I write files with HTML5/JS?',\n",
       "  'JQuery console log to file',\n",
       "  'Save the console.log in Chrome to a file'],\n",
       " ['Proper syntax for using union with bit fields inside a struct',\n",
       "  'Why does C++ disallow anonymous structs and unions?'],\n",
       " ['How do I get the value after hash (#) from a URL using jquery and use in page load',\n",
       "  \"What's the easiest way to parse the anchor out of the current page's location?\"],\n",
       " ['Is there a CSS parent selector?',\n",
       "  'How to use css hover on a element and its parent container?'],\n",
       " ['Error inserting data into mySQL database',\n",
       "  'When to use single quotes, double quotes, and backticks in MySQL'],\n",
       " ['h5validate how to require repeated password',\n",
       "  'How to escape regular expression in javascript?'],\n",
       " ['Reversible pseudo-random sequence generator',\n",
       "  'How to map number in a range to another in the same range with no collisions?'],\n",
       " ['Make a POST request while redirecting in flask',\n",
       "  'Redirect from one page to another along with some POST data in Flask'],\n",
       " ['When to use SQL sub-queries versus a standard join?',\n",
       "  'Nested SELECT clause in SELECT , FROM or WHERE and differences'],\n",
       " ['Does FileSystemWatcher create its own thread?',\n",
       "  'How to get notified if a file was modified outside of my program?'],\n",
       " ['Why does SQL Server 2000 treat SELECT test.* and SELECT t.est.* the same?',\n",
       "  'dbo.dbo is this valid?'],\n",
       " ['JQuery - find a radio button by value',\n",
       "  'How to make a radio button selected using its value'],\n",
       " ['How to fix Error: listen EADDRINUSE while using nodejs?',\n",
       "  'Ubuntu open/unblock ports for nodejs'],\n",
       " ['how to show the entire results or show more results',\n",
       "  'Arbitrary precision number is clipped'],\n",
       " ['Windows CE SDK for Visual Studio 2008',\n",
       "  'is it possible to compile code for WinCE platform through VisualStudio in WIndows?'],\n",
       " ['What is the Python equivalent of static variables inside a function?',\n",
       "  'Python: cannot increase counter variable in function'],\n",
       " ['Deserialise nested JSON object with dynamic field name',\n",
       "  'Generics with Spring RESTTemplate',\n",
       "  'Deserializing into a HashMap of custom objects with jackson'],\n",
       " ['Open a specific page in a PDF file c#',\n",
       "  'Adobe Reader Command Line Reference'],\n",
       " ['Select rows from a DataFrame based on values in a column in pandas',\n",
       "  'Select rows from a DataFrame based on multiple values in a column in pandas'],\n",
       " ['JQuery: Binding two event handlers to one button element',\n",
       "  'Why does jQuery or a DOM method such as getElementById not find the element?'],\n",
       " ['Generating a series of dates',\n",
       "  'How do you use the \"WITH\" clause in MySQL?'],\n",
       " ['Can I use apache_libcloud with Django on Google App Engine?',\n",
       "  'Configure Django and Google Cloud Storage?'],\n",
       " ['Calculate date from week number',\n",
       "  'How to do I invert the week returned from Calendar.GetWeekOfYear back to a DateTime?'],\n",
       " ['IllegalStateException while fetching contacts asynchronously',\n",
       "  \"IllegalStateException: couldn't read row 0, col -1 from cursorWindow\"],\n",
       " ['How to draw cross diagonal lines without using SVG or HTML Canvas',\n",
       "  'draw diagonal lines in div background with CSS'],\n",
       " ['Game-Development: How to make my spritegame dynamic for resolutions?',\n",
       "  'XNA ViewPort projection and SpriteBatch',\n",
       "  'How to scale on-screen pixels?'],\n",
       " ['How to store timezone info in rails', 'Timezone offset rails'],\n",
       " ['How to save variable from dropdown menu in php',\n",
       "  'What is the difference between single-quoted and double-quoted strings in PHP?'],\n",
       " ['mysqli - $stmt->num_rows returning 0', '$stmt-num_rows ( Return 0 )'],\n",
       " ['Passing html markup into an ASP.NET User Control',\n",
       "  'MVC wrap content with static content. UserControls?'],\n",
       " ['Menu Item Customization for Google Identity Toolkit (Python)',\n",
       "  'Could we add our menu items in Gitkit Starter kit \"Sign In cum User Info \" ( #navbar )?'],\n",
       " [\"Symfony2 dev.log since weeks I'm seeing this php.INFO lines\",\n",
       "  'Disable deprecated warning in Symfony 2(.7)'],\n",
       " ['I need to make one instance of an array that can be access by multiple view controllers',\n",
       "  'Passing Data between View Controllers'],\n",
       " ['FieldCache with frequently updating index', 'Lucene docID reliability'],\n",
       " ['Pairwise Comparison of Rows in R',\n",
       "  'In R - fastest way pairwise comparing character strings on similarity'],\n",
       " ['Parse dates and create time series from .csv',\n",
       "  'Parse_dates in Pandas',\n",
       "  'pandas parse dates from csv',\n",
       "  'Python/ Pandas CSV Parsing'],\n",
       " ['free 2d array in c', 'Free dynamic memory with free()'],\n",
       " ['LocalDB deployment on client PC',\n",
       "  'Cannot attach 2008 R2 database to 2008 instance'],\n",
       " ['Start Google Chrome with a specific locale (using a command line argument)',\n",
       "  'How do I use the --lang switch with chrome.exe to create a Chrome instance with English-UK?'],\n",
       " ['How to \"add\" new balls on mouse click in JS HTML5 Canvas?',\n",
       "  'How do I add a simple onClick event handler to a canvas element?'],\n",
       " ['Selenium grid with Chrome driver (WebDriverException: The path to the driver executable must be set by the webdriver.chrome.driver system property)',\n",
       "  'Chromedriver setup in selenium grid 3 node'],\n",
       " ['Android Data Binding using include tag',\n",
       "  \"Android DataBinding Cannot 'cannot find symbol variable' error when i use include Tag\"],\n",
       " ['Custom sort in array', 'PHP custom sorting'],\n",
       " ['Dynamic page rendering in meteor',\n",
       "  'What are the best practices for structuring a large Meteor app with many HTML template files?'],\n",
       " ['How can I spread repeated measures of multiple variables into wide format?',\n",
       "  'Function that returns NA if subset is empty'],\n",
       " ['Regular expression for matching HH:MM time format',\n",
       "  'Javascript regular expression to validate time format \"09:15 AM\"'],\n",
       " ['2 Column Report in R Markdown - Render HTML aside Data Frame',\n",
       "  'Align two data.frames next to each other with knitr?'],\n",
       " ['How to truncate double number with adding missing zeros at the end',\n",
       "  'Are there any functions for truncating a double in java?'],\n",
       " [\"Possibility of duplicate Mongo ObjectId's being generated in two different collections?\",\n",
       "  'MongoDB query comments along with user information',\n",
       "  'How can I create unique IDs for embedded documents in MongoDB using PHP?'],\n",
       " ['maven repository has an invalid certificate',\n",
       "  'How to add aem Uber jar dependency in maven build'],\n",
       " ['SimpleXMLElement error but xml is valid',\n",
       "  \"Start tag expected, '<' not found in sitemap.xml — Not sure what's wrong\"],\n",
       " ['XSD documentation as a part of build process',\n",
       "  'How to convert xsd to human readable documentation?'],\n",
       " ['Test case for Android SQLite Connection checking',\n",
       "  'Testing database on Android: ProviderTestCase2 or RenamingDelegatingContext?'],\n",
       " ['Difference between cursor.count() and cursor.size() in MongoDB',\n",
       "  'Are cursor.size() and cursor.count(true) equivalent?'],\n",
       " ['How to remove the fatal error when fetching an assoc array',\n",
       "  'FIndng the exact value in a table in PHP Issue',\n",
       "  \"All values = 's' in table in PHP error\"],\n",
       " ['Run java application with maximum \"maximum heap size\" available',\n",
       "  'Max amount of memory per java process in Windows?'],\n",
       " ['simple PHP code sample to serve backbone.js',\n",
       "  'Backbone.js How to use with PHP',\n",
       "  'Syncing Backbone/Spine application to a database'],\n",
       " [\"Weird MySQL query that's wracking my brain\",\n",
       "  'How can I SELECT rows with MAX(Column value), DISTINCT by another column in SQL?'],\n",
       " ['Database backed i18n for java web-app',\n",
       "  'Struts2 internationalization using a database'],\n",
       " ['BufferedReader readline when reading in a thread',\n",
       "  'How to write and read from file simultaneously using java?',\n",
       "  'How to read and write data into same file simultaneously'],\n",
       " ['Can you provide some examples of why it is hard to parse XML and HTML with a regex?',\n",
       "  'Regex to Replace Node Attribute Contents'],\n",
       " ['Kill Thread in Pthread Library',\n",
       "  'How can I kill a pthread that is in an infinite loop, from outside that loop?',\n",
       "  'For pthread, How to kill child thread from the main thread',\n",
       "  'How to kill remaining threads when we come out of any single one?'],\n",
       " ['PHP: Replace umlauts with closest 7-bit ASCII equivalent in an UTF-8 string',\n",
       "  'How to replace Æ to AE for all strings in my table?',\n",
       "  'Replace all fields in MySQL'],\n",
       " ['When should I use a struct?',\n",
       "  'Does using \"new\" on a struct allocate it on the heap or stack?',\n",
       "  'When should I use a struct instead of a class?'],\n",
       " ['Global action filter in ASP.NET MVC',\n",
       "  'Putting a common logic in every action of controller'],\n",
       " ['String was not recognized as a valid date time',\n",
       "  'Date in Excel not recognized as date',\n",
       "  'Excel using date/time with multiple different region formats. VB? Formulas?'],\n",
       " ['Dynamic Data Binding?',\n",
       "  'Getting a field value from a custom control when there are multiple instances of the custom control'],\n",
       " ['how to use javascript replace all of it?',\n",
       "  'Searching for values in string, then updating the string'],\n",
       " ['How to nicely format floating numbers to String without unnecessary decimal 0?',\n",
       "  'How to remove the decimal part from a float number that contains .0 in java'],\n",
       " ['Error parsing data org.json.JSONException Value <html> of type java.lang.String',\n",
       "  'What is a NullPointerException, and how do I fix it?'],\n",
       " ['VB.NET - IsNothing versus Is Nothing',\n",
       "  '\"Not ... Is Nothing\" versus \"... IsNot Nothing\"'],\n",
       " ['scopes with lambda and arguments in Rails 4 style?',\n",
       "  'Validates_Overlap Gem Multiple Scopes Overwriting Eachother',\n",
       "  \"Validates_Overlap: 'Conditional Scope'?\"],\n",
       " ['What is the canonical way to check for errors using the CUDA runtime API?',\n",
       "  'CUDA: How to fill a vector of dynamic size on device and return its contents to another device function?',\n",
       "  'Allocation and usage of cuda device variable in different functions'],\n",
       " ['How to perform click event on Google map maker automatically (without clicking on the marker)',\n",
       "  'How to trigger the onclick event of a marker on a Google Maps V3?'],\n",
       " ['Python Django: Enabling tags in models.TextField()',\n",
       "  'HTML not rendering in Django text field'],\n",
       " ['Import error across entire Django project',\n",
       "  'Running django tutorial tests fail - No module named polls.tests'],\n",
       " [\"using emacs auto's to instansiate a stub module (inputs=0, outputs=[]\",\n",
       "  'Using Regular Expressions for Verilog Port Mapping',\n",
       "  'How to remove I/O port declarations using regexp in verilog mode'],\n",
       " ['Take all my changes on the current branch and move them to a new branch in Git',\n",
       "  'Moving from one branch to another with un tracked changes'],\n",
       " ['RegEx match open tags except XHTML self-contained tags',\n",
       "  'Parsing web page source code with regex'],\n",
       " ['Android google maps not working when it builds into an apk file',\n",
       "  'Android SHA1 release keystore not working with Google Maps'],\n",
       " ['Convert coordinates between parent/child UIView after CGAffineTransform',\n",
       "  'Get center of UIView contained within UIStackView'],\n",
       " ['parent().parent().parent() - a better way?',\n",
       "  'Moving up multiple parents in jQuery - more efficient way?'],\n",
       " ['SQL count by group', 'SQL Select Single most from a count - ALL opereator'],\n",
       " ['Flash & Flex SDK/AS3 - How to keep keyboard focus?',\n",
       "  'this.focus() does not work properly in Firefox'],\n",
       " ['How can I use python > 2.6.6 with spark on BigInsights on cloud Enterprise clusters?',\n",
       "  'How can I install python modules for spark on BigInsights on cloud enterprise'],\n",
       " ['How come a non-const reference cannot bind to a temporary object?',\n",
       "  'Why int& a = <value> is not allowed in C++?'],\n",
       " ['How can I return a random line from a file? Interview Question',\n",
       "  \"What's the best way to return a random line in a text file using C?\"],\n",
       " ['How to pass AJAX response to javascript variable?',\n",
       "  'How do I return the response from an asynchronous call?'],\n",
       " ['Simulating group_concat MySQL function in Microsoft SQL Server 2005?',\n",
       "  'How to make a query with group_concat in sql server',\n",
       "  'Group results from three tables'],\n",
       " ['Error push/pull on github: Unable to resolve github.com',\n",
       "  'How to Replicate a Repository from Github to Gitlab with Frequent Updates?'],\n",
       " ['How to pass a variable into a setTimeout function?',\n",
       "  'settimeout in for loop is not working',\n",
       "  'setTimeout in for-loop does not print consecutive values'],\n",
       " ['How to place a div over another',\n",
       "  'How to overlay one div over another div'],\n",
       " ['How can I use Nodejs with Windows 7?',\n",
       "  'ExecJS::RuntimeError in Users#index (RoR)',\n",
       "  \"Object doesn't support this property or method Rails Windows 64bit\",\n",
       "  \"Michael Hartl's Ruby on Rails Tutorial, toy_app user tour\"],\n",
       " ['Echo tab characters in bash script', 'Formatting Output From Shell Script'],\n",
       " ['How to build a server to broadcast real time video?',\n",
       "  'Streaming webcam video in Flash using MP4 encoding'],\n",
       " ['StoredProcedure which return some records and Insert for each of them a row in a table',\n",
       "  'thread messaging system database schema design'],\n",
       " ['How pass data between two activities while background activity always running',\n",
       "  'How to pass the data from background process to another activity'],\n",
       " ['GLib.Error: gst_parse_error: no element \"zbar\"',\n",
       "  'python gstreamer script error message no element \"h264parse\"'],\n",
       " ['Process Builder gives a \"No such file or directory\" on Mac while Runtime().exec() works fine',\n",
       "  'curl command java file not getting found'],\n",
       " ['Sort Multi-dimensional Array by Value',\n",
       "  'Why multisort works only in the first depth of array?'],\n",
       " ['Sending C++ Protocol Buffer Messages from iOS',\n",
       "  'Protocol Buffer Messages via Akka IO and Sockets'],\n",
       " ['How to create a simple draggable marker in OpenLayers',\n",
       "  'Dragging markers with Ordnance Survey/Openlayers api',\n",
       "  'Style Point vector as Marker in Openlayers?'],\n",
       " ['Use of final class in Java',\n",
       "  'Why defining class as final improves JVM performance?',\n",
       "  'Why final classes cannot be overridden in java?'],\n",
       " ['Using the keyword \"this\" in java',\n",
       "  'How to use this keyword correctly',\n",
       "  'Java - when \"this\" is the only way to go?',\n",
       "  'When do you use the \"this\" keyword?'],\n",
       " ['replacing all uppercase words by ucword',\n",
       "  'Detecting and replacing merged words MyWord to My Word - PHP, regex'],\n",
       " ['Method not printing the correct value not due to int division',\n",
       "  'Division of integers in Java'],\n",
       " ['Failed to resolve: com.facebook.android:facebook-android-sdk:4.4.0',\n",
       "  'Failed to resolve: com.facebook.android:facebook-android-sdk:4.0.0'],\n",
       " ['Generate Random Number Array and Replace Duplicates',\n",
       "  'Java8 code not resolving in IntelliJ IDEA'],\n",
       " ['Length of \"\\\\n\" and \\'\\\\n\\'', 'Double vs single quotes'],\n",
       " ['How to handle json DateTime returned from WCF Data Services (OData)',\n",
       "  'How do I format a Microsoft JSON date?',\n",
       "  'ExtJs 4 Displaying WCF DateTime'],\n",
       " [':after and :before css pseudo elements hack for IE 7',\n",
       "  'IE8 CSS @font-face fonts only working for :before content on over and sometimes on refresh/hard refresh',\n",
       "  'Cross Browser Dom Ready',\n",
       "  'Best way to check for IE less than 9 in JavaScript without library'],\n",
       " ['How to import data from Excel sheet to data Table in c#?',\n",
       "  'Importing Excel into a DataTable Quickly'],\n",
       " ['(How) Can I use FutureWindows with standard file open dialogs?',\n",
       "  'Delphi GUI Testing and Modal Forms'],\n",
       " ['Why in this code the output of the virtual functions is like this?',\n",
       "  'C# keyword usage virtual+override vs. new'],\n",
       " ['Rails issues when connection to PostgreSQL database',\n",
       "  'Mountain Lion Postgres could not connect'],\n",
       " ['How do I completely uninstall Node.js, and reinstall from beginning (Mac OS X)',\n",
       "  'Removing Node.Js from Mountain Lion'],\n",
       " ['Random color generator',\n",
       "  'Meaning of += sign',\n",
       "  'Short hand assignment operator, +=, True Meaning?'],\n",
       " ['R to SQL server. Make a query joining a database table with a R dataframe',\n",
       "  'Limit on the WHERE col IN (...) condition'],\n",
       " ['c# : do while loop not working as supossed',\n",
       "  'Is floating point math broken?',\n",
       "  'Why is modulus operator not working for double in c#?'],\n",
       " ['Index was outside the bounds of the array in @Scripts.Render',\n",
       "  'StyleBundle Index was outside the bounds of the array'],\n",
       " ['No warning for uninitialized objects, wrong order in construction',\n",
       "  'Warnings for uninitialized members disappear on the C++11'],\n",
       " ['how to use CSS in JavaScript',\n",
       "  'What do querySelectorAll, getElementsByClassName and other getElementsBy* methods return?'],\n",
       " ['Why am I not provided with a default copy constructor from a volatile?',\n",
       "  'Can I add an implicit conversion from a volatile T to a T?'],\n",
       " ['How to make folder uncopyable', 'Shredding files in .NET'],\n",
       " ['How to use multiple queries on entityframwork backed datagridview?',\n",
       "  'Multiple WHERE Clauses with LINQ extension methods'],\n",
       " ['Fastest Way of Inserting in Entity Framework',\n",
       "  'Insertion large number of Entities into SQL Server 2012',\n",
       "  'Saving a large graph with Entity Framework 5',\n",
       "  'Improving bulk insert performance in Entity framework',\n",
       "  'How to do a Bulk Insert -- Linq to Entities'],\n",
       " ['Embedded iframe within SVG element',\n",
       "  'Possible to embed a youtube video in an svg?'],\n",
       " ['SQL job failed to run a C#.net console application',\n",
       "  'Job On Sql Server Agent does not complete, but it does in BIDS?'],\n",
       " [\"No plugin found for prefix 'http' in the current project and in the plugin groups [org.apache.maven.plugins, org.codehaus.mojo]\",\n",
       "  'How does Maven plugin prefix resolution work? Why is it resolving \"findbugs\" but not \"jetty\"?'],\n",
       " ['Size of bitmap returned by camera via intent?',\n",
       "  'Android: Resize a large bitmap file to scaled output file'],\n",
       " ['jQuery Pluggin. Adding both options and callback function',\n",
       "  'jQuery Plugin: Adding Callback functionality'],\n",
       " ['Higher memory consumption in Java 8 than Java 7',\n",
       "  'Java 8 allocating too much memory'],\n",
       " ['Unable read App.config values from Class Library',\n",
       "  'Change default app.config at runtime'],\n",
       " ['Determine if user can access the requested page?',\n",
       "  'How to test asp.net location folder authorization programmaticly'],\n",
       " ['Make cannot find Fortran subroutine',\n",
       "  'How to debug Fortran 90 compile error \"There is no specific subroutine for the generic \\'foo\\' at (1)\"?',\n",
       "  \"Fortran 4.7.2/4.8.1 error: There is no specific subroutine for the generic 'vode' at (1)\"],\n",
       " [\"Could not load file or assembly '' or one of its dependencies\",\n",
       "  'C# trouble with JObject'],\n",
       " ['Unfinished Stubbing Detected in Mockito', 'Mockito method behavior'],\n",
       " [\"Explicitly loading entity's collection\",\n",
       "  'Proper cache usage in Spring / Hibernate'],\n",
       " ['Non-line dependent conditional breakpoints',\n",
       "  'Why only breakpoints tied to lines, rather than some set of state?'],\n",
       " ['How to know if a row in a UITableView has been selected?',\n",
       "  'how know if uitableview has a selected cell'],\n",
       " ['Long task in android quickly', 'Get list of photo galleries on Android'],\n",
       " ['Reading files of same typolgy in a folder',\n",
       "  'Correct way to write to files?'],\n",
       " ['move constructor and assignment operator impletemented using copy-and-swap idiom',\n",
       "  'How to pass parameters correctly?',\n",
       "  'What are move semantics?'],\n",
       " ['Fragment Loads data every time i switch between tabs',\n",
       "  'Dynamically changing the fragments inside a fragment tab host?'],\n",
       " ['MVC3 App Restarting Every Pageload',\n",
       "  'What causes an application pool in IIS to recycle?'],\n",
       " ['Gmail like URL scheme',\n",
       "  'Possible to make webpage URL the same as an iFrame URL?'],\n",
       " ['knockout dropdown from parent View Model',\n",
       "  'How do I return the response from an asynchronous call?'],\n",
       " ['Dynamically create lexer rule', 'Antlr tokens from file'],\n",
       " ['Create a hidden field in JavaScript',\n",
       "  'Forward GET parameter to next URL',\n",
       "  'How can I get query string values in JavaScript?'],\n",
       " ['Android: How to detect a change in MediaStore when connected over MTP',\n",
       "  'Android: BroadCastEvent not recieved when media files added/removed/edited for MTP devices'],\n",
       " ['Reading a Git repository, without Git',\n",
       "  'Best Method/Language for doing a Git Pull from Web Browser'],\n",
       " ['Insert into C# with SQLCommand', 'Execute SQL in c#'],\n",
       " ['Cloud Dataflow to BigQuery - too many sources',\n",
       "  'Google Cloud Dataflow BigQueryIO.Write occur Unknown Error (http code 500)'],\n",
       " ['Nested object properties with dynamic name',\n",
       "  'How to set object property (of object property of..) given its string name in JavaScript?',\n",
       "  'Setting nested object properties with dynamic name',\n",
       "  'Are eval() and new Function() the same thing?'],\n",
       " ['div resizable like text-area',\n",
       "  'codemirror-textarea resizable like a standard textarea'],\n",
       " ['Get the first child of a group in active record',\n",
       "  'MySQL Order before Group by'],\n",
       " [\"Emoji's slowing down scrolling - UICollectionView\",\n",
       "  'Scrolling UICollectionView uses lots of memory leading to crash'],\n",
       " ['Issue with html tags while scraping data using beautiful soup',\n",
       "  \"Parse javascript object declaration which doesn't use strings for property names (using python and BeautifulSoup)\",\n",
       "  'Parsing variable data out of a javascript tag using python'],\n",
       " ['callback function parsing JSON in JQuery', 'What is JSONP all about?'],\n",
       " ['What are Aggregates and PODs and how/why are they special?',\n",
       "  'How to pushback a struct into a vector'],\n",
       " ['Adding external CSS in an HTML file', 'Hide Email form after sumbission'],\n",
       " ['overriding protected internal with protected!',\n",
       "  'Overriding and overridden methods must have same accessibility, so why isn’t same true for Page.CreateChildControls()?'],\n",
       " ['With javascript, how do you get final result URL after 302 redirect on img src?',\n",
       "  \"Getting the New Image's URL\"],\n",
       " ['Loading an 8bpp grayscale BMP in C',\n",
       "  'Writing BMP image in pure c/c++ without other libraries'],\n",
       " ['Calculate distance between Mesh Edges',\n",
       "  'How to determine thickness vs width? (Using Raycasting)'],\n",
       " ['SecureString password stored in database',\n",
       "  'How to convert SecureString to System.String?',\n",
       "  'Hashing a SecureString in .NET',\n",
       "  'SecureString to Byte[] C#',\n",
       "  'Obtain SHA-256 string of a string'],\n",
       " ['Paginated query using sorting on different columns using ROW_NUMBER() OVER () in SQL Server 2005',\n",
       "  'SQL Row_Number() function in Where Clause',\n",
       "  'How do I use ROW_NUMBER()?'],\n",
       " ['Android Fragments Get Issue With getFragmentManager()',\n",
       "  'Android Fragment manager incompatible types'],\n",
       " ['How to get the same data like json in NSDictionary',\n",
       "  'How to use swiftyjson to parse json data to foundation object and loop through data',\n",
       "  'Iterate object in dictionary with ordered form in swift'],\n",
       " ['PHP set timeout for script with system call, set_time_limit not working',\n",
       "  'How can I enforce a time limit on a call to `exec()`?'],\n",
       " ['How to start activity in another application?',\n",
       "  'Cannot start another Activity of another Application'],\n",
       " ['can we exit without error from telnet with MozRepl?',\n",
       "  'Can\\'t close a scpi(telnet) session with echo \"^]\" when I use it in a script'],\n",
       " [\"What's the difference between these Ruby namespace conventions?\",\n",
       "  'Is there a way to namespace a PORO class without a module'],\n",
       " ['What is \"x && foo()\"?', 'how does && and || operator work'],\n",
       " ['What does ** (double star) and * (star) do for parameters?',\n",
       "  'Python method/function arguments starting with asterisk and dual asterisk',\n",
       "  'What does asterisk * mean in Python?',\n",
       "  'What do *args and **kwargs mean?'],\n",
       " ['Recursive Fibonacci', 'Fibonacci series'],\n",
       " ['How long are notifications stored on APNS servers?',\n",
       "  'How long does a push notification sit in queue before being removed?'],\n",
       " ['python manage.py migrate error',\n",
       "  'Postgresql: password authentication failed for user \"postgres\"'],\n",
       " ['Working aroung passing an Implicit parameter to every single template',\n",
       "  'How to access Play Framework 2.4 guice Injector in application?'],\n",
       " ['How to check visibility of software keyboard in Android?',\n",
       "  'How to capture the \"virtual keyboard show/hide\" event in Android?',\n",
       "  'Maintain keyboard open/closed state for EditText when app comes to foreground'],\n",
       " ['bash: how to delete elements from an array based on a pattern',\n",
       "  'Removing certain strings from array'],\n",
       " ['Rotate around center point in Unity C#',\n",
       "  'How do I rotate an object around a specific point in space and point it to my cursor?'],\n",
       " ['How to extract the strings in double quotes for localization',\n",
       "  'RegEx: Grabbing values between quotation marks'],\n",
       " ['How to do a Ipad screensaver application',\n",
       "  'Ipad Get Images from custom album Device Issue'],\n",
       " [\"The 'Microsoft.ACE.OLEDB.12.0' provider is not registered on the local machine.\",\n",
       "  'c# application stopped working System.InvalidOperationException'],\n",
       " ['Is there a way to distinguish which batch file ran an executable?',\n",
       "  'Can I get command line arguments of other processes from .NET/C#?'],\n",
       " ['Multiple-step OLE DB operation generated errors. Check each OLE DB status value, if available. No work was done',\n",
       "  'SSIS Access DB - Multiple-step OLE DB operation generated errors'],\n",
       " ['PHP : What is the default lifetime of a session',\n",
       "  'How to make cakephp session infinite'],\n",
       " ['Simple performance test, different results',\n",
       "  \"how to make a frame display 50 times for 1 second and disappear each time it's displayed\",\n",
       "  'How do I write a correct micro-benchmark in Java?',\n",
       "  'How can i make this program faster and simple?'],\n",
       " ['reset all values of pie chart and map while click on reset option in dc.js',\n",
       "  'Loading external csv file in jsfiddle'],\n",
       " ['Using Custom WCF Body Deserialization without changing URI Template Deserialization',\n",
       "  'Converting WCF SOAP Service Library to REST Service library for MVC',\n",
       "  'UriTemplates with a Custom WCF 4.5 WebHttpBehavior'],\n",
       " ['Sublime Text generate wrong \"form_for\" tag',\n",
       "  'Do you leave parentheses in or out in Ruby?'],\n",
       " ['How to access the data in javascript from the ctype pointer of type uint8_t',\n",
       "  'Mozilla ctypes, feeding Arraybuffer from c array'],\n",
       " ['Rails ActiveRecord::MultiparameterAssignmentErrors',\n",
       "  'What Does ActiveRecord::MultiparameterAssignmentErrors Mean?'],\n",
       " ['Backbone.js: Elegant way to check if data ready and if the dataset is empty',\n",
       "  'Backbone - Clean/efficient way to wait for multiple events to be fetched before triggering event'],\n",
       " ['Visual Studio 2010 - C++ project - remove *.sdf file',\n",
       "  'Parsing issue in visual studio 2010 SP1'],\n",
       " ['Third party library is binding callbacks, but I need to access class properties',\n",
       "  \"What does 'var that = this;' mean in JavaScript?\"],\n",
       " ['What libjson.h is used for Debian?',\n",
       "  'Trouble installing RJSONIO on R 3.0.2 and Debian wheezy 7.3'],\n",
       " ['ExecutorService not doing its job?',\n",
       "  'GWT CellTable CheckboxCell Not working in IE8'],\n",
       " ['How to bind function to DOM events once and only once so that they will not execute for a second time in the triggering of event?',\n",
       "  'is there a way to force event to fire only once on given element (per element, not whole document) when using live()?',\n",
       "  'Using .one() and .on() together - one handler for each element'],\n",
       " ['PowerMock + EasyMock: private void method without invokation',\n",
       "  'mocking protected method',\n",
       "  'PowerMocking a new instantiation'],\n",
       " ['Background on postal-code-suffix in Geocoder address_components',\n",
       "  'Extracting plus 4 zip code from geocoding using google API, jQuery'],\n",
       " ['Convert char to int in C and C++', 'C++ Convert Ascii Int To Char To Int'],\n",
       " [\"I want to generate 'hash' that will identify given machine, how to do that in Java?\",\n",
       "  \"How can I retrieve a hard disk's unique ID using Java+JNI on Linux, Windows and Mac\"],\n",
       " ['How to make a great R reproducible example?',\n",
       "  'R aggregate data in 6-monthly periods by group'],\n",
       " ['How to show the \"Are you sure you want to navigate away from this page?\" when changes committed?',\n",
       "  'How to disable \"Authentication Required\" and \"Confirm Navigation\" Popup'],\n",
       " [\"react redux-thunk component doesn't render this.props\",\n",
       "  'Redux + Thunk + Axios + Consume external API: \"Uncaught TypeError: Cannot read property \\'1\\' of undefined\"'],\n",
       " [\"Strncpy (String C programming) doesn't perform well the second time\",\n",
       "  'Reading string from input with space character?'],\n",
       " ['dynamically add values to resources (C#)',\n",
       "  'How to use Resources.resx dynamically i,e add new items dynamically'],\n",
       " ['How to hide cursor in a Swing application?',\n",
       "  'Hide Java cursor at any place on the screen'],\n",
       " ['Parallax image and Sticky header on Scroll does not work properly',\n",
       "  'Retrieve the position (X,Y) of an HTML element'],\n",
       " ['BlazeDS Streaming Endpoint Tomcat 7 not working',\n",
       "  \"Tomcat doesn't do blazeds streaming after version 7.0.27?\"],\n",
       " ['Calling methods in a companion object',\n",
       "  'What do <:<, <%<, and =:= mean in Scala 2.8, and where are they documented?'],\n",
       " ['Java: resume Download in URLConnection',\n",
       "  'File Corrupted while downloading and during merging'],\n",
       " ['Mule FTP polling stops without error or warning',\n",
       "  'Commons Net FTPClient hangs indefinitely with Mule'],\n",
       " ['jquery livequery problem',\n",
       "  'Difference between div id and div class',\n",
       "  'div class vs id',\n",
       "  'CSS: are class and id interchangeable?',\n",
       "  'CSS Best Practice about ID and Class?',\n",
       "  'Cascading style sheets use \"id\" or \"class\"'],\n",
       " ['Memory comparison, which is faster?', 'C array comparison'],\n",
       " ['Entity Framework Code First Update a Single Property of a Complex Type',\n",
       "  'Tracking changes of complex types in Entity Framework'],\n",
       " ['Can I get the current user from Active Directory LDAP using a VBA ADO Connection?',\n",
       "  'How do I get the Current User identity for a VPN user in a Windows forms app?',\n",
       "  'How do I get the current logged in Active Directory username from VBA?'],\n",
       " ['Hosted PowerShell cannot see Cmdlets in the same Assembly',\n",
       "  'Trying to invoke PSCmdlet class from within C#'],\n",
       " ['Using Auto Layout in UITableView for dynamic cell layouts & variable row heights',\n",
       "  'iOS8: Autosize table cell that contains inner table'],\n",
       " ['Replacing Document.write Problems(I did some research but still failed)',\n",
       "  'Could someone explain why this document.write overwrites the entire page?'],\n",
       " ['Rails namescoped model object without module prefix route path',\n",
       "  'Rails 3 routes and modules'],\n",
       " ['How do I change Eclipse to use spaces instead of tabs?',\n",
       "  'Inserting Spaces Instead of Tabs in ALL Files'],\n",
       " ['Convert int to ASCII and back in Python',\n",
       "  \"Cython can cast int 65 into char 'A'?\"],\n",
       " ['Apply CSS to a div using jQuery, only when it appears in the screen',\n",
       "  'Check if element is visible after scrolling',\n",
       "  'show/hide DIV when passed the other div'],\n",
       " ['CORS not working on Chrome', 'CORS policy on cached Image'],\n",
       " ['How to Do Mass Update in Alfresco Using CMIS',\n",
       "  'How to filter folder children using cmis query?'],\n",
       " ['XSLT: output unmatched elements from two pieces of xml',\n",
       "  'filtering XML tags using XSLT'],\n",
       " ['angularjs two directives on one element',\n",
       "  'What are the nuances of scope prototypal / prototypical inheritance in AngularJS?'],\n",
       " ['Print-out of a html5 canvas?',\n",
       "  'Printing the contents of the canvas tag',\n",
       "  'Capture HTML Canvas as gif/jpg/png/pdf?'],\n",
       " ['Change the CSS class of an input on validation error with razor',\n",
       "  'Apply Twitter Bootstrap Validation Style and Message to ASP.NET MVC validation'],\n",
       " ['How can I read and parse CSV files in C++?',\n",
       "  'checking to see if any mistakes with an inputted file'],\n",
       " ['Is there a way to convert number words to Integers?',\n",
       "  'How do I tell Python to convert integers into words',\n",
       "  'Code Golf: Number to Words'],\n",
       " ['List goals/targets in GNU make that contain variables in their definition',\n",
       "  'How do you get the list of targets in a makefile?',\n",
       "  'Why is rake db:migrate:reset not listed in rake -T?'],\n",
       " ['Things to look out for when writing a std::allocator replacement for STL containers',\n",
       "  'C++ standard library and Boehm garbage collector'],\n",
       " ['mysql Failed to read auto-increment value from storage engine',\n",
       "  'Can SELECT but not INSERT into database'],\n",
       " ['php GD add padding to image',\n",
       "  'php GD add padding to image and keep rectangle'],\n",
       " ['How to give ASP.NET access to a private key in a certificate in the certificate store?',\n",
       "  'How to operate with X509 certificates in .NET code'],\n",
       " ['Retrieve only the queried element in an object array in MongoDB collection',\n",
       "  'How to get and update nested document in mongo db using java'],\n",
       " ['Trigger function after update complete', 'Bug after update TreeTable'],\n",
       " ['Check if an object is in a shelve',\n",
       "  'Python class inherits object',\n",
       "  'What is the difference between old style and new style classes in Python?'],\n",
       " ['Is Laravel task scheduler reliable?',\n",
       "  'Does boost asio io_service guarantee execution of two parallel call chains?'],\n",
       " ['Is there possibility to solve this with index in SQL Server',\n",
       "  'What do Clustered and Non clustered index actually mean?'],\n",
       " ['Combining (cbind) vectors of different length',\n",
       "  'combine matrixes of vectors with different length together in R'],\n",
       " [\"Automatically adjust columns' width to fit in the datagridview\",\n",
       "  'How do you automatically resize columns in a DataGridView control AND allow the user to resize the columns on that same grid?'],\n",
       " ['Arrays, linked lists and other data structures in cmd.exe (batch) script',\n",
       "  'Batch: variable definition useable in count loop'],\n",
       " [\"Android Studio - local path doesn't exist\",\n",
       "  'Why am I getting \"Local path does not exist\" from my Android project in IntelliJ IDEA?'],\n",
       " ['when does the main thread die?',\n",
       "  'Multiple threads using System.out.println in Java'],\n",
       " ['Mock document.cookie using Javascript',\n",
       "  'Safely overriding document.cookie in Google Chrome extension'],\n",
       " ['CSS vertical alignment of inline/inline-block elements',\n",
       "  'CSS - inline-blocks not directly side to side'],\n",
       " ['Installing Python3.4.3: 3 tests failed, 3 altered execution environment and 25 skipped',\n",
       "  'Getting errors / failing tests when installing Python3.4.3 on Lubuntu 14.04'],\n",
       " ['How to let an ASMX file output JSON', 'Cannot call Webmethod from JQuery'],\n",
       " ['Why the option to use attributes in new ATL projects was removed from Visual Studio 2008?',\n",
       "  'How do you load data into an attributed database class generated by the MFC application wizard?'],\n",
       " ['use openmp in iterating over a map',\n",
       "  'c++: OpenMP and non-random-access STL containers - a possible workaround'],\n",
       " ['How to use the result of one query in another query (PHP/MySQL)',\n",
       "  \"Why shouldn't I use mysql_* functions in PHP?\"],\n",
       " [\"Why shouldn't I use mysql_* functions in PHP?\", 'to create json format'],\n",
       " ['Delphi: capture app window in Windows10',\n",
       "  'GetWindowRect returns a size including \"invisible\" borders'],\n",
       " ['Convert NSArray value to int', 'Convert NSString to NSInteger?'],\n",
       " ['How can I convert ereg expressions to preg in PHP?',\n",
       "  'Form not sending, function eregi() is deprecated',\n",
       "  'Escape string to use in mail()'],\n",
       " ['is it possible to add components to UIDatepicker?',\n",
       "  'How do I rewrite the UIDatePicker component?'],\n",
       " ['PHP ZIP files on the fly',\n",
       "  'Manipulate an Archive in memory with PHP (without creating a temporary file on disk)',\n",
       "  'PHP Zip 3 small text files and force download'],\n",
       " ['Could not read from Info.plist',\n",
       "  'Xcode can\\'t open Info.plist -- error says \"there is no such file\"'],\n",
       " [\"What's the best way to check if a String contains a URL in Java/Android?\",\n",
       "  'How do you test if String is in URL format?'],\n",
       " [\"How do I allow a user to install MySQL on a user's machine more easily so they can connect to it via a Java application?\",\n",
       "  'Java and SQLite'],\n",
       " ['Side effects of application level initialization of libraries?',\n",
       "  'Is using the Application class as a hack-workaround for configuration changes acceptable?'],\n",
       " ['why font list is empty for imagemagick?',\n",
       "  'Installing additional fonts for Imagemagick on GAE Flexible environment'],\n",
       " ['method to for http or https based on current url?',\n",
       "  'Is a link without the protocol valid XHTML? i.e. <a href=\"//www.example.com/\">'],\n",
       " ['c# How to use custom extensions in generic method',\n",
       "  \"Why Doesn't C# Allow Static Methods to Implement an Interface?\"],\n",
       " [\"Pycharm unit test interactive debug command line doesn't work\",\n",
       "  'no output in console for unittests in pycharm 2017'],\n",
       " ['Show \"All Instances\" missing in eclipse debug view',\n",
       "  'Cannot drop to frame?'],\n",
       " ['Load a WPF BitmapImage from a System.Drawing.Bitmap',\n",
       "  'wpf - Can i use System.Drawing in wpf?',\n",
       "  'Show Drawing.Image in WPF',\n",
       "  'Using Image control in WPF to display System.Drawing.Bitmap'],\n",
       " ['PHP + MySQL transactions examples',\n",
       "  'PHP & mySQL: Simple code to implement Transaction - Commit & Rollback'],\n",
       " ['ThreadPool and sending emails',\n",
       "  'ThreadPool and Memory (BTStackServer) exception - .NET'],\n",
       " ['PDO bindParam vs. execute',\n",
       "  'SQL NULL insertion not working',\n",
       "  'How do I insert NULL values using PDO?'],\n",
       " ['How to make base class call its virtual function?',\n",
       "  \"How can I call the 'base implementation' of an overridden virtual method?\",\n",
       "  'How do we call a virtual method from another method in the base class even when the current instance is of a derived-class?'],\n",
       " ['Why filtering an unsorted list is faster than filtering a sorted list',\n",
       "  'Why is processing a sorted array slower than an unsorted array?',\n",
       "  'Why is it faster to process a sorted array than an unsorted array?'],\n",
       " ['Starting and stopping an ffmpeg pipeline in python',\n",
       "  'Python: execute cat subprocess in parallel'],\n",
       " ['Php-intl installation on XAMPP',\n",
       "  'Magento says INTL is not installed, but php -m shows that it is there'],\n",
       " ['JavaScript: Position of constructor declarations relative to their use, when inside a function',\n",
       "  'JavaScript function declaration and evaluation order'],\n",
       " ['Overriding methods in Swift extensions',\n",
       "  'Xcode 8 with \"Release: Fastest, Smallest [-Os]\" have some weird issue and not functional well in some case'],\n",
       " ['How to show 0 for incomplete Series in Highcharts',\n",
       "  'How to make highcharts default to 0 for missing data'],\n",
       " ['How to run SQL Server stored procedure query for each value of a CSV',\n",
       "  'how to split and insert CSV data into a new table in single statement?'],\n",
       " [\"WordPress - every SEO plugins results in admin kicked out with 'no sufficient permissions'\",\n",
       "  'WordPress + CloudFront Flexible SSL ends up in redirect loop (https)'],\n",
       " ['How to grab raw all raw html within a certain XPath from a local file in Python',\n",
       "  'Get all text inside a tag in lxml'],\n",
       " ['How to see how far index of regex went on unsuccessful match',\n",
       "  'Regex to compare string and see where is the differece',\n",
       "  'decompile assembly into project',\n",
       "  'How to show which sub-regex failed to match?'],\n",
       " ['Global qualification in base specifier',\n",
       "  'Global qualification in a class declarations class-head',\n",
       "  'What is this crazy C++11 syntax ==> struct : bar {} foo {};?'],\n",
       " ['AngularJS + JQuery : How to get dynamic content working in angularjs',\n",
       "  'How to get dynamic content working in angularjs on button click'],\n",
       " ['C# Iterating through an enum? (Indexing a System.Array)',\n",
       "  'Iterate over enum?'],\n",
       " ['MYSQL incorrect DATETIME format',\n",
       "  'Should I use a big INT or regular INT in MySQL to store a timestamp?'],\n",
       " ['How to pass a value from to a page in Chrome extension development?',\n",
       "  'How to trigger an event after a Chrome extension popup is displayed?'],\n",
       " ['Javacards IDE, and JCOP tools for eclipse unavailable to download',\n",
       "  'How can i select Hello World Applet from my SAM card and then how send APDU for receive \"48 65 6C 6C 6F\" that it is equivalent with \"Hello\" String'],\n",
       " ['Fading out text at bottom of a section with transparent div, but height stays under section after overlaying div',\n",
       "  'Hiding content with shadow'],\n",
       " [\"Primefaces 3.4 Datatable doesn't refresh correctly after delete row\",\n",
       "  'primefaces datatable row delete does not delete the same row in UI'],\n",
       " ['Resize an Image C#',\n",
       "  'Resize an added picture in a ppt slide with c#',\n",
       "  'Resize image proportionally with MaxHeight and MaxWidth constraints'],\n",
       " ['How to subtract two 64 bit integers in 8086 assembly',\n",
       "  'File size in assembly',\n",
       "  'Get file size with stat syscall'],\n",
       " ['Scanning barcode in iOS 8 and displaying barcode',\n",
       "  'Barcode Generation from within iOS App',\n",
       "  'QR Code Scanning in ios application',\n",
       "  'Getting only white screenshot'],\n",
       " ['Eclipse error alert on opening Graphics Layout',\n",
       "  'ADT 22.3 (android 4.4) - getting error \"After scene creation, #init() must be called\"'],\n",
       " ['Custom redirect from AuthorizationHandler (ASP.NET Core)',\n",
       "  'How do you create a custom AuthorizeAttribute in ASP.NET Core?'],\n",
       " ['How to tell Ajax.ActionLink OnSuccess callback which element initiated the ajax',\n",
       "  'using $(this) in a Ajax.ActionLink',\n",
       "  'JavaScript - onClick to get the ID of the clicked button'],\n",
       " ['Dedicated distributed system to handle matlab jobs',\n",
       "  'Can I buy remote MATLAB processing time?'],\n",
       " ['Design by Interface vs IoC/DI',\n",
       "  'Why do I need an IoC container as opposed to straightforward DI code?'],\n",
       " ['Android dex gives a BufferOverflowException when building',\n",
       "  'Unable to execute dex: java.nio.BufferOverflowException. Check the Eclipse log for stack trace'],\n",
       " ['How to handle shopping cart and payment in an android app?',\n",
       "  'Shopping Cart API for any payment gateway? (PayPal at least required)'],\n",
       " ['How can I get column names from a table in SQL Server?',\n",
       "  'How to use GROUP BY to concatenate strings in SQL Server?',\n",
       "  'Trying to format SQL query results'],\n",
       " ['Get indicies of unique rows in a matrix',\n",
       "  'Find indices of duplicated rows'],\n",
       " ['Want to send large data(ex, List<T>) to SP, using NHibernate in .Net',\n",
       "  'Passing List<> to SQL Stored Procedure'],\n",
       " ['How do I get a TextBox to only accept numeric input in WPF?',\n",
       "  'Numeric TextBox in C# - WPF'],\n",
       " ['How to add gridview rows to a datatable?', 'Add Gridview Rows'],\n",
       " ['Popping view controller immediately after pushing it',\n",
       "  'iPhone UINavigation Issue - nested push animation can result in corrupted navigation bar'],\n",
       " ['Handling data in a PHP JSON Object', 'How to get data from a JSON object?'],\n",
       " ['UIImageView - anyway to use 2 content modes at the same time?',\n",
       "  'Alignment UIImageView with Aspect Fit'],\n",
       " ['Does a database of user-agent to browser brand mappings exist?',\n",
       "  'Is there an online user agent database?'],\n",
       " ['WIX database deployment, installation', 'Wix Load items into ComboBox'],\n",
       " ['How to use multiple arrays in \" single \" foreach() loop',\n",
       "  'Two arrays in foreach loop'],\n",
       " ['Our ASP.NET core RC1 application stopped working and then started working again',\n",
       "  \"Method not found: 'Newtonsoft.Json.JsonSerializerSettings Microsoft.AspNet.Mvc.MvcJsonOptions.get_SerializerSettings()'\"],\n",
       " ['SQL to detect \"sequence break\"',\n",
       "  'Insert 0 to 999999 rows in a table in MYSQL'],\n",
       " ['Memory requirements of an Object reference on a 64 bit JVM',\n",
       "  'Is it bad to have many references to the same object?'],\n",
       " ['Node app created by enclose module getting shuts down on idle in production mode',\n",
       "  'node js - How do I create build for commercial usage?',\n",
       "  'How do I create node js applicaton compiled by JXcore for commercial usage'],\n",
       " ['PoEdit keywords - plurals',\n",
       "  \"How to translate CakePHP's core domain strings with POEdit?\",\n",
       "  'How to make PoEdit correctly parse custom \"ngettext\" implementation?'],\n",
       " ['mysql query help',\n",
       "  'SUM multiple columns across multiple tables grouping on date'],\n",
       " ['How to sort by primary date key and secondary alphanumeric in PHP',\n",
       "  'PHP Sort a multidimensional array by element containing date'],\n",
       " [\"android: check if a service is running don't work\",\n",
       "  'How to check if a service is running on Android?'],\n",
       " ['MATLAB: How to import multiple CSV files with mixed data types',\n",
       "  'How to read csv files in matlab as you would in R?'],\n",
       " ['How can I develop for iPhone using a Windows development machine?',\n",
       "  'How to Build for iOS on Windows?'],\n",
       " ['Ajax call to create instance of a model onClick (Rails 4)',\n",
       "  'Ruby Rails - structuring data for AJAX call to controller action',\n",
       "  'jQuery.ajax returns 400 Bad Request'],\n",
       " ['Why code analyzers recommend to dispose IDisposable fields?',\n",
       "  'Why is it always necessary to implement IDisposable on an object that has an IDisposable member?'],\n",
       " ['Reversing a linked list in Java, recursively',\n",
       "  'Reverse a linked list recursively in Java'],\n",
       " ['CSS to prevent child element from inheriting parent styles',\n",
       "  'Make a parent div webkit-filter not affect children'],\n",
       " ['Cross platform .Net?', 'Best practices for portable C#'],\n",
       " ['Getting a 411 Length Required error when parameters are very long',\n",
       "  'Getting request payload from POST request in Java servlet'],\n",
       " ['Why .NET String is immutable?',\n",
       "  'Tried replace, trim but cannot remove the quotation mark from a string C#'],\n",
       " ['filling up an custom tableviewCell with images',\n",
       "  'Drawing 6 imageviews inside 1 cell'],\n",
       " ['Mailer Error: The following From address failed: Called Mail() without being connected',\n",
       "  'Called Mail() without being connected Mailed Error'],\n",
       " [\"Getting error: Could not find class 'android.app.AppOpsManager', referenced from method com.google.android.gms.common.GooglePlayServicesUtil.zza\",\n",
       "  'Not able to use Google Place API'],\n",
       " ['How to draw a line between draggable and droppable?',\n",
       "  'jsRender - How to call an external template from a nested template',\n",
       "  'jQuery x y document coordinates of DOM object'],\n",
       " ['Pipeline to create Voronoi Meshes',\n",
       "  'Voronoi Diagram Edges: How to get edges in the form (point1, point2) from a scipy.spatial.Voronoi object?'],\n",
       " ['How to log search requests on Android',\n",
       "  'android how to place a Quick Search Box in application'],\n",
       " ['How to convert pcm samples in byte array as floating point numbers in the range -1.0 to 1.0 and back?',\n",
       "  'Change Audio Samplerate through this code which currently changed Bit depth?'],\n",
       " ['How to create SQL Server CE database in Delphi?',\n",
       "  'Connecting to a SQL Compact file (.sdf) using an ADO connection in Delphi'],\n",
       " ['Python, Unicode, and the Windows console',\n",
       "  'Reading Unicode file data with BOM chars in Python'],\n",
       " ['How to use Angular js Validation with Google Api',\n",
       "  'AngularJS form validation inside google places directive'],\n",
       " ['MWFeedParser in-app web browser INSTEAD of safari',\n",
       "  'NSXMLParser example',\n",
       "  'Which is the best method to parse RSS Feeds in iphone'],\n",
       " ['How to create a density plot in matplotlib?',\n",
       "  'frequency trail in matplotlib'],\n",
       " ['Should I comment my tests?', 'Unit test documentation'],\n",
       " [\"Why doesn't the selector h3:nth-child(1):contains('a') work?\",\n",
       "  'What tool can I use to test the :contains() CSS3 pseudo-class in a browser?'],\n",
       " ['Jquery .animate() stop scrolling when user scrolls manually?',\n",
       "  'Slowly scroll down a page permanently without heavy CPU usage or laggy scrolling'],\n",
       " ['Error on Facebook Video Sharing IOS Objective C',\n",
       "  'How to share NSData or phasset video using Facebook iOS SDK 4.0 FBSDKShareDialog'],\n",
       " ['Load remote JavaScript files via the address bar',\n",
       "  'Fire an event to a Form.Element.EventObserver using PrototypeJS',\n",
       "  'Trigger an event with Prototype'],\n",
       " ['How to delete Duplicates in MySQL table',\n",
       "  'To delete duplicate record without primary key or unique key or temp table'],\n",
       " ['App Engine SSL for Custom Domain within Developer Console (not via Google Apps)',\n",
       "  'AppEngine subdomains to modules without wildcard mapping'],\n",
       " ['What are the Xms and Xmx parameters when starting JVMs?',\n",
       "  'what is vm option in netbeansproject properties?',\n",
       "  'What does -XX:MaxPermSize do?',\n",
       "  'How can I set VM options in a Java Netbeans Platform Modular Project?'],\n",
       " ['I need to insert a value based on year_num',\n",
       "  'SQL Server auto increment a column without primary key'],\n",
       " ['Auto-update library for .NET?',\n",
       "  'How to update application files using patching?'],\n",
       " ['document.getElementById vs jQuery $()',\n",
       "  'Replacing contents of a div using for loop in jquery',\n",
       "  'jQuery.ajax() inside a loop',\n",
       "  'JavaScript closure inside loops – simple practical example'],\n",
       " ['SSIS - Reading from a multi part text file',\n",
       "  'How do I split a string so I can access item x?'],\n",
       " ['Adding a subview larger than cellHeight to a UITableViewCell?',\n",
       "  'Adjusting the positions of the labels in a UITableViewCell'],\n",
       " ['How do get the name and size OF image Javascript',\n",
       "  'JavaScript closure inside loops – simple practical example'],\n",
       " [\"I can't find a light table cheat sheet\",\n",
       "  'light table paredit surround with parens'],\n",
       " ['I want to store the value from the html5 input type = \"date\" element and want to store the exact same in the database',\n",
       "  'Converting a date in MySQL from string field'],\n",
       " ['Do I cast the result of malloc?', 'How to point one structure to another'],\n",
       " ['How to import/export all collections of the MongoDB database using mongodb java driver?',\n",
       "  'Export / Import Mongodb databases in Java'],\n",
       " ['Flat File to retain commas from SQL data', 'Commas within CSV Data'],\n",
       " ['JPA: How do I synchronize the persistence context with the result of the bulk update or delete?',\n",
       "  'EntityManager refresh'],\n",
       " ['Defining type aliases',\n",
       "  'Equivalent of typedef in C#',\n",
       "  \"Should 'using' statements be inside or outside the namespace?\"],\n",
       " [\"Your branch is ahead of 'origin/master' by 3 commits\",\n",
       "  'git: Your branch is Ahead by X commits'],\n",
       " ['A good OpenID implementation in Erlang?',\n",
       "  'Which Erlang implementation of OpenId should I use, if any?'],\n",
       " ['Why is C++ Doing this?',\n",
       "  'Preventing console window from closing on Visual Studio C/C++ Console application'],\n",
       " ['Python Lxml: Adding and deleting tags',\n",
       "  'How to handle adding elements and their parents using xpath'],\n",
       " ['C++ Static member initalization (template fun inside)',\n",
       "  'Static field initialization order',\n",
       "  'Initialization order of static data inside class template'],\n",
       " ['ASP.NET MVC HandleError',\n",
       "  'HandleError - how do you display exception message in error page?'],\n",
       " [\"HttpClient won't import in Android Studio\",\n",
       "  'Where to put apache http legacy jar? App / Libs folder disappeared in Android Studio 1.4',\n",
       "  'Have no libs directory in Android Studio'],\n",
       " ['C# Create Window Service to Synchronize MS. Access to SQL Server',\n",
       "  'How might I schedule a C# Windows Service to perform a task daily?',\n",
       "  'Easiest language for creating a Windows service'],\n",
       " ['Authenticating when using a subdomain route',\n",
       "  'Is it possible to make an ASP.NET MVC route based on a subdomain?'],\n",
       " ['Communication between 2 nodes in a cluster',\n",
       "  'Communication between local JVMs'],\n",
       " ['Remove specific JSON oobjects from a File and then store this file',\n",
       "  'python: Is this a wrong way to remove an element from a dict?'],\n",
       " ['Should I refrain from handling Promise rejection asynchronously?',\n",
       "  'How to throw exception from async function'],\n",
       " ['How to add android studio library',\n",
       "  'How do I add a library project to Android Studio?'],\n",
       " ['iOS deployment target 4.3, base sdk 6.0 not working on iOS 6 device',\n",
       "  'iOS 6 autorotation in simulator varies from actual iOS 6 device'],\n",
       " ['C# SQL Server input', 'Bad Storage property: unknown cause'],\n",
       " ['App crashes when screen locked',\n",
       "  'Starting Activity from Fragment causes NullPointerException'],\n",
       " ['Offset x value starting point for matplotlib',\n",
       "  \"Plotting a line that's first value is not at x = 0\"],\n",
       " ['Do I cast the result of malloc?',\n",
       "  'Valgrind: Invalid free() on String Array in C'],\n",
       " ['MessageQueueException (0x80004005): Access to Message Queuing system is denied',\n",
       "  'Win Service getting permission denied to Message Queuing'],\n",
       " ['Real asp.net memory leak or is visual studio to blame',\n",
       "  'ASP.NET Website Memory Usage quite high'],\n",
       " ['What does # mean in LISP',\n",
       "  \"Why is it necessary to put #' in some cases in Lisp?\"],\n",
       " [\"Twitter intent's 'tweet' event callback triggering on 'click' instead of 'tweet'\",\n",
       "  'Can we detect if page shared on Twitter and LinkedIn'],\n",
       " ['JavaFX TableView Sort Policy',\n",
       "  'Java: lambda local variable declaration issue'],\n",
       " ['How To Get Link(href) Value using HtmlAgilityPack',\n",
       "  \"How to get a link's title and href value separately with html agility pack?\"],\n",
       " ['What is the best practice for making an AJAX call in Angular.js?',\n",
       "  'Calling a php file from angularJs'],\n",
       " ['AngularJS tabs with ng-repeat', 'AngularJS tabs acting weird'],\n",
       " ['How to solve : \"Unsupported class version number[52.0] maximum 51.0, Java1.7\"?',\n",
       "  'Error Proguard Unsupported class version number',\n",
       "  'Unsupported major.minor version 52.0 in Visual Studio + Xamarin'],\n",
       " ['SQL Server Error: maximum number of prefixes. The maximum is 3. with join syntax',\n",
       "  'SQL Server Error: \"maximum number of prefixes. The maximum is 3\" with subselect syntax'],\n",
       " ['Key hash for Android-Facebook app',\n",
       "  'android facebook login is not working with native facebook installed'],\n",
       " ['Controlling Tabs Through Other forms C# Winform Application',\n",
       "  'How to hide TabPage from TabControl'],\n",
       " ['How to wire up GWT hyperlink click handler?',\n",
       "  'How do i know that which menu item is clicked?'],\n",
       " ['oracle external table options',\n",
       "  'problem in finding list of files in directory'],\n",
       " ['Most efficient way to find next 13rd Friday using programming',\n",
       "  'Calculating future occurrences of Friday the 13th'],\n",
       " ['How can I figure out why a call to LLVMTargetMachineEmitToFile fails when called using llvm-sys?',\n",
       "  \"Segfault when calling llvm_sys' LLVMCreateTargetMachine to generate object file in Rust\"],\n",
       " ['What is difference between XML Schema and DTD?',\n",
       "  'How to choose between DTD and XSD',\n",
       "  'Why use both XSD and DTD for XML?'],\n",
       " ['Change language settings (locale) for the device',\n",
       "  'Android Settings LocalePicker on Honeycomb'],\n",
       " [\"Android studio doesn't show my LG G5 under connected devices\",\n",
       "  'Install ADB interface driver for android'],\n",
       " [\"Replace character ā with it's html entity &#257;\",\n",
       "  'There are symbols like Â and so on in database, what to do?',\n",
       "  'PHP Multi Byte str_replace?',\n",
       "  'Replace unicode character'],\n",
       " ['Java Class.cast() vs. cast operator',\n",
       "  'When should I use the java 5 method cast of Class?',\n",
       "  'Why would I use java.lang.Class.cast'],\n",
       " ['what happens when you modify an element of an std::set?',\n",
       "  'What is an alternative set-like data structure when modifying elements is necessary?'],\n",
       " ['Convert String to Code', 'Evaluate custom input conditions in Java'],\n",
       " ['Node.js: How to write input values of a formular into a JSON file when the submit button is pressed?',\n",
       "  'How to put the submitted data of the form into a JSON file via Node.js?'],\n",
       " ['Is there is any xml to json parser that can be used in oracle query?',\n",
       "  'I have running json_object in oracle 12.1.0.2 and it is saying error . why?'],\n",
       " ['Case objects vs Enumerations in Scala', 'Creating a Java Enum in Scala'],\n",
       " ['How do I grab the numbers in a String array and place them into an int array',\n",
       "  'Determine if a String is an Integer in Java'],\n",
       " ['Lint-checking tools for Objective-C development',\n",
       "  'Does Objective-C have similar tool like StyleCop for .net?'],\n",
       " ['Error - com.microsoft.windowsazure.mobileservices.MobileServiceException: Error while authenticating user',\n",
       "  'Security error to persist data in Azure with an Android app'],\n",
       " ['fetching core data values using predicate',\n",
       "  'Fetching data from entity using nspredicate'],\n",
       " [\"Google Map Directions Api can't perform route/path request\",\n",
       "  'Answer : Draw path between two points using Google Maps Android API v2',\n",
       "  'How to draw interactive Polyline on route google maps v2 android'],\n",
       " ['JPA/Hibernate inheritance with multiple levels and tables.',\n",
       "  'How to mix inheritance strategies with JPA annotations and Hibernate?',\n",
       "  'Mapping multi-Level inheritance in Hibernate with Annotations'],\n",
       " ['php 5.6 ssl certificate verify', 'PHP 5.6 openssl change cert. path'],\n",
       " ['Tablesorter -> Extracting filtered data to csv file',\n",
       "  'Extracting filtered table data'],\n",
       " ['Non repeating random number array', 'How to get different random numbers?'],\n",
       " ['Android notification not working', 'One time alarm not working'],\n",
       " ['How to expand text search on class properties to include numeric text comparision',\n",
       "  'How to search ObservableCollection for text match',\n",
       "  'Dynamic expression tree to filter on nested collection properties'],\n",
       " ['add cookie to WebClient',\n",
       "  'Using only one Webclient instance in multiple XAML.cs files'],\n",
       " ['\"Unknown class in interface builder file\" when using class which inherits from a generic class in a Storyboard',\n",
       "  'Generic controller in swift 2.0 using storyboards'],\n",
       " ['What is The Rule of Three?',\n",
       "  'Rule-of-Three becomes Rule-of-Five with C++11?',\n",
       "  'pointer member of a class has to point to heap-allocated data?'],\n",
       " ['How to run python script with elevated privilege on windows',\n",
       "  \"ioerror errno 13 permission denied: 'C:\\\\\\\\pagefile.sys'\"],\n",
       " ['How to add an android project as a JAR file in another android project',\n",
       "  'How to use your own created jar file in another android application'],\n",
       " ['numbers in string come out as \"not numbers\" or fals - Python',\n",
       "  'How do I check if a string is a number (float)?'],\n",
       " ['How to implement TabHost sliding effect?', 'Animating my FragmentTabHost'],\n",
       " ['Class not found in Hadoop job',\n",
       "  'Issue on Azure DocumentDB and Hive integrations on HDInsight using Microsoft Hive ODBC driver'],\n",
       " ['Closure axiom for instances so that reasoner can correctly classify instances in ontology',\n",
       "  'owl protege how can I describe a class that has just some properties?'],\n",
       " ['How to combine multiple conditions to subset a data-frame using \"OR\"?',\n",
       "  'Multiple conditions in R using a specific variable'],\n",
       " ['before cell select jtable event', 'Validate JList Before Selection Occur'],\n",
       " [\"Scala IDE 4.0.0 thinks there's errors in an out-of-the-box Play Framework 2.3.7 program\",\n",
       "  'How to make Eclipse see the changes in Play! compiled templates?'],\n",
       " ['How to say != 0-9 in c ++',\n",
       "  'how to check if given c++ string or char* contains only digits?',\n",
       "  'C++ check if string is numeric',\n",
       "  'Regex Matching numbers with floating point'],\n",
       " ['Cannot install Cython on win7',\n",
       "  'Cython Installation error',\n",
       "  'How can I install cython',\n",
       "  'Cannot find vcvarsall.bat when running a Python script'],\n",
       " ['Javascript mechanism to autoscroll to the bottom of a growing page?',\n",
       "  'Automatically scroll down browser window when div grows',\n",
       "  'Scroll Automatically to the Bottom of the Page'],\n",
       " ['ActiveModel Forbidden Error in Rails 4.0.0', 'Writing Nested Form in RoR'],\n",
       " ['Merge an array of Javascript objects based on a Key Property (multilevel)',\n",
       "  'How can I merge properties of two JavaScript objects dynamically?'],\n",
       " [\"How to show Internet Explorer's History in a control?\",\n",
       "  'How do I get the Internet Explorer download history?'],\n",
       " ['Passing Data between View Controllers',\n",
       "  'Passing Data between View Controllers (yes, I know... )'],\n",
       " [\"WPF MVVM Background UIElement doesn't change on NotifyPropertyChanged\",\n",
       "  'WPF ToggleButton IsChecked Trigger'],\n",
       " ['How to use NSScanner?', \"What describes nil best? What's that really?\"],\n",
       " ['contact form issue, not able to send mail every time',\n",
       "  'Connection timed out error when using SMTP to send emails with Delphi?',\n",
       "  'Sending email with PHP mail()'],\n",
       " ['WPF TabControl Databinding',\n",
       "  'How to bind property of the WPF TabItem from MVVM way?'],\n",
       " ['Why JSON API Specification suggest use of hyphen/minus to separate words in member names?',\n",
       "  'Unable to access JSON property with \"-\" dash'],\n",
       " [\"Update check' issue when updating an entity using DataContext Attach method\",\n",
       "  'Entity attachment issues in LINQ',\n",
       "  \"How much overhead does 'Update Check' have for LINQ UPDATES\"],\n",
       " ['How to install pillow on Mac?',\n",
       "  'Fail during installation of Pillow (Python module) in Linux'],\n",
       " ['How to modify my R code to plot this kind of gantt chart?',\n",
       "  'Gantt style time line plot (in base R)'],\n",
       " ['setinterval in chrome doesnt work',\n",
       "  'setInterval not working properly on Chrome',\n",
       "  'var functionName = function() {} vs function functionName() {}'],\n",
       " ['Determine if an element has a CSS class with jQuery',\n",
       "  'How to check if element has a class'],\n",
       " ['Internet explorer passes undefined to success callback when fetching 30MB of data or more',\n",
       "  'jquery Ajax response \"undefined\" with Internet Explorer'],\n",
       " ['How to strip or escape html tags in Android',\n",
       "  'Parsing JSON data for weather app',\n",
       "  'ANDROID, Parse JSON data from a web server and display on ListView'],\n",
       " ['Silverlight 4 Equivalent to WPF \"x:static\"',\n",
       "  'Dynamically setting the Header text of a Silverlight DataGrid Column',\n",
       "  'Silverlight datagrid header binding to constant'],\n",
       " [\"Why shouldn't I use mysql_* functions in PHP?\",\n",
       "  'How can I return the control to the web page from which another php webpage was called'],\n",
       " ['Errors in if statements in R Shiny checkBoxGroupInput',\n",
       "  'checkBoxGroupInput and if statements (data included)'],\n",
       " ['How to upload file using Selenium WebDriver in Java',\n",
       "  'Upload a file using Selenium IDE 2.9.1'],\n",
       " ['Issue when using a custom font - \"native typeface cannot be made\"',\n",
       "  'Android: Exception in setting Custom Font',\n",
       "  'Using custom font in android TextView using xml',\n",
       "  'Change font of all list items in a list view'],\n",
       " ['How to read shared file from Ubuntu/Samba using C#?',\n",
       "  'Access a Remote Directory from C#'],\n",
       " ['How do I determine k when using k-means clustering?',\n",
       "  'Python K means clustering'],\n",
       " ['Using numeric_limits::max() in constant expressions',\n",
       "  'Why are numeric_limit<T>::min/max not a constants?',\n",
       "  'Why is std::numeric_limits<T>::max() a function?'],\n",
       " ['What is the advantage of using Heredoc in PHP ?',\n",
       "  'YouTube iframe API and WordPress'],\n",
       " ['Single type compile time list: concat with clang',\n",
       "  'Where and why do I have to put the \"template\" and \"typename\" keywords?'],\n",
       " ['iPhone: Unusual crashing on app loading occurs only on ios4',\n",
       "  'I get error 0x8badf00d in iPhone app, and is not the usual suspect'],\n",
       " ['ToUpper() in an Expression.Call',\n",
       "  'call ToUpper in expression tree LINQ',\n",
       "  'Case insensitive string compare in LINQ-to-SQL'],\n",
       " ['JavaScript post request like a form submit',\n",
       "  'How to send javascript variable data to php'],\n",
       " ['How to enter quotes in a Java string?',\n",
       "  \"How to check if a char in the string is '?\",\n",
       "  'Java: Using String.indexOf() to check for the apostrophe character'],\n",
       " ['What is a good embedded database to use with C#?',\n",
       "  'App without remote database'],\n",
       " ['Any simple (and up to date) Java frameworks for embedding movies within a Swing Application?',\n",
       "  'JavaFx and playing HD movies under Ubuntu - low FPS'],\n",
       " ['Segmentation Fault before main', 'segmentation fault with big array size'],\n",
       " ['Encode String to UTF-8',\n",
       "  'JAVA Converter not working with some symbols (Cyrillic and etc.)'],\n",
       " [\"c++ can't convert string to wstring\",\n",
       "  'substr with characters instead of bytes',\n",
       "  'C++ Convert string (or char*) to wstring (or wchar_t*)'],\n",
       " [\"Is it possible to use Mysql with SqlAlchemy and Flask if my mysql socket isn't in /tmp?\",\n",
       "  'Create link or change python-mysql socket location'],\n",
       " ['SSL cert issue while accessing wso2 endpoints through android app',\n",
       "  'Trust Anchor not found for Android SSL Connection'],\n",
       " ['Google Maps API v2: How to make markers clickable?',\n",
       "  'Android Google Map - Clicked marker opens new activity or bigger window',\n",
       "  \"Don't snap to marker after click in android map v2\"],\n",
       " ['How to split a string into a list?',\n",
       "  'python slicing string by pointing special character',\n",
       "  'Python partition and split'],\n",
       " ['How do I stop play function from printing?',\n",
       "  'How to hide output of subprocess in Python 2.7'],\n",
       " ['Titanium Importing a widget inside another widget controller',\n",
       "  'How to import a widget in alloy titanium'],\n",
       " ['Handle Hyperlink Click Event in Outlook Mail in C#',\n",
       "  'Call outlook macro using vbscript or Email Hyper links'],\n",
       " ['transformation in particular sequence',\n",
       "  'XSLT node transformation in a predefined order',\n",
       "  'Keep original XML element sequence after transformation'],\n",
       " ['curl: (60) SSL certificate : unable to get local issuer certificate',\n",
       "  'Google api curl error'],\n",
       " ['How to get all unimplemented methods using TypeElement',\n",
       "  'Java Reflection: Find method usage in custom AbstractProcessor'],\n",
       " ['Keep footer at bottom but not sticky?',\n",
       "  'How can I get a sticky footer on my WordPress theme?',\n",
       "  'Footer on bottom but not sticky'],\n",
       " ['MinGW-w64 compilation errors in libraries',\n",
       "  'Error when traying build Tapi3 c++ example using migw compiler in eclipse'],\n",
       " ['Disconnect user when I loggin with the same user on Symfony2',\n",
       "  'Prevent duplicate login with FOSUserBundle'],\n",
       " ['How do I query for objects with a value in a String collection using Hibernate Criteria?',\n",
       "  'SQL projection utility matching multiple Hibernate alias names to SQL alias ones',\n",
       "  'Is it possible to get the SQL alias of a join table for a Hibernate sqlRestriction?'],\n",
       " ['iOS Wifi-Direct Communication',\n",
       "  'Is peer-to-peer Wi-Fi possible in a captive network?'],\n",
       " ['Slowing process creation under Java?',\n",
       "  \"Need help with performance of Java's ProcessBuilder under Solaris\"],\n",
       " ['javascript css check if overflow',\n",
       "  'Hide fixed size child when scalable parent is too small?'],\n",
       " ['What is an alternative to execfile in Python 3?',\n",
       "  'Python3 - runpy.run_path not working on Ubuntu 10.10'],\n",
       " ['Restructuring (transposing) datatable in c#',\n",
       "  'Transpose in Datatable in ASP.NET'],\n",
       " ['Google Map API v3 parsing xml and getting elements by tag name',\n",
       "  'Google Maps, Ajax XML data',\n",
       "  'Google Maps API: Markers from XML file not being displayed'],\n",
       " ['JS several functions via prototype',\n",
       "  'Is there any difference between constructor function and prototype object when using inheritance?'],\n",
       " ['Remove \"http://\" from URL string',\n",
       "  'Removing \"http://\" from a string',\n",
       "  'PHP Regex to Remove http:// from string',\n",
       "  'PHP: remove `http://` from link title'],\n",
       " ['Issue Selecting Row from Mysql with mysqli_connect() on production',\n",
       "  'How to get useful error messages in PHP?'],\n",
       " ['How to grep Git commit diffs or contents for a certain word?',\n",
       "  'How can I pass a string to git log -S instead of just a word?'],\n",
       " ['Converting year and month (\"yyyy-mm\" format) to a date?',\n",
       "  'String to Date conversion gives me NA only in R'],\n",
       " [\"Microsoft tech references for BULK INSERT may have some gaps ... can't get them to work\",\n",
       "  'Load CSV from Blob to Azure SQL Server - Referenced external data source not found'],\n",
       " ['Syntax for ETag?', 'HTTP: Generating ETag Header', 'E-Tag in http header'],\n",
       " [\"Django Reverse for '' with arguments '('',)' and keyword arguments '{}' not found Error\",\n",
       "  \"Django forms Reverse for '' with arguments '(7,)' and keyword arguments '{}' not found\"],\n",
       " ['Update Multiple Rows in Entity Framework from a list of ids',\n",
       "  'Update specific property using EF',\n",
       "  'Error occurring when Entity State is modified'],\n",
       " ['WCF 4.0 : WebMessageFormat.Json not working with WCF REST Template',\n",
       "  'How can I send an IList via WCF Service?',\n",
       "  'How to return a serialized List or Ilist in linq?'],\n",
       " ['sending email without user interaction android',\n",
       "  'Send mail without user interactions with Intent in android',\n",
       "  'retrieve gmail account details configured in android'],\n",
       " ['Most efficient way to merge two byte arrays into one byte array?',\n",
       "  'Best way to combine two or more byte arrays in C#',\n",
       "  'Array.Copy vs Buffer.BlockCopy'],\n",
       " ['How can I make text orbit along a circular path using HTML5 Canvas?',\n",
       "  'HTML5 Canvas Circle Text'],\n",
       " ['Why was mixing declarations and code forbidden up until C99?',\n",
       "  'Error: Jump to case label',\n",
       "  'What are the signs of crosses initialization?'],\n",
       " [\"How best to design and implement a page elements model, and it's logic?\",\n",
       "  'How to use ternary operator in razor (specifically on HTML attributes)?'],\n",
       " [\"Model with Required attribute doesn't show any error messages for bad user input\",\n",
       "  'ASP.NET MVC Html.ValidationSummary(true) does not display model errors'],\n",
       " ['UIWindow endDisablingInterfaceAutorotationAnimated: error',\n",
       "  'Unknown error [UIWindow endDisablingInterfaceAutorotation]'],\n",
       " ['Using my own method with LINQ to Entities',\n",
       "  'How to Search through all fields in a LINQ table?',\n",
       "  'Entity Framework - how do I get the columns?'],\n",
       " ['knitr: object cannot be found when converting markdown file into html',\n",
       "  'xTable Error inspite of object in memory'],\n",
       " ['Make PRNGs Agree Across Software',\n",
       "  'Random number in the range 1 to sys.maxsize is always 1 mod 2^10'],\n",
       " ['Can I add random @Override annotations to a java fxml controller?',\n",
       "  \"When do you use Java's @Override annotation and why?\"],\n",
       " ['What does % do in JavaScript?', 'If number ends with 1 do something'],\n",
       " ['How to handle unexpected exceptions in JAX-RS',\n",
       "  'Catching unhanded exceptions with JAX RS'],\n",
       " ['Using DispatchQueue to fix Delay in updating NSTextView from switch statement',\n",
       "  'DispatchQueue.main.sync returning exc_bad_instruction Swift 3'],\n",
       " ['Xmlnode how to see if the node exist or not',\n",
       "  'XmlNode.SelectSingleNode syntax to search within a node in C#'],\n",
       " ['Fixing Broken UTF8 encoding',\n",
       "  'UTF-8 all the way through',\n",
       "  \"Can't get rid of diamonds with question marks in the middle since php 5.6 switch\"],\n",
       " ['What does OSGi solve?',\n",
       "  'Maven - choose artifacts at runtime',\n",
       "  'Adding files to java classpath at runtime'],\n",
       " ['Click a button to open a Fragment?', 'ListView in a new activity android'],\n",
       " ['Component interaction via service Angular 2',\n",
       "  'What is the correct way to share the result of an Angular 2 Http network call in RxJs 5?'],\n",
       " ['Laravel custom auth filter',\n",
       "  'Controlling Access to Routes Laravel and Sentry'],\n",
       " ['Boost random number generator',\n",
       "  'Cross-OS distributed computing in C++, rand() issue'],\n",
       " ['Jquery UI resizable issue expands beyond containment (draggable also used)',\n",
       "  'Draggable and resizable div with containment goes out of containment'],\n",
       " ['How to read and write Map<String, Object> from/to parquet file in Java or Scala?',\n",
       "  'Convert file of JSON objects to Parquet file'],\n",
       " ['Language/Framework support for Interacting With CouchDB',\n",
       "  'Using CouchDB to serve HTML'],\n",
       " ['Simple CSS Dropdown',\n",
       "  'How can I drag an element into a dropdown list using jQuery UI sortable()?'],\n",
       " ['Python: Retrieve items from a set', 'Moving Beyond Factories in Python'],\n",
       " ['C - serialization techniques', 'Read/Write struct to fifo in C'],\n",
       " [\"Why isn't there an XML-serializable dictionary in .NET?\",\n",
       "  'TFS 2010: Why is it not possible to deserialize a Dictionary<string, object> with XamlWriter.Save when I can use XamlReader for deserializing'],\n",
       " ['Jquery - Loading Animation Issue',\n",
       "  'How to show loading spinner in jQuery?'],\n",
       " ['Call a parameter of a function in another one',\n",
       "  'How to access variables from other functions in python'],\n",
       " [\"How to assign a Git SHA1's to a file without Git?\",\n",
       "  'Difference in SHA Hash between git hash-object & git hash-object -t',\n",
       "  'Why does Git use the SHA1 of the *compressed* objects rather than the SHA1 of the original objects?',\n",
       "  'Why does git hash-object return a different hash than openssl sha1?'],\n",
       " ['How to solve Missing argument 1 for App\\\\Repositories\\\\FavoriteRepository::delete() ? (Laravel 5.3)',\n",
       "  'Call to undefined method Illuminate\\\\Database\\\\Query\\\\Builder::lists() when seeding after updating to Laravel 5.3',\n",
       "  'How to add dynamic dropdown list column on Laravel 5.3 registration?'],\n",
       " ['Twitter API Rate Limit for Multiple Users', 'API limitation Twitter'],\n",
       " ['How would I go about making this nav menu?',\n",
       "  'CSS: Skew a buttons border, not the text'],\n",
       " ['How to execute an application on the client from a website?',\n",
       "  'Process.Start() keeps running my .exe as a background process MVC ASP.Net',\n",
       "  'Execute application out of session 0 with service'],\n",
       " [\"Android ScrollView doesn't scroll when the keyboard is up\",\n",
       "  'Android soft keyboard covers edittext field'],\n",
       " ['Arrow function vs function declaration / expressions: Are they equivalent / exchangeable?',\n",
       "  'What is this \";(($) => \" and how to make it work on IE?'],\n",
       " ['MS Word does not unlink fields for one document but does for another',\n",
       "  'VBA Excel - Unlink headers & footers in Word'],\n",
       " ['MySQL IF statement not working',\n",
       "  'Conditional insert based on LAST_INSERT_ID',\n",
       "  'MySQL INSERT IF (custom if statements)'],\n",
       " ['Background is not changed when I switch buttons',\n",
       "  'How to change Rectangles with buttons'],\n",
       " [\"Perl didn't match backslashes\",\n",
       "  'Text replacement with backslash in a variable in Perl'],\n",
       " ['Custom naming for EF one to many relation property',\n",
       "  'Improve navigation property names when reverse engineering a database'],\n",
       " ['500 Internal Server Error on JHipster Heroku Oauth2 App when accessing via Swift Alamofire',\n",
       "  'Android retrofit converter exception'],\n",
       " ['Indent xml read from httpservlet request body?',\n",
       "  'How to pretty print XML from Java?'],\n",
       " ['Describe your workflow of using version control (VCS or DVCS)',\n",
       "  'Examples of how to visualize a versioning system?'],\n",
       " ['Any tools can randomly generate the source code according to a language grammar?',\n",
       "  'How do I generate sentences from a formal grammar?'],\n",
       " ['PHP Associative Array Duplicate Keys',\n",
       "  'Printing also the duplicate in an array'],\n",
       " ['CSS Conventions / Code Layout Models',\n",
       "  'Managing CSS Explosion',\n",
       "  'Are there any CSS standards that I should follow while writing my first stylesheet?',\n",
       "  'Existing web-site CSS replacement (re-skinning) best-practices without changing the HTML',\n",
       "  'What is the best method for tidying CSS?'],\n",
       " ['Android Manifest Restrict To Tablets',\n",
       "  'How to restrict app to Android phones only',\n",
       "  'Manifest and supported devices showed in android market'],\n",
       " ['Where can I find documentation on formatting a date in JavaScript?',\n",
       "  'Minimze Date in Jquery'],\n",
       " ['ActiveRecord::UnknownAttributeError - a missing attribute in a User model',\n",
       "  'ActiveRecord::UnknownAttributeError?'],\n",
       " ['Confused about whether Javascript object should contain function to iterate over itself',\n",
       "  'Class vs. static method in JavaScript'],\n",
       " ['Create a object of anonymous type from a dictionary in c#',\n",
       "  'Convert string to object in c#'],\n",
       " ['Custom Delegate Example in Objective-c', 'Custom delegate'],\n",
       " ['Html.ListBox used to save data to model', 'Saving a model within a model'],\n",
       " ['How to getElementByClass instead of GetElementById with Javascript?',\n",
       "  \"How to code document.querySelector('.class').doSomeThing() with native JavaScript\"],\n",
       " ['Correct way to to TDD on a file reading word builder',\n",
       "  'Writing File to Temp Folder'],\n",
       " ['Rename a committed to branch in Mercurial',\n",
       "  'Mercurial: Can I rename a branch?'],\n",
       " ['jQueryUI, function on window close',\n",
       "  'jQuery UI Dialog Box - does not open after being closed'],\n",
       " ['Having issue trying to Add Service Reference in C# WCF',\n",
       "  'Error: Cannot obtain Metadata from WCF service'],\n",
       " ['Can I extend the operators that LINQ-to-SQL supports?',\n",
       "  'How do I tell linq2db how to translate a given expression, ie Split(char) into SQL when it does not know how to do so?'],\n",
       " ['First packet to be sent when starting to browse',\n",
       "  'Interview Questions on Socket Programming and Multi-Threading'],\n",
       " ['Buffered audio in SoundJS', 'SoundJS: mix html and web audio'],\n",
       " ['Should I put #! (shebang) in Python scripts, and what form should it take?',\n",
       "  'Why do people write #!/usr/bin/env python on the first line of a Python script?'],\n",
       " ['FI_Init_FreeType variable declaration error',\n",
       "  'FreeType library and \"Undefined reference to FT_Init_FreeType\"'],\n",
       " ['How transfer a Table from HBase to Hive?',\n",
       "  'What is the right way to set up HBase, hadoop, hive to access Hbase through hive?'],\n",
       " ['LEFT JOIN is fast but RIGHT JOIN is slow even though the same indexes are on both tables',\n",
       "  'utf-8 vs latin1'],\n",
       " ['How to deny access to folder or file',\n",
       "  'how to control the permission in asp.net',\n",
       "  'How to secure access to SWF file using ASP.NET?'],\n",
       " ['Does allocating memory and then releasing constitute a side effect in a C++ program?',\n",
       "  'Is performance of using readonly variable directly different from storing in object then using it?'],\n",
       " ['php.ini & SMTP= - how do you pass username & password',\n",
       "  'Sending email on ubuntu'],\n",
       " ['Failed to process phase STRUCTURE of deployment',\n",
       "  'Cannot deploy ear on WildFly 8 due to failures when processing its structure'],\n",
       " ['Google Charts with Ajax and PHP',\n",
       "  'Google Charts: I get json output but still no graph'],\n",
       " ['CSS-only masonry layout but with elements ordered horizontally',\n",
       "  'Three columns with same height, multiple rows in each with dynamic content'],\n",
       " ['GIT post-receive-pack hangs with TCP ZeroWindow',\n",
       "  'How can I debug git/git-shell related problems?'],\n",
       " ['Servlet, JSP passing attribute',\n",
       "  'Calling a servlet from JSP file on page load',\n",
       "  '@WebServlet annotation with Tomcat 7',\n",
       "  'Servlet returns \"HTTP Status 404 The requested resource (/servlet) is not available\"',\n",
       "  'Change default homepage in root path to servlet with doGet'],\n",
       " ['How to download zip files from authenticated website by python',\n",
       "  'Download a file from https with authentication'],\n",
       " ['How to step in to code implementing new(), on Eclipse, on Linux?',\n",
       "  'How can I do the instruction level debugging with CDT',\n",
       "  'step into system, CRTL functions with Eclipse in Linux'],\n",
       " ['100% width & height Anchor inside flexbox for Webkit Browsers',\n",
       "  'How to make flexbox children 100% height of their parent?'],\n",
       " ['Unexpected type resulting from the ternary operator',\n",
       "  'Difference between if-else and conditional-operator'],\n",
       " ['integer nth root',\n",
       "  'Wrong answer while calculating the nth root of number in cpp',\n",
       "  'Calculate Nth root with integer arithmetic',\n",
       "  'Writing your own square root function'],\n",
       " ['source of historical stock data',\n",
       "  'Using Artificial Intelligence (AI) to predict Stock Prices'],\n",
       " ['Is std::string part of the STL?', 'Can STL be made completely inline?'],\n",
       " ['Serving static pages from a database',\n",
       "  'Storing Images in DB - Yea or Nay?'],\n",
       " ['how can I learn android', 'Programming android apllication'],\n",
       " ['Deserialize XML To Object using Dynamic',\n",
       "  'Deserialize random/unknown types with XmlSerializer'],\n",
       " ['What are copy elision and return value optimization?',\n",
       "  'std::move return value of weak_ptr::lock messing up reference count of shared_ptr?'],\n",
       " ['How to get current location at the instant UIImagePickerController captures an image?',\n",
       "  'how to show latitude and longitude when i capture a image in iOS'],\n",
       " ['Unable to run docker image - no main manifest attribute, in app.jar',\n",
       "  \"Maven - Can't Execute JAR\"],\n",
       " ['Custom parallel extractor - U-SQL',\n",
       "  'How to force file processing on one node without splitting?'],\n",
       " ['How to pass data to backend http proxy from aws custom authorizer',\n",
       "  'AWS API Gateway Custom Authorizer with Proxy setup - Add Custom Headers to Request'],\n",
       " ['remove last n letters from in javascript',\n",
       "  'Javascript chop/slice/trim off last character in string'],\n",
       " ['RegEx match open tags except XHTML self-contained tags',\n",
       "  'Remove html markup from string'],\n",
       " ['Using Jquery AJAX to POST variable in PHP', 'Request Monitoring in Chrome'],\n",
       " ['How to force os.system() to use bash instead of shell',\n",
       "  'Problems running terminal command via Python',\n",
       "  'Syntax error from the shell on a command being passed to os.system'],\n",
       " ['How do I configure IIS for URL Rewriting an AngularJS application in HTML5 mode?',\n",
       "  'Azure cloud service web role Angularjs access denied'],\n",
       " ['Cancel Post request in Afnetworking 2.0',\n",
       "  'How to cancel a specific POST request through AFNetworking?'],\n",
       " ['Wanted to know in detail about how shared libraries work vis-a-vis static library',\n",
       "  'When to use dynamic vs. static libraries'],\n",
       " ['join query in codeigniter',\n",
       "  'formatting an array in specific way to show in a view'],\n",
       " ['\"Connect failed: Access denied for user \\'root\\'@\\'localhost\\' (using password: YES)\" from php function',\n",
       "  'Error connecting to mysql database'],\n",
       " ['How do you generate a random integer in a specified range, divisible by 5?',\n",
       "  'How do I find the next multiple of 10 of any integer?'],\n",
       " ['How to save Image from UIWebView in Objective C',\n",
       "  'UIWebView - Enabling Action Sheets on <img> tags'],\n",
       " ['Why am I getting InvocationTargetException at ClassLoaders.callStaticFunction Java Eclipse?',\n",
       "  'How to prevent InvocationTargetException when jar is running?'],\n",
       " [\"Why can't I select use .play() selecting the video using jQuery?\",\n",
       "  'Play/pause HTML 5 video using JQuery'],\n",
       " ['Ruby class instance variable vs. class variable',\n",
       "  'Execute code in included module in class on load (not on initialize)'],\n",
       " ['How to stop java process gracefully?',\n",
       "  'What is a clean / recommended way to terminate a perpetually-running command-line Java application?'],\n",
       " ['PayUMoney payment gateway issue', 'Payumoney getway error occur in ios'],\n",
       " ['jQuery UI Dialog Buttons from variables',\n",
       "  'How set the names of jquery-ui buttons on dialog window from variable?'],\n",
       " ['Accessing Visio UML Data',\n",
       "  'Reading class attribute value from Visio document using C#'],\n",
       " ['Hibernate : No Dialect mapping for JDBC type: 101',\n",
       "  'No Dialect mapping for JDBC type: -101 Exception While Using Named Query in Hibernate'],\n",
       " ['quick/elegant way to construct mean/variance summary table',\n",
       "  'R Grouping functions: sapply vs. lapply vs. apply. vs. tapply vs. by vs. aggregate',\n",
       "  'Summarize a dataframe by groups'],\n",
       " ['Newbie to GPU programming: what to learn?', 'Intro to GPU programming'],\n",
       " ['Javascript: Ordinal suffix for numbers with specific CSS class',\n",
       "  'jQuery: How to add/have numeric class as in word/string?'],\n",
       " [\"Jquery - Uncaught TypeError: Cannot use 'in' operator to search for '324' in\",\n",
       "  'Unclear error when working with JSON data in jQuery: \"cannot use \\'in\\' operator to search for length\"'],\n",
       " ['Eclipse tabs repositionning',\n",
       "  'Retain previous open file tab under visible tabs'],\n",
       " ['vertical-align and inline-block behaving annoyingly different in chrome and firefox',\n",
       "  'DIV alignment differs on Chrome and Firefox'],\n",
       " ['Efficient way to calculate the \"product\" of a discrete convolution',\n",
       "  'Compute the product of the next n elements in array'],\n",
       " ['How to handle null compare method arguments in Comparator?',\n",
       "  'Java customized compare method of objects and dates'],\n",
       " ['How can I know which portion of a Perl regex is matched by a string?',\n",
       "  'How can I tell which of the alternatives matched in a Perl regular expression pattern?'],\n",
       " ['Difference between passing options in aes() and outside of it in ggplot2',\n",
       "  'aesthetic inside or outside aes()'],\n",
       " [\"`inflate': buffer error (Zlib::BufError) on doing `bundle install`\",\n",
       "  'cannot install ruby gems - zlib error'],\n",
       " ['What is an undefined reference/unresolved external symbol error and how do I fix it?',\n",
       "  'C - Header file containing only prototypes'],\n",
       " ['the undo and redo implementation in Java',\n",
       "  'Using Command pattern for undo and redo in ArrayLists'],\n",
       " ['Sort array of objects by string property value in JavaScript',\n",
       "  'Sort an array with multiple objects'],\n",
       " ['Linking troubles with boost::program_options on OSX using LLVM',\n",
       "  'Compile boost 1.57 for 64 bit with c++11 support for Mac OS X',\n",
       "  'How do I compile boost for OS X 64b platforms with stdlibc++?'],\n",
       " ['Sitecore - Image field in parameter template',\n",
       "  'Sitecore Parameter templates - cannot access image field'],\n",
       " ['System.NullReferenceException for my code',\n",
       "  'What is a NullReferenceException, and how do I fix it?'],\n",
       " ['Remove special characters in pandas dataframe',\n",
       "  'Pandas DataFrame: remove unwanted parts from strings in a column'],\n",
       " ['What are the differences between JSON and JSONP?',\n",
       "  'Submitting form with getJSON not succeeding'],\n",
       " ['How can I make this PHP lines shorter?',\n",
       "  'Change color of output. PHP',\n",
       "  'Is it bad practice to use PHP to manipulate css classes'],\n",
       " ['Python IRC client: write from scratch or write plugin for existing framework?',\n",
       "  'Programming a simple IRC (Internet-Relay-Chat) Client'],\n",
       " ['How to avoid duplication of NuGet packages',\n",
       "  'How can I specify one central place where all the nuget packages will be installed'],\n",
       " ['Only show effective SQL string P6Spy',\n",
       "  'Generate a SQL script from Hibernate'],\n",
       " ['Incorrect PHP script timeout', 'Setting of max_executing time?'],\n",
       " ['How to convert python tuple into a two dimentional table?',\n",
       "  'Determine the type of an object?',\n",
       "  'Convert tuple containing an OrderedDict with tagged parts to table with columns named from tagged parts',\n",
       "  'Converting values of named tuples from strings to integers',\n",
       "  'How to convert the columns from a csvfile into an orderedDict python',\n",
       "  'Matrix Transpose in Python'],\n",
       " ['Omnet++> Caused a Debugging error',\n",
       "  'Why is gdb not working in eclipse when it is working fine from command line?'],\n",
       " ['What is the difference in lifecycle between lock screen and opening other application android',\n",
       "  'Saving Android Activity state using Save Instance State'],\n",
       " ['How Do I encrypt post data while using ajax and JQuery?',\n",
       "  \"What's the best way to implement security through http\"],\n",
       " ['How to convert a MySQL DB to XML?',\n",
       "  'Get MySQL database output via PHP to XML',\n",
       "  'Exporting data from database to xml'],\n",
       " ['Getting ASP.NET site publicly available',\n",
       "  'Can I access ASP.NET Development server in an intranet?',\n",
       "  'Using Custom Domains With IIS Express'],\n",
       " ['open a div if session set to true',\n",
       "  'django request in template',\n",
       "  'How can I change the way a boolean prints in a django template?'],\n",
       " ['Can publish options for ClickOnce be made configuration specific in Visual Studio 2013',\n",
       "  'Using a different app.congif and publish URL with ClickOnce depending on build configuration'],\n",
       " ['jsp caching tag library',\n",
       "  'Improve page load time by caching in Spring-MVC Hibernate application'],\n",
       " ['C# WPF - Adding a child node to a selected node in treeview',\n",
       "  'WPF TreeView Selecteditem. Issue with adding child Items (VB,net)'],\n",
       " [\"Why Don't We Use == To Compare Strings In Matlab\",\n",
       "  'Equality results when using a matrix of strings',\n",
       "  'String comparison'],\n",
       " ['Javascript .pathname IE quirk?',\n",
       "  'How can I tell if a user is on index.html?'],\n",
       " ['Where does system.out.println print from a JSP?',\n",
       "  'System.out.println() in JSP page not displaying anything'],\n",
       " ['Git proxy failure need asistance',\n",
       "  'could not resolve host github.com error while cloning remote repository in git'],\n",
       " ['Rails 4 page reload after ajax call',\n",
       "  'Get the id of a created object in rails using jquery',\n",
       "  'jQuery and AJAX response header'],\n",
       " ['What should I do if the current ASP.NET session is null?',\n",
       "  'How to know if a session has been set',\n",
       "  'What is the best way to determine a session variable is null or empty in C#?',\n",
       "  'Checking if session is null causes exception',\n",
       "  'Checking if an object is null in C#'],\n",
       " ['Error: Could not find or load main class MyApp (running java on Command Prompt)',\n",
       "  'What does \"Could not find or load main class\" mean?'],\n",
       " ['json: Response data not showing up in alert',\n",
       "  'How do I know if a server has JSONP turned on?',\n",
       "  'Ajax request returns 200 OK, but an error event is fired instead of success',\n",
       "  \"jQuery won't parse my JSON from AJAX query\"],\n",
       " ['Laravel redirect back to original destination after login',\n",
       "  'Setting session variables in Laravel 5.4'],\n",
       " ['A orderby object filter for a pure Firebase JavaScript API',\n",
       "  'How to print object returned by Firebase service as array (to the console)'],\n",
       " ['How would you count occurrences of a string within a string?',\n",
       "  'C# - Count a specific word in richTextBox1 and send the result to label1'],\n",
       " ['How do I get from an instance of a class to a Class object in ActionScript 3?',\n",
       "  \"In ActionScript3, how do you get a reference to an object's class?\"],\n",
       " ['Send 2 parameters to a script',\n",
       "  'How to split one string into multiple variables in bash shell?'],\n",
       " ['\"org.apache.cxf.interceptor.Fault: null while invoking\" exception resolution please? I cannot find a reason for this. (logs attached)',\n",
       "  'How to pass parameters through a SOAP Message to consume a parameterized method of a webservice'],\n",
       " ['transitionend event fires twice',\n",
       "  'Chaining css animations on multiple elements'],\n",
       " ['mysqli last insert id',\n",
       "  'multipage form and url parameters',\n",
       "  'PDO get the last ID inserted'],\n",
       " ['Request not mapped when @RequestMapping is defined in interface',\n",
       "  'Spring Boot does not create the Restful WS when we give @RequestBody or @RequestHeader as a method parameter'],\n",
       " [\"Can we call a Controller's method from a view (as we call from helper ideally)?\",\n",
       "  \"link to nested comment 'edit' action from parent articles controller 'index\"],\n",
       " ['What is the difference between Directory.EnumerateFiles vs Directory.GetFiles?',\n",
       "  'How to read multiple .CSV files from a folder in c#?'],\n",
       " ['How can I put a ListView into a ScrollView without it collapsing?',\n",
       "  'Show all Items in ListView in Android'],\n",
       " ['Why does emacs create temporary symbolic links for modified files?',\n",
       "  'Emacs create broken dot hash filename symlink when editing'],\n",
       " ['check the json data for comparing in extjs',\n",
       "  'How to refer the store in Controller --> Code.js file?'],\n",
       " ['java to node.js code conversion',\n",
       "  'mqtt communication between node.js and java'],\n",
       " [\"Visual Studio 2010 isn't building before a run when there are code changes\",\n",
       "  'Main entry point not properly working when I add form with a reportviewer control'],\n",
       " ['ShimNotSupportedException when running tests from MSTest or Resharper',\n",
       "  'ShimNotSupportedException in MS VisualStudio 2012'],\n",
       " ['How to setting context root in web.xml in servlet ??',\n",
       "  'How do you specify the root context in your <web-app> tags in web.xml?'],\n",
       " ['Android: 3G to WIFI switch while in the middle on the app = loss of network connectivity',\n",
       "  'Resetting Android setNetworkPreference'],\n",
       " ['How to Force Javascript to Execute within HTML Response to Ajax Request',\n",
       "  'InnerHtml AJAX : Javascript not working'],\n",
       " ['2 belongs_to, 1 has_many : Team/Game relationship',\n",
       "  'Rails association with multiple foreign keys'],\n",
       " ['Excel VBA - How to replace character in a numeric value (not string!)?',\n",
       "  'Excel VBA - How to get data from multiple-array JSON into columns'],\n",
       " ['Ball Bounce - javascript',\n",
       "  'Ball to Ball Collision - Detection and Handling'],\n",
       " ['how to convert textarea value into meaningful content without reloading the page?',\n",
       "  'Replacing text with smiley image using Jquery'],\n",
       " ['Are `Point-Cuts` and `Advices` only applicable to beans in Spring?',\n",
       "  'Around Advice for methods on Interface'],\n",
       " ['Unable to load app resouces file at app\\\\bin\\\\Resouces.txt',\n",
       "  'Best Practice for Asp.net MVC Resource Files'],\n",
       " ['How to display the contents of a PDF document using pdfbox in Android',\n",
       "  'PDFBox: Problem with converting pdf page into image'],\n",
       " ['How to chain attribute lookups that might return None in Python?',\n",
       "  'How do I convert all python operations involving None to None values?',\n",
       "  'Maybe \"kind-of\" monad in python'],\n",
       " ['Choosing a Java Web Framework now?',\n",
       "  'Can anyone recommend a simple Java web-app framework?',\n",
       "  'What are the pros and cons of the assorted Java web frameworks?',\n",
       "  'Best Web applications framework for Java?',\n",
       "  'suggestion for java framework'],\n",
       " ['Dividing a image into multiple images of equal pixel data',\n",
       "  'Image Distribution'],\n",
       " ['PDF generation with PhantomJS in node-Webkit',\n",
       "  'node wkhtmltopdf create corrupted PDF in node webkit'],\n",
       " ['Pthread Condition Variables not Signalling even though set to PTHREAD_PROCESS_SHARED',\n",
       "  'Share condition variable & mutex between processes: does mutex have to locked before?',\n",
       "  'POSIX Shared Memory Sync Across Processes C++/C++11'],\n",
       " ['Scrapy installation fails while installing cryptography package',\n",
       "  'error: Unable to find vcvarsall.bat'],\n",
       " ['Eclipse Android SDK slow Content Assist performance',\n",
       "  'Eclipse Android Plugin sluggish',\n",
       "  'Using the Android SDK on a Mac, Eclipse is really slow. How can I speed it up?'],\n",
       " ['How not to display if some values are empty using ngIF inside ngFor?',\n",
       "  'How to use *ngIf else in Angular 4?'],\n",
       " ['UINavigation Controllers and Delegates',\n",
       "  'How does a delegate work in objective-C?'],\n",
       " ['Promise with Pouch not returning from call to inside code',\n",
       "  'What is the explicit promise construction antipattern and how do I avoid it?'],\n",
       " ['Python get file name and change & save it in variable',\n",
       "  'os.path.split, changing file name with out compromising the Path'],\n",
       " ['How to parse JSON data with jQuery / JavaScript?',\n",
       "  'show image from ajax response'],\n",
       " ['C# replace multiple href values', 'How to use HTML Agility pack'],\n",
       " ['How to convert MSSQL datetime integer to YYYY/mm/DD format in JavaScript',\n",
       "  'Convert a Unix timestamp to time in JavaScript'],\n",
       " ['twitteR package skipping tweets?',\n",
       "  'function that makes my loop to run after every x mins'],\n",
       " ['Rails: Finding all Users whose relationship has a specified attribute',\n",
       "  'association named not found perhaps misspelled issue in rails association',\n",
       "  'Join multiple tables with active records',\n",
       "  \"Rails active record querying association with 'exists'\",\n",
       "  'Rails 3, has_one / has_many with lambda condition',\n",
       "  'Rails 4 scope to find parents with no children'],\n",
       " ['How to display hexadecimal bytes using NSLog',\n",
       "  'Best way to serialize an NSData into a hexadeximal string'],\n",
       " ['When would I use `--interactive` without `--tty` in a Docker container?',\n",
       "  \"Can't attach to bash running the Docker container\"],\n",
       " ['Generating cylindery symmetric 3D data by revolution of a 2d plane around one axis',\n",
       "  'Generating a 3D plot by revolution of a curve'],\n",
       " ['install avd from command line',\n",
       "  'no ABI error , when creating an Android virtual device'],\n",
       " ['Can non-atomic-load be reordered after atomic-acquire-load?',\n",
       "  'Is there any effect on the operations with the variables independent of consume atomic-load?'],\n",
       " ['Call MVC async action through Ajax, start task, send the ajax response before the task completes?',\n",
       "  'Async Controller Action Re-Called after one minute'],\n",
       " ['Issue with querying Teradata in Python/Pyodbc',\n",
       "  'Python pyodbc connections to IBM Netezza Erroring'],\n",
       " ['Objective-C best choice for saving data',\n",
       "  'core data : differences between managed object and entities?'],\n",
       " ['What is the compelling use case for the FD_CLOEXEC flag?',\n",
       "  'What does the FD_CLOEXEC fcntl() flag do?'],\n",
       " ['Environment Variables in Python on Linux',\n",
       "  'How to Mask Twilio/Python Variable'],\n",
       " ['Binding to the scroll wheel when over a div',\n",
       "  \"Trigger 'dummy' mouse wheel event\",\n",
       "  'How to fire mouse wheel event in Firefox with JavaScript?'],\n",
       " ['Fastest algorithm for circle shift N sized array for M position',\n",
       "  'A fast array shift implementation in C#?'],\n",
       " ['Debug child executable of a process',\n",
       "  'How to set Visual Studio as the default post-mortem debugger?'],\n",
       " ['Malloc error while inserting an element in a red black tree',\n",
       "  'Do I cast the result of malloc?'],\n",
       " ['Is it possible to make recursive type definition in C',\n",
       "  'Why are function pointers and data pointers incompatible in C/C++?',\n",
       "  'Recursive declaration of function pointer in C',\n",
       "  'How can I typedef a function pointer that takes a function of its own type as an argument?'],\n",
       " ['Facebook Graph high resolution photos',\n",
       "  \"How to get larger version of Facebook's thumbnail images?\"],\n",
       " ['How to get value from another activity and bring back to previous fragment?',\n",
       "  'How to pass a value from one Fragment to another in Android?'],\n",
       " ['Get timezone location from offset',\n",
       "  'Convert UTC offset to timezone or date',\n",
       "  'PHP Timezone List'],\n",
       " ['Disable some built-in functionality in Sails.js',\n",
       "  'Sails.js :remove bodyparser middleware for a specific route'],\n",
       " ['How to Deal with Temporary NSManagedObject instances?',\n",
       "  'iOS 8 – Creating temporary NSManagedObjects'],\n",
       " [\"Trigger 'resize' event on component?\", 'Onresize for div elements?'],\n",
       " ['Top and bottom text cut of in Webview', 'Paginating text in Android'],\n",
       " ['When should static_cast, dynamic_cast, const_cast and reinterpret_cast be used?',\n",
       "  'C++ multiple inheritance with interface'],\n",
       " [\"What is a 'multi-part identifier' and why can't it be bound?\",\n",
       "  'SQL Join Differences',\n",
       "  'What is wrong with this SQL?'],\n",
       " ['Sharing messages between kafkacat consumers',\n",
       "  'Messages sent to all consumers with the same consumer group name'],\n",
       " ['JPA EntityManager: Why use persist() over merge()?',\n",
       "  'jpa problems running multiple tests with spring',\n",
       "  'Why cannot I use persist in a object which has been taken from database?'],\n",
       " ['Extracting Data from a JSON response in Java?',\n",
       "  'Getting JSON response into String in Java?'],\n",
       " ['Click on iframe to make a button appear',\n",
       "  'How do you use window.postMessage across domains?'],\n",
       " ['What is a non-capturing group? What does a question mark followed by a colon (?:) mean?',\n",
       "  'Python 3 regular expression returning unexpected result'],\n",
       " ['Using regular expressions to parse HTML: why not?',\n",
       "  'PHP: strip_tags - remove only certain tags (and their contents)?',\n",
       "  'Remove only <b> and <i> tags with PHP'],\n",
       " ['Use cases for new Django 1.4 project structure?',\n",
       "  'Django 1.4 new project folder structure forces project prefixes?',\n",
       "  'Where should i create django apps in django 1.4?',\n",
       "  'Django app management best practice'],\n",
       " ['iOS 7 Sprite Kit freeing up memory', 'Sprite Kit how to delete game scene'],\n",
       " ['How to set the limit to display records in table cell using mysql and php?',\n",
       "  'PHP - how to flip the rows and columns of a 2D array',\n",
       "  'print number vertically and grouping it'],\n",
       " ['Android getOrientation Azimuth gets polluted when phone is tilted',\n",
       "  'Android sensor yaw, pitch & roll'],\n",
       " ['Stop pygtk GUI from locking up during long-running process',\n",
       "  'Python&PyGTK: Transport data to threading',\n",
       "  'GUI update with real-time UDP data in python',\n",
       "  'urllib2 opener hangs if run inside a thread'],\n",
       " ['Validate a username and password against Active Directory?',\n",
       "  'Validate Active Directory users in VB6'],\n",
       " ['Mapping 2D points to a fixed grid',\n",
       "  'How to optimize assignment of tasks to agents with these constraints?'],\n",
       " ['Problem with :contains selector in IE8',\n",
       "  'Good ways to improve jQuery selector performance?'],\n",
       " ['Can you make a python subprocess output stdout and stderr as usual, but also capture the output as a string?',\n",
       "  'Python - How to write in both files and console at the same time (from a Bash files)'],\n",
       " ['self.port is undefined error [on mozilla add-on SDK 1.8]',\n",
       "  \"Firefox sdk - content script can't access self.port\"],\n",
       " ['How to use mod_rewrite with anchors but no [R=301]',\n",
       "  'How to avoid htaccess redirect-rewrite loop?'],\n",
       " ['Javascript operators << and >>',\n",
       "  'What do these JavaScript bitwise operators do?',\n",
       "  'What is this expression in Java ( 1 << 2)?'],\n",
       " ['Programmatically indenting Python code in a self-rewriting script?',\n",
       "  'Whats the best way to write python code into a python file?'],\n",
       " ['Mono Droid Modal Popup',\n",
       "  'Android AlertDialog always exits when I click on OK Button'],\n",
       " ['Output with different data types?',\n",
       "  'Integer arithmetic in Java with char and integer literal'],\n",
       " [\"android: couldn't find import for class error in aidl files com.android.internal.telephony.gsm.NetworkInfo\",\n",
       "  'android aidl import'],\n",
       " ['How to change results ordering for MySQL query?',\n",
       "  'Prev/Next node navigation with a thumbnail in a full node'],\n",
       " ['Javascript Object Property logged in Google Chrome Console before Declaration',\n",
       "  \"Can't access directive scope from within controller\"],\n",
       " ['Get list of available data member from a POD struct in C++',\n",
       "  'C++ iterate into nested struct field with boost fusion adapt_struct',\n",
       "  'How can I add reflection to a C++ application?'],\n",
       " ['Practical applications of homomorphic encryption algorithms?',\n",
       "  'Search in encrypted fields without decrypting the field',\n",
       "  'Encryption that allows performing mathematical operations on encrypted numbers?',\n",
       "  'calculate the average of three encrypted numbers'],\n",
       " ['Android how to change gridview highlight color?',\n",
       "  'How to highlight a Bitmap? Like Google Play'],\n",
       " ['How to enable dynamic pretty print of json based on http request header in Spring MVC?',\n",
       "  'When using Spring MVC for REST, how do you enable Jackson to pretty-print rendered JSON?'],\n",
       " ['How to sort two OR MORE arrays by the order of first one?',\n",
       "  'How to sort multiple arrays in PHP'],\n",
       " ['How to add edittext input data into sql database using json,android?',\n",
       "  'how can i send radio button value and switch case option to server using json android?'],\n",
       " ['All combinations of values between 0-1 sum to 1 in R',\n",
       "  'R fails to retrieve all combinations'],\n",
       " ['How do I escape special characters in MySQL?', 'MySql concat and quotes'],\n",
       " ['How to configure proxy server in polymer cli', 'bower proxy configuration'],\n",
       " ['php + Highcharts.js + convert from mysql to mysqli causes error',\n",
       "  'How do I migrate my site from mysql to mysqli?'],\n",
       " ['Construct a manual legend for a complicated plot',\n",
       "  'ggplot2: merge legends for geom_line, geom_point, and geom_bar'],\n",
       " ['find partial duplicated rows in a SQL table in IBM netezza database',\n",
       "  'error of finding distinct cobinations of muiltiple columns in IBM netezza SQL table'],\n",
       " ['Can the CheckStyle module \"NeedBraces\" work with nested if/else blocks?',\n",
       "  'Is there a CheckStyle rule to force if else keywords to be on the same line in an if/else ladder?',\n",
       "  'Is there any Checkstyle/PMD/Findbugs rule to force \"else if\" to be on the same line?'],\n",
       " [\"The ViewData item that has the key 'XXX' is of type 'System.Int32' but must be of type 'IEnumerable<SelectListItem>'\",\n",
       "  \"There is no ViewData item of type 'IEnumerable<SelectListItem>' that has the key '****'.\"],\n",
       " ['How to change the color of a div in css when another one is on focus',\n",
       "  'Is there a \"previous sibling\" CSS selector?'],\n",
       " ['How do I format a Microsoft JSON date?', 'Date filter not working'],\n",
       " ['Filtering a loaded kml file in OpenLayers',\n",
       "  'Refresh / Redraw a Layer in OpenLayers (KML) Network-Link Auto Refresh'],\n",
       " ['string erase appends elements with backward iterators',\n",
       "  'How to call erase with a reverse iterator'],\n",
       " ['ExpandableListView, CursorTreeAdapter and cursor management',\n",
       "  'SimpleCursorTreeAdapter and CursorLoader for ExpandableListView'],\n",
       " ['Java casting (cast operator expressions)',\n",
       "  'Integer division: How do you produce a double?'],\n",
       " ['Does Rails 4 have support for OR queries',\n",
       "  'How to exclude a value from array with conditions'],\n",
       " ['Correctly switching between HTTP and HTTPS using .htaccess',\n",
       "  'Redirect single directory to HTTPS'],\n",
       " ['Android/C# Socket - Decode/Enconde String64 Error after 1 frame (Almost Complete)',\n",
       "  'Android - Receving an Image over the Socket from C# Server (Almost Complete)'],\n",
       " ['Sort a Map<Key, Value> by values (Java)',\n",
       "  'What happens if we override only hashCode() in a class and use it in a Set?',\n",
       "  'Ordering for key value pairs',\n",
       "  'HashMap Java 8 implementation'],\n",
       " ['How to remove xmlns:xsi and xsi:type from JAXB marshalled XML file',\n",
       "  '\"xsi:type\" and \"xmlns:xsi\" in generated xml by JAXB'],\n",
       " ['What are the limitations of NSUserDefaults?',\n",
       "  'Best way to store iPhone data (custom NSObject)',\n",
       "  'How to store custom objects in NSUserDefaults'],\n",
       " [\"Disable browser's back button\",\n",
       "  'hide browser back button in the button click'],\n",
       " ['git diff renamed file',\n",
       "  'Very long-historied file in Git repo suddenly has blank log and is invisible to \"git status\"'],\n",
       " ['Generating unique codes in PHP/MySQL?',\n",
       "  'PHP: How to generate a random, unique, alphanumeric string?',\n",
       "  'PHP: generating unique string'],\n",
       " ['How to detect if JavaScript is disabled?', 'Detecting Javascript enabled?'],\n",
       " ['Razor: @Html.Partial() vs @RenderPage()', '@Html.Action In Layout Page'],\n",
       " ['Laravel 5.3: Use auth/middleware on custom error page',\n",
       "  'Laravel 5.0 custom 404 does not use middleware',\n",
       "  'Laravel Auth in error pages',\n",
       "  'Laravel 5.2 Auth::check() on exception pages (layouts)'],\n",
       " ['Why does the default Object.toString() include the hashcode?',\n",
       "  'Unable to display object array using get(index)'],\n",
       " ['Using DMA Memory Transfer in User-Space',\n",
       "  'Is multi-thread memory access faster than single threaded memory access?'],\n",
       " ['Image inside svg pattern is blurried after zoom in Chrome',\n",
       "  \"SVG <pattern> won't load when generated by Javascript\",\n",
       "  'SVG Pattern element wont resize in Chrome'],\n",
       " ['Load DEX file dynamically on Android 5.0',\n",
       "  'Dynamic resource loading from other APK'],\n",
       " ['Zip file can not download in CakePHP',\n",
       "  'How to create Zip file and download in cakephp'],\n",
       " ['What does editElementQuery do?',\n",
       "  'AEM/CQ5 html5smartimage filename lost on image upload'],\n",
       " ['Launching a windows batch script using Maven exec plugin blocks the build even though the script uses \"start\"',\n",
       "  'How to trigger a batch file after successful Maven Build?'],\n",
       " ['A silly error with looping over the Array',\n",
       "  'For-each over an array in JavaScript?'],\n",
       " ['Deleting rows cause lock timeout', 'MySQL: \"lock wait timeout exceeded\"'],\n",
       " ['RegEx match open tags except XHTML self-contained tags',\n",
       "  'How to get the alt value from this string?'],\n",
       " ['In jqGrid, can you double click a row to bring up the edit form?',\n",
       "  \"jqgrid formatter 'actions' - change edit button style\"],\n",
       " ['How to prevent buttons from submitting forms',\n",
       "  'AngularJS: All buttons inside form triggers submit?'],\n",
       " ['Primary AND composite keys in one Entity with Fluent Nhibernate',\n",
       "  'How to create composite UNIQUE constraint in FluentNHibernate?'],\n",
       " ['Promise vs Observable for Http in Angular2?',\n",
       "  'Angular - Promise vs Observable'],\n",
       " ['How do you perform find/replace in selected text with Notepad++',\n",
       "  'How to Find and Replace in the Marked Lines in Notepad++'],\n",
       " ['Android Studio 5.2 - refresh failed. Cause:com.google.common.collect.Maps',\n",
       "  'Failed to refresh Gradle project: Cause: com.google.common.collect.Maps',\n",
       "  \"Gradle 0.9.+/0.9.2 error: Unable to load class 'com.android.builder.testing.api.DeviceProvider'\"],\n",
       " ['How can I get a hex dump of a string in PHP?',\n",
       "  'PHP : Array key containing special character not found'],\n",
       " ['Variable type for precise calculations (JAVA)',\n",
       "  'Retain precision with double in Java'],\n",
       " ['How to remove port number from http://localhost:8123 to use as http://localhost?',\n",
       "  'How to remove port number from url using apache server?'],\n",
       " ['Reference: mod_rewrite, URL rewriting and \"pretty links\" explained',\n",
       "  'SEO friendly URL instead of query string .htaccess'],\n",
       " ['How to hide or close second dialogbox before opening the third dialogbox without hiding/ closing main WinForm',\n",
       "  'C# Show dialog over another dialog in winforms?'],\n",
       " ['can i have a return function in windows service?',\n",
       "  'Connecting via named pipe from windows service (session#0) to desktop app (session #1)'],\n",
       " ['Sorting scala list equivalent to C# without changing C# order',\n",
       "  'What does it mean that string and character comparisons in Swift are not locale-sensitive?'],\n",
       " ['How to open Email program via Intents (but only an Email program)',\n",
       "  'Send Email with Intent: Allow only email programs that support attachments',\n",
       "  'Send Email Intent'],\n",
       " ['Why cache jQuery objects?',\n",
       "  \"I want to change opacity from 0 to 1 of the element when it's scrolled up to the top of the page\"],\n",
       " ['How to auto login and post in wordpress by php snoopy or curl?',\n",
       "  'PHP curl post to login to wordpress'],\n",
       " ['Microsoft T-SQL to Oracle PL/SQL translation',\n",
       "  'How to convert SQL Server stored procedure to Oracle?'],\n",
       " ['Why does the vim gt command does not set alternate file as expected?',\n",
       "  'How to show tab close button in GVIM?'],\n",
       " ['The 3 different equals', \"Php If else isn't working\"],\n",
       " ['How to run an external script using bq command line tools',\n",
       "  'An efficient way of exporting 10 datasets (each having 80 tables) from bigquery to google storage?'],\n",
       " ['How to use multicore python with PyQt4 process?',\n",
       "  'How can I use QThread to create a Multi-Core PyQt application?'],\n",
       " ['JPA 2 Criteria Fetch Path Navigation',\n",
       "  'query all row in table that is link from another table using query builder'],\n",
       " ['Listener not work on list view',\n",
       "  'Listview click to show image in ImageView'],\n",
       " ['GoogleApiClient is throwing \"GoogleApiClient is not connected yet\" AFTER onConnected function getting called',\n",
       "  '\"GoogleApiClient is not connected yet\" exception in Cast application'],\n",
       " ['Hide code from jar file',\n",
       "  'Java obfuscators',\n",
       "  'How to lock compiled Java classes to prevent decompilation?'],\n",
       " ['Java Project with administrator privileges', 'Java: run as administrator'],\n",
       " ['permission error when populating a table in PostGreSQL copying from a csv file',\n",
       "  'export table to csv on postgres'],\n",
       " ['Implementation of operators for enum class',\n",
       "  'Defining operators for enums nested within a class'],\n",
       " ['Command substitution: backticks or dollar sign / paren enclosed?',\n",
       "  'Bash scripting: Diference between \"$(command)\" and `command`'],\n",
       " ['C++/CLI DLL namespace not found in MSVS',\n",
       "  'C++/CLI DLL namespace not found in MSVS C# Project (successfully reproducable)'],\n",
       " ['How send raw ethernet packet with C#?',\n",
       "  'Sending and receiving raw ethernet frame'],\n",
       " ['Converting a JS object to an array -duplicate-',\n",
       "  'Converting a JS object to an array'],\n",
       " ['How do I \"cd\" in Python?', 'Python Path moving to documents in C drive'],\n",
       " ['Running an iOS app to a non registered device',\n",
       "  'Test iOS app on device without apple developer program or jailbreak',\n",
       "  'How do I build and install applications on a jailbroken iPhone without being in the iPhone Developer Program?'],\n",
       " ['Search pattern not terminated in Perl',\n",
       "  'Search pattern not terminated at filename.pl line 15'],\n",
       " ['AsyncTask Android example',\n",
       "  'setText from a parsed JSON object with AsyncTask'],\n",
       " ['Scala final vs val for concurrency visibility',\n",
       "  'Scala final variables in constructor'],\n",
       " ['How to resolve nested column in tableview afetr update version of java-124 in javaFx?',\n",
       "  'Why does rearranging a nested column cause a NPE?'],\n",
       " ['C++ : How to pass function pointer, stored in a local variable, as a template parameter',\n",
       "  'local variable as non-type template argument'],\n",
       " ['Muenchian Grouping with XSL-FO Table',\n",
       "  'XSL FO group by columns dynamicaly'],\n",
       " ['To Get the query string value from Javascript',\n",
       "  'How can I get query string values in JavaScript?'],\n",
       " ['Calling an external command in Python',\n",
       "  'Run a linux system command as a superuser, using a python script',\n",
       "  'how to run my own external command in python script'],\n",
       " ['Could not load file or assembly Microsoft.SqlServer.management.sdk.sfc version 11.0.0.0',\n",
       "  'Data base connection error on \"microsoft.sqlserver.management.sdk.sfc\"'],\n",
       " ['Call code behind method from aspx page',\n",
       "  'how to set contol property in asp.net'],\n",
       " ['Raw printing directly to a USB printer, bypassing Windows spooler',\n",
       "  'How can I simulate a USB printer to LPT on Linux?',\n",
       "  'Programmatically set printer to bypass the windows spooler'],\n",
       " ['What/Why is this code leaking?', 'Can I optimize these functions?'],\n",
       " ['AdornerLayer.GetAdornerLayer() return NULL for all controls in a Panel',\n",
       "  'GetAdornerLayer mysteriously returning null'],\n",
       " ['Generating DLL assembly dynamically at run time',\n",
       "  'How to build an assembly and save it ..?',\n",
       "  'How to dynamically create a class in C#?',\n",
       "  'Create a *.DLL file in run-time and save to a specified location in C#'],\n",
       " ['Open link in browser inside iOS app with web techniques',\n",
       "  'Android / iOS - Custom URI / Protocol Handling'],\n",
       " ['How to write guaranteed deadlock via wait/notify',\n",
       "  'Deadlocks using wait and notify'],\n",
       " ['Ember router: how to use transitionTo',\n",
       "  'EmberJS - Routing with one optional param?'],\n",
       " ['Getting a constructor error with ArrayAdapter in a ListFragment on Android',\n",
       "  'The constructor ArrayAdapter<String>(FragmentActivity, int, int, int, List<String>) is undefined'],\n",
       " [\"var = document.getElementById('mynubervalue1').innerHTML + 1\",\n",
       "  'Adding two numbers in JavaScript incorrectly',\n",
       "  'Why does string to number comparison work in Javascript'],\n",
       " ['Positive integer type',\n",
       "  \"Using Haskell's types to replace assert statements or if checks in other languages\"],\n",
       " ['How can I pass data from another class to a GUI?',\n",
       "  'How to simulate or bring console with scanner input into jFrame application'],\n",
       " ['SQL Server 2005: Insert multiple rows with single query',\n",
       "  'Insert SQL for multiple record'],\n",
       " ['How to use Class<T> in Java?', 'How to implement a generic method in java'],\n",
       " ['Weird closure behavior with loop',\n",
       "  'JavaScript closure inside loops – simple practical example'],\n",
       " ['What are the benefits of the new hash syntax in Ruby 1.9?',\n",
       "  \"Difference between `:provider => ' value '` and `provider: 'value'`\"],\n",
       " ['Oracle Pl/SQL alter table columns',\n",
       "  'How can I describe a table in Oracle without using the DESCRIBE command?'],\n",
       " ['Android - TextToSpeech takes long to load',\n",
       "  'Initialising the TextToSpeech object on a worker thread'],\n",
       " [\"Memory utiliziation when calling an object's method via the Interface?\",\n",
       "  'Overhead of implementing an interface'],\n",
       " [\"Can't set up Google Drive SDK Android sample\",\n",
       "  'Android Notepad provider classnotfound error ing google drive sdk examples'],\n",
       " ['\"macro undefined\" when reading u8 using scan!()',\n",
       "  'How to read an integer input from the user in Rust 1.0?'],\n",
       " ['One thread writes to a variable the other thread reads the variable how do I (pre-C++11) protect that variable?',\n",
       "  'When to use volatile with multi threading?'],\n",
       " ['Command Line Output to a TXT file (Java.exe -version) Returning blank',\n",
       "  'VB to run Command for java.exe and output text to txt file'],\n",
       " ['Difference between two Date',\n",
       "  'Does Jodatime have a method to get the months and days since some older date?'],\n",
       " ['using asyncio to do periodic task in django', 'Using django for CLI tool'],\n",
       " ['viewing site on http://localhost instead of file://, using node.js',\n",
       "  'Using HTML in Express instead of Jade',\n",
       "  'Node.js + Express without using Jade'],\n",
       " [\"can't identify the error in java program\",\n",
       "  'What is a NullPointerException, and how do I fix it?'],\n",
       " ['How to change color of hamburger icon in material design navigation drawer',\n",
       "  'Change Hamburger/backarrow toolbar color Android'],\n",
       " ['Unexpected output of printf',\n",
       "  'How integers numbers are printed with %f specifier?'],\n",
       " ['LibGDX Input from previous screen registering',\n",
       "  'How to detect when an actor is touched in libgdx?'],\n",
       " ['Saving a jpg as a transparent png with php',\n",
       "  'Use PHP to convert JPEGs to transparent PNG'],\n",
       " ['What is the best way to read in chars from a text file while ignoring extra spaces from new lines?',\n",
       "  \"What is a raw type and why shouldn't we use it?\"],\n",
       " ['Finding K-nearest neighbors and its implementation',\n",
       "  'How do I classify data points without label information?',\n",
       "  'How do I visualize n-dimensional features?'],\n",
       " ['How do I connect to a specific Wi-Fi network in Android programmatically?',\n",
       "  'Connect to drone wifi via an application'],\n",
       " ['Insert a Print Button for A website Form',\n",
       "  'Correct usage of addEventListener() / attachEvent()?',\n",
       "  'How can I insert a Print button that prints a form in a webpage',\n",
       "  'link to Print in a webpage'],\n",
       " ['R knitr: is it possible to use cached results across different machines?',\n",
       "  'What type of files to commit versus ignore in a Git repository?',\n",
       "  'should I be (git)ignoring my knitr cache?'],\n",
       " ['Overwrite method to extend it, using the original implementation',\n",
       "  'How to copy a foreign package and overwrite a function?',\n",
       "  'In R, how can I extend generic methods from one package in another?'],\n",
       " ['Perl Cron Scheduler: start at x time, execute every y minutes forever',\n",
       "  'Cron expression - every X minutes with exact start date'],\n",
       " ['Proper currency format when not displaying the native currency of a culture',\n",
       "  'Culture Specific Currency for a given culture'],\n",
       " ['Working Java REST Client Example to access CAS REST API',\n",
       "  'CAS configured for REST API redirects v1/tickets to login HTML'],\n",
       " ['How to get current timestamp', 'DateTime.Now vs. DateTime.UtcNow'],\n",
       " ['android open a .properties file from project',\n",
       "  'Distinguishing development mode and release mode environment settings on Android'],\n",
       " [\"Using an IN clause with LINQ-to-SQL's ExecuteQuery\",\n",
       "  'Passing an array of parameters to a stored procedure',\n",
       "  'Passing a List<string> to a stored procedure'],\n",
       " ['Merge many data frames from csv files',\n",
       "  'Merge several data frames on two common columns'],\n",
       " ['Java Lambda Stream Distinct() on arbitrary key?',\n",
       "  'Java 8 filter list of pojos based on nested object attribute'],\n",
       " ['Neighbors in an array', 'What should main() return in C and C++?'],\n",
       " ['Disable back button in android',\n",
       "  'How to hide the soft-key bar on Android phone?',\n",
       "  'Fullscreen Activity in Android?',\n",
       "  'How can I use startLockTask() method for versions of Android Lower than L'],\n",
       " ['What is the use of session secret',\n",
       "  'What is the session\\'s \"secret\" option?'],\n",
       " [\"trying to display original and fitted data (nls + dnorm) with ggplot2's geom_smooth()\",\n",
       "  'Extract coefficients from ggplot2-created nls fit',\n",
       "  'Method to extract stat_smooth line fit'],\n",
       " ['replacing values in pig latin', 'bincod evaluation in pig'],\n",
       " ['Ruby: Checking for East Asian Width (Unicode)',\n",
       "  'Validate Japanese Character in Active Record Callback'],\n",
       " ['application cache issues with android browser', 'Load cache manifest file'],\n",
       " ['Sample SAML Java Config. Project, Broken From the Start',\n",
       "  'Spring Boot and SAML 2.0'],\n",
       " ['Storing multiple values/resultset into java bean',\n",
       "  'How to show a collection in a jsp page'],\n",
       " ['What does a just-in-time (JIT) compiler do?',\n",
       "  'What is meant (technically) by optimized cipher? (Case of AES in Java)'],\n",
       " ['HTML on top of NPAPI plugin',\n",
       "  'Div on top of ViewRight-player',\n",
       "  'Div on top of iframe with Silverlight inside'],\n",
       " [\"Which Object's Array Has Most of Particular Object\",\n",
       "  'Determine Which Object Has Most of One String'],\n",
       " ['How do I set up a multi-project solution in C++?',\n",
       "  'Why/when is __declspec( dllimport ) not needed?',\n",
       "  'Macro for dllexport/dllimport switch'],\n",
       " ['Python: why global variable act as local variable in method?',\n",
       "  \"Why can't I set a global variable in Python?\"],\n",
       " ['How to efficiently convert DataSet.Tables to List<DataTable>?',\n",
       "  'Why LINQ casting with a Data.DataTableCollection'],\n",
       " ['Uninstall / remove a Homebrew package including all its dependencies',\n",
       "  'Error when disabling byobu at login in mac 10.11.6'],\n",
       " ['ADO.NET  |DataDirectory| where is this documented?',\n",
       "  'set \"Application.StartupPath\" in may app.config connectionstring'],\n",
       " ['Jfree chart legend- displaying names and values in own columns instead of both in one column',\n",
       "  'Aligning text in pieChart legend - How to right align the content inside the legend',\n",
       "  'How to display legend for Pie Chart in columns?'],\n",
       " ['Find method with empty string', 'find() function in python2.7.5'],\n",
       " [\"Fetching all user and user friend's videos from facebook and store it Database\",\n",
       "  'Fetching all videos from facebook user news feed page and storing it in database'],\n",
       " ['Creating and adding items to a Linked List stored in an object',\n",
       "  'What is a NullPointerException, and how do I fix it?'],\n",
       " ['How do you scan for @Entity at runtime via Hibernate?',\n",
       "  'Autodetect classes in Hibernate from jar',\n",
       "  \"@PersistenceUnit annotation won't create an EntityManageFactory emf=null\"],\n",
       " [\"How to get PHP to echo other php file's contents?\",\n",
       "  'How to echo the contents of one page in another page?'],\n",
       " ['How to track memory allocations in C++ (especially new/delete)',\n",
       "  'How to find the memory take by boost bimap'],\n",
       " ['How can I \"force\" Excel to count page breaks correctly?',\n",
       "  'Wait until Application.Calculate has finished',\n",
       "  'Excel vba refresh wait',\n",
       "  \"DoEvents doesn't do the events... Why?\"],\n",
       " ['for every value in given cell, locate and highlight the same value in data',\n",
       "  'How to avoid using Select in Excel VBA'],\n",
       " ['mvc use viewmodel to display data from multiple tables and perform crud operations',\n",
       "  'mvc database first issues with edmx/relationships and view showing id field',\n",
       "  'Submit same Partial View called multiple times data to controller?',\n",
       "  'What is ViewModel in MVC?',\n",
       "  'POST a form array without successful'],\n",
       " ['Css flipper in iExplorer', 'Preserve 3d not working on ie11'],\n",
       " ['black screen / no events in iOS OpenGL ES 2',\n",
       "  'iOS EAGL video rendering only works after device rotation'],\n",
       " ['using height 100vh goes far beyond browser window',\n",
       "  'Element with height: 100vh covers horizontal scrollbar'],\n",
       " ['Meteorjs - Separated interface for Webapp and Mobile app',\n",
       "  'Meteor Cordova Production'],\n",
       " ['particular system port avliable checking by using java',\n",
       "  'Sockets: Discover port availability using Java'],\n",
       " ['sort outer array based on values in inner array, javascript',\n",
       "  'sorting 2 dimensional Javascript array'],\n",
       " ['ERROR ITMS-90086 submitting app',\n",
       "  'ERROR ITMS-90086: \"Missing 64bit support\" in xcode 7.2'],\n",
       " ['Getting values from method from other form',\n",
       "  'Accessing MainWindow from another window'],\n",
       " ['CodeIgniter session issue after sign out browser back button landed to the secured page',\n",
       "  'CodeIgniter back button after logout',\n",
       "  'Preventing cache on back-button in Safari 5'],\n",
       " ['How to marshal JAXBElement into Response?',\n",
       "  'Is it possible to programmatically configure JAXB?'],\n",
       " ['Java SWT shell window closing event',\n",
       "  'How to serialize a class when exiting the program'],\n",
       " ['how to do secure socket communication Android to laptop',\n",
       "  'how to do ssl socket programming'],\n",
       " [\"(node:2157) DeprecationWarning: Mongoose: mpromise (mongoose's default promise library) is deprecated, plug in your own promise library instead\",\n",
       "  '(node:3341) DeprecationWarning: Mongoose: mpromise'],\n",
       " ['boost::any_range<gsl::string_span<>> crash in Release mode',\n",
       "  'boost::any_range with optimization level -O2 causes crash'],\n",
       " ['Passing variable as argument in closure', 'Scope Chain in Javascript'],\n",
       " [\"Sql is fast but when converted to linq it's slow\",\n",
       "  'Is LINQ generally slower than a equal SQL statement'],\n",
       " ['Android Volley - Strange Error with HTTP code 401- java.io.IOException: No authentication challenges found',\n",
       "  'android - volley error No authentication challenges found'],\n",
       " [\"jQuery's jquery-1.10.2.min.map is triggering a 404 (Not Found)\",\n",
       "  'Hide jquery.map errors in google chrome developer tools?'],\n",
       " ['JDBC PreparedStatements vs Objects - Where to put initialization',\n",
       "  'Reusing a PreparedStatement multiple times'],\n",
       " ['how to watch for sub-child added event in firebase',\n",
       "  'Updating user list on sub child event in Firebase Realtime Database in Android?'],\n",
       " ['How to merge Audio and video using AVMutableCompositionTrack',\n",
       "  'Mixing two Audio Files using AVComposition on IOS'],\n",
       " ['Antlr: Simplest way to recognize dates and numbers?',\n",
       "  'Antlr4 Parsing dates',\n",
       "  'How to create a antlr4 grammar which will parse date'],\n",
       " ['Unable to find details of private key in JKS',\n",
       "  'keytool - see the public and private keys'],\n",
       " ['Can outer classes call methods of its inner class?',\n",
       "  'Why can outer Java classes access inner class private members?'],\n",
       " ['Nested inlines in the Django admin?',\n",
       "  'Django InlineModelAdmin: Show partially an inline model and link to the complete model',\n",
       "  'How do I add a link from the Django admin page of one object to the admin page of a related object?'],\n",
       " ['css, external fonts',\n",
       "  'Fonts on the Web',\n",
       "  'How to use our custom font on our website'],\n",
       " ['How to implement a \"callback\" in Ruby?',\n",
       "  'Pass a symbol to a method and call the corresponding method'],\n",
       " ['Get Thread ID from Window', 'Getting the thread ID from a thread'],\n",
       " [\"Utilitiy dynamic creation of static pages...(I'm not asking this because I want to, rather becasue I have to...)\",\n",
       "  'Using diff to find the portions of many files that are the same? (bizzaro-diff, or inverse-diff)'],\n",
       " ['Major PHP/MySQL Login Project, with session variables',\n",
       "  'Store or get User ID as PHP session variable'],\n",
       " ['How to fix error from mailto link within iframe',\n",
       "  'How can I <iframe> Gmail?'],\n",
       " ['How do you log out all logged in users in spring-security?',\n",
       "  \"SessionInformation expiration doesn't lead to user log out from system\",\n",
       "  'How can i load Java HttpSession from JSESSIONID?'],\n",
       " ['KnockOutJS - Multiple ViewModels in a single View',\n",
       "  'Can you call ko.applyBindings to bind a partial view?'],\n",
       " ['Set and get using tag a fragment in android',\n",
       "  'get fragment by tag or id from tablayout ,android'],\n",
       " ['How to open a web page automatically in full screen mode',\n",
       "  'Keep display on during web app'],\n",
       " ['SQL Server 2008 : Convert column value to row',\n",
       "  'Switching rows for columns and columns for rows',\n",
       "  'Swap Some Rows into Columns in SQL Server 2008'],\n",
       " ['Drupal PHP - Internal Error only when erasing file upload and saving',\n",
       "  'PHP 5.4 Call-time pass-by-reference - Easy fix available?'],\n",
       " ['How do you find the row count for all your tables in Postgres',\n",
       "  'Perform the sum of many count queries, from the result of an initial query'],\n",
       " ...]"
      ]
     },
     "execution_count": 115,
     "metadata": {},
     "output_type": "execute_result"
    }
   ],
   "execution_count": 115
  },
  {
   "cell_type": "markdown",
   "metadata": {
    "id": "Nr281ZyEJfjT"
   },
   "source": [
    "Улучшите качество модели.<br>Склеим вопросы в пары и обучим на них модель Word2Vec из gensim. Выберите размер window. Объясните свой выбор."
   ]
  },
  {
   "metadata": {},
   "cell_type": "markdown",
   "source": "**Используем объединённые пары вопросов без `lower()` и лемматизации**"
  },
  {
   "cell_type": "code",
   "metadata": {
    "id": "f6Y46SSQMTL0",
    "ExecuteTime": {
     "end_time": "2025-01-20T20:02:57.960071Z",
     "start_time": "2025-01-20T20:02:49.087230Z"
    }
   },
   "source": [
    "tokenizer = WordPunctTokenizer()\n",
    "\n",
    "words = [tokenizer.tokenize(\" \".join(questions)) for questions in train_data]"
   ],
   "outputs": [],
   "execution_count": 122
  },
  {
   "cell_type": "code",
   "metadata": {
    "id": "QuJzAM0cI-UH",
    "ExecuteTime": {
     "end_time": "2025-01-20T21:24:10.727891Z",
     "start_time": "2025-01-20T20:10:17.823270Z"
    }
   },
   "source": [
    "from gensim.models import Word2Vec\n",
    "\n",
    "dsg_history = []\n",
    "hits_history = []\n",
    "for min_count in range(1, 6):\n",
    "    for window in range(1, 8):\n",
    "        embeddings_trained = Word2Vec(words, # data for model to train on\n",
    "                         vector_size=200,                 # embedding vector size\n",
    "                         min_count=min_count,                     # consider words that occured at least 5 times\n",
    "                         window=window).wv\n",
    "        \n",
    "        wv_ranking = []\n",
    "        max_validation_examples = 1000\n",
    "        for i, line in enumerate(tqdm(validation_data)):\n",
    "            if i == max_validation_examples:\n",
    "                break\n",
    "            q, *ex = line\n",
    "            ranks = rank_candidates(q, ex, embeddings_trained, tokenizer)\n",
    "            wv_ranking.append([r[0] for r in ranks].index(0) + 1)\n",
    "            \n",
    "        print(f'min_count: {min_count}, window: {window}')\n",
    "        for k in tqdm([1, 5, 10, 100, 500, 1000]):\n",
    "            dsg_score_num = dcg_score(wv_ranking, k)\n",
    "            hits_score_num = hits_count(wv_ranking, k)\n",
    "            dsg_history.append(dsg_score_num)\n",
    "            hits_history.append(hits_score_num)\n",
    "            print(\"DCG@%4d: %.3f | Hits@%4d: %.3f\" % (k, dsg_score_num, k, hits_score_num))"
   ],
   "outputs": [
    {
     "name": "stderr",
     "output_type": "stream",
     "text": [
      " 27%|██▋       | 1000/3760 [00:30<01:24, 32.53it/s]\n"
     ]
    },
    {
     "name": "stdout",
     "output_type": "stream",
     "text": [
      "min_count: 1, window: 1\n"
     ]
    },
    {
     "name": "stderr",
     "output_type": "stream",
     "text": [
      "100%|██████████| 6/6 [00:00<00:00, 2997.72it/s]\n"
     ]
    },
    {
     "name": "stdout",
     "output_type": "stream",
     "text": [
      "DCG@   1: 0.201 | Hits@   1: 0.201\n",
      "DCG@   5: 0.260 | Hits@   5: 0.314\n",
      "DCG@  10: 0.278 | Hits@  10: 0.370\n",
      "DCG@ 100: 0.319 | Hits@ 100: 0.577\n",
      "DCG@ 500: 0.353 | Hits@ 500: 0.846\n",
      "DCG@1000: 0.369 | Hits@1000: 1.000\n"
     ]
    },
    {
     "name": "stderr",
     "output_type": "stream",
     "text": [
      " 27%|██▋       | 1000/3760 [00:31<01:25, 32.17it/s]\n"
     ]
    },
    {
     "name": "stdout",
     "output_type": "stream",
     "text": [
      "min_count: 1, window: 2\n"
     ]
    },
    {
     "name": "stderr",
     "output_type": "stream",
     "text": [
      "100%|██████████| 6/6 [00:00<00:00, 5997.57it/s]\n"
     ]
    },
    {
     "name": "stdout",
     "output_type": "stream",
     "text": [
      "DCG@   1: 0.226 | Hits@   1: 0.226\n",
      "DCG@   5: 0.283 | Hits@   5: 0.335\n",
      "DCG@  10: 0.301 | Hits@  10: 0.391\n",
      "DCG@ 100: 0.352 | Hits@ 100: 0.646\n",
      "DCG@ 500: 0.381 | Hits@ 500: 0.878\n",
      "DCG@1000: 0.394 | Hits@1000: 1.000\n"
     ]
    },
    {
     "name": "stderr",
     "output_type": "stream",
     "text": [
      " 27%|██▋       | 1000/3760 [00:30<01:25, 32.43it/s]\n"
     ]
    },
    {
     "name": "stdout",
     "output_type": "stream",
     "text": [
      "min_count: 1, window: 3\n"
     ]
    },
    {
     "name": "stderr",
     "output_type": "stream",
     "text": [
      "100%|██████████| 6/6 [00:00<00:00, 2999.50it/s]\n"
     ]
    },
    {
     "name": "stdout",
     "output_type": "stream",
     "text": [
      "DCG@   1: 0.241 | Hits@   1: 0.241\n",
      "DCG@   5: 0.306 | Hits@   5: 0.366\n",
      "DCG@  10: 0.323 | Hits@  10: 0.419\n",
      "DCG@ 100: 0.374 | Hits@ 100: 0.674\n",
      "DCG@ 500: 0.404 | Hits@ 500: 0.908\n",
      "DCG@1000: 0.414 | Hits@1000: 1.000\n"
     ]
    },
    {
     "name": "stderr",
     "output_type": "stream",
     "text": [
      " 27%|██▋       | 1000/3760 [00:30<01:24, 32.57it/s]\n"
     ]
    },
    {
     "name": "stdout",
     "output_type": "stream",
     "text": [
      "min_count: 1, window: 4\n"
     ]
    },
    {
     "name": "stderr",
     "output_type": "stream",
     "text": [
      "100%|██████████| 6/6 [00:00<00:00, 6001.87it/s]\n"
     ]
    },
    {
     "name": "stdout",
     "output_type": "stream",
     "text": [
      "DCG@   1: 0.252 | Hits@   1: 0.252\n",
      "DCG@   5: 0.315 | Hits@   5: 0.373\n",
      "DCG@  10: 0.332 | Hits@  10: 0.425\n",
      "DCG@ 100: 0.387 | Hits@ 100: 0.696\n",
      "DCG@ 500: 0.416 | Hits@ 500: 0.922\n",
      "DCG@1000: 0.424 | Hits@1000: 1.000\n"
     ]
    },
    {
     "name": "stderr",
     "output_type": "stream",
     "text": [
      " 27%|██▋       | 1000/3760 [00:31<01:27, 31.61it/s]\n"
     ]
    },
    {
     "name": "stdout",
     "output_type": "stream",
     "text": [
      "min_count: 1, window: 5\n"
     ]
    },
    {
     "name": "stderr",
     "output_type": "stream",
     "text": [
      "100%|██████████| 6/6 [00:00<00:00, 5994.72it/s]\n"
     ]
    },
    {
     "name": "stdout",
     "output_type": "stream",
     "text": [
      "DCG@   1: 0.260 | Hits@   1: 0.260\n",
      "DCG@   5: 0.326 | Hits@   5: 0.386\n",
      "DCG@  10: 0.343 | Hits@  10: 0.441\n",
      "DCG@ 100: 0.399 | Hits@ 100: 0.717\n",
      "DCG@ 500: 0.425 | Hits@ 500: 0.925\n",
      "DCG@1000: 0.433 | Hits@1000: 1.000\n"
     ]
    },
    {
     "name": "stderr",
     "output_type": "stream",
     "text": [
      " 27%|██▋       | 1000/3760 [00:31<01:27, 31.47it/s]\n"
     ]
    },
    {
     "name": "stdout",
     "output_type": "stream",
     "text": [
      "min_count: 1, window: 6\n"
     ]
    },
    {
     "name": "stderr",
     "output_type": "stream",
     "text": [
      "100%|██████████| 6/6 [00:00<00:00, 3002.72it/s]\n"
     ]
    },
    {
     "name": "stdout",
     "output_type": "stream",
     "text": [
      "DCG@   1: 0.257 | Hits@   1: 0.257\n",
      "DCG@   5: 0.329 | Hits@   5: 0.394\n",
      "DCG@  10: 0.346 | Hits@  10: 0.448\n",
      "DCG@ 100: 0.402 | Hits@ 100: 0.722\n",
      "DCG@ 500: 0.428 | Hits@ 500: 0.928\n",
      "DCG@1000: 0.436 | Hits@1000: 1.000\n"
     ]
    },
    {
     "name": "stderr",
     "output_type": "stream",
     "text": [
      " 27%|██▋       | 1000/3760 [00:42<01:57, 23.42it/s]\n"
     ]
    },
    {
     "name": "stdout",
     "output_type": "stream",
     "text": [
      "min_count: 1, window: 7\n"
     ]
    },
    {
     "name": "stderr",
     "output_type": "stream",
     "text": [
      "100%|██████████| 6/6 [00:00<00:00, 2997.72it/s]\n"
     ]
    },
    {
     "name": "stdout",
     "output_type": "stream",
     "text": [
      "DCG@   1: 0.263 | Hits@   1: 0.263\n",
      "DCG@   5: 0.331 | Hits@   5: 0.392\n",
      "DCG@  10: 0.351 | Hits@  10: 0.454\n",
      "DCG@ 100: 0.406 | Hits@ 100: 0.724\n",
      "DCG@ 500: 0.432 | Hits@ 500: 0.930\n",
      "DCG@1000: 0.439 | Hits@1000: 1.000\n"
     ]
    },
    {
     "name": "stderr",
     "output_type": "stream",
     "text": [
      " 27%|██▋       | 1000/3760 [00:41<01:54, 24.01it/s]\n"
     ]
    },
    {
     "name": "stdout",
     "output_type": "stream",
     "text": [
      "min_count: 2, window: 1\n"
     ]
    },
    {
     "name": "stderr",
     "output_type": "stream",
     "text": [
      "100%|██████████| 6/6 [00:00<00:00, 1999.03it/s]\n"
     ]
    },
    {
     "name": "stdout",
     "output_type": "stream",
     "text": [
      "DCG@   1: 0.212 | Hits@   1: 0.212\n",
      "DCG@   5: 0.269 | Hits@   5: 0.321\n",
      "DCG@  10: 0.289 | Hits@  10: 0.383\n",
      "DCG@ 100: 0.330 | Hits@ 100: 0.596\n",
      "DCG@ 500: 0.362 | Hits@ 500: 0.848\n",
      "DCG@1000: 0.378 | Hits@1000: 1.000\n"
     ]
    },
    {
     "name": "stderr",
     "output_type": "stream",
     "text": [
      " 27%|██▋       | 1000/3760 [00:45<02:04, 22.14it/s]\n"
     ]
    },
    {
     "name": "stdout",
     "output_type": "stream",
     "text": [
      "min_count: 2, window: 2\n"
     ]
    },
    {
     "name": "stderr",
     "output_type": "stream",
     "text": [
      "100%|██████████| 6/6 [00:00<00:00, 3002.01it/s]\n"
     ]
    },
    {
     "name": "stdout",
     "output_type": "stream",
     "text": [
      "DCG@   1: 0.231 | Hits@   1: 0.231\n",
      "DCG@   5: 0.287 | Hits@   5: 0.338\n",
      "DCG@  10: 0.305 | Hits@  10: 0.394\n",
      "DCG@ 100: 0.357 | Hits@ 100: 0.652\n",
      "DCG@ 500: 0.387 | Hits@ 500: 0.888\n",
      "DCG@1000: 0.399 | Hits@1000: 1.000\n"
     ]
    },
    {
     "name": "stderr",
     "output_type": "stream",
     "text": [
      " 27%|██▋       | 1000/3760 [00:43<01:59, 23.06it/s]\n"
     ]
    },
    {
     "name": "stdout",
     "output_type": "stream",
     "text": [
      "min_count: 2, window: 3\n"
     ]
    },
    {
     "name": "stderr",
     "output_type": "stream",
     "text": [
      "100%|██████████| 6/6 [00:00<00:00, 2999.86it/s]\n"
     ]
    },
    {
     "name": "stdout",
     "output_type": "stream",
     "text": [
      "DCG@   1: 0.249 | Hits@   1: 0.249\n",
      "DCG@   5: 0.308 | Hits@   5: 0.364\n",
      "DCG@  10: 0.325 | Hits@  10: 0.417\n",
      "DCG@ 100: 0.379 | Hits@ 100: 0.684\n",
      "DCG@ 500: 0.408 | Hits@ 500: 0.910\n",
      "DCG@1000: 0.418 | Hits@1000: 1.000\n"
     ]
    },
    {
     "name": "stderr",
     "output_type": "stream",
     "text": [
      " 27%|██▋       | 1000/3760 [00:45<02:04, 22.18it/s]\n"
     ]
    },
    {
     "name": "stdout",
     "output_type": "stream",
     "text": [
      "min_count: 2, window: 4\n"
     ]
    },
    {
     "name": "stderr",
     "output_type": "stream",
     "text": [
      "100%|██████████| 6/6 [00:00<00:00, 6007.60it/s]\n"
     ]
    },
    {
     "name": "stdout",
     "output_type": "stream",
     "text": [
      "DCG@   1: 0.257 | Hits@   1: 0.257\n",
      "DCG@   5: 0.317 | Hits@   5: 0.375\n",
      "DCG@  10: 0.339 | Hits@  10: 0.442\n",
      "DCG@ 100: 0.392 | Hits@ 100: 0.711\n",
      "DCG@ 500: 0.419 | Hits@ 500: 0.920\n",
      "DCG@1000: 0.427 | Hits@1000: 1.000\n"
     ]
    },
    {
     "name": "stderr",
     "output_type": "stream",
     "text": [
      " 27%|██▋       | 1000/3760 [00:45<02:05, 21.96it/s]\n"
     ]
    },
    {
     "name": "stdout",
     "output_type": "stream",
     "text": [
      "min_count: 2, window: 5\n"
     ]
    },
    {
     "name": "stderr",
     "output_type": "stream",
     "text": [
      "100%|██████████| 6/6 [00:00<00:00, 1999.67it/s]\n"
     ]
    },
    {
     "name": "stdout",
     "output_type": "stream",
     "text": [
      "DCG@   1: 0.253 | Hits@   1: 0.253\n",
      "DCG@   5: 0.324 | Hits@   5: 0.389\n",
      "DCG@  10: 0.343 | Hits@  10: 0.450\n",
      "DCG@ 100: 0.397 | Hits@ 100: 0.720\n",
      "DCG@ 500: 0.424 | Hits@ 500: 0.930\n",
      "DCG@1000: 0.431 | Hits@1000: 1.000\n"
     ]
    },
    {
     "name": "stderr",
     "output_type": "stream",
     "text": [
      " 27%|██▋       | 1000/3760 [00:43<02:00, 22.97it/s]\n"
     ]
    },
    {
     "name": "stdout",
     "output_type": "stream",
     "text": [
      "min_count: 2, window: 6\n"
     ]
    },
    {
     "name": "stderr",
     "output_type": "stream",
     "text": [
      "100%|██████████| 6/6 [00:00<00:00, 3003.44it/s]\n"
     ]
    },
    {
     "name": "stdout",
     "output_type": "stream",
     "text": [
      "DCG@   1: 0.264 | Hits@   1: 0.264\n",
      "DCG@   5: 0.330 | Hits@   5: 0.391\n",
      "DCG@  10: 0.350 | Hits@  10: 0.454\n",
      "DCG@ 100: 0.405 | Hits@ 100: 0.723\n",
      "DCG@ 500: 0.431 | Hits@ 500: 0.930\n",
      "DCG@1000: 0.439 | Hits@1000: 1.000\n"
     ]
    },
    {
     "name": "stderr",
     "output_type": "stream",
     "text": [
      " 27%|██▋       | 1000/3760 [00:41<01:55, 23.92it/s]\n"
     ]
    },
    {
     "name": "stdout",
     "output_type": "stream",
     "text": [
      "min_count: 2, window: 7\n"
     ]
    },
    {
     "name": "stderr",
     "output_type": "stream",
     "text": [
      "100%|██████████| 6/6 [00:00<00:00, 1999.35it/s]\n"
     ]
    },
    {
     "name": "stdout",
     "output_type": "stream",
     "text": [
      "DCG@   1: 0.268 | Hits@   1: 0.268\n",
      "DCG@   5: 0.337 | Hits@   5: 0.400\n",
      "DCG@  10: 0.356 | Hits@  10: 0.460\n",
      "DCG@ 100: 0.410 | Hits@ 100: 0.729\n",
      "DCG@ 500: 0.435 | Hits@ 500: 0.927\n",
      "DCG@1000: 0.443 | Hits@1000: 1.000\n"
     ]
    },
    {
     "name": "stderr",
     "output_type": "stream",
     "text": [
      " 27%|██▋       | 1000/3760 [00:45<02:06, 21.80it/s]\n"
     ]
    },
    {
     "name": "stdout",
     "output_type": "stream",
     "text": [
      "min_count: 3, window: 1\n"
     ]
    },
    {
     "name": "stderr",
     "output_type": "stream",
     "text": [
      "100%|██████████| 6/6 [00:00<00:00, 6000.43it/s]\n"
     ]
    },
    {
     "name": "stdout",
     "output_type": "stream",
     "text": [
      "DCG@   1: 0.218 | Hits@   1: 0.218\n",
      "DCG@   5: 0.276 | Hits@   5: 0.329\n",
      "DCG@  10: 0.292 | Hits@  10: 0.380\n",
      "DCG@ 100: 0.337 | Hits@ 100: 0.606\n",
      "DCG@ 500: 0.369 | Hits@ 500: 0.860\n",
      "DCG@1000: 0.384 | Hits@1000: 1.000\n"
     ]
    },
    {
     "name": "stderr",
     "output_type": "stream",
     "text": [
      " 27%|██▋       | 1000/3760 [00:50<02:20, 19.65it/s]\n"
     ]
    },
    {
     "name": "stdout",
     "output_type": "stream",
     "text": [
      "min_count: 3, window: 2\n"
     ]
    },
    {
     "name": "stderr",
     "output_type": "stream",
     "text": [
      "100%|██████████| 6/6 [00:00<00:00, 3000.58it/s]\n"
     ]
    },
    {
     "name": "stdout",
     "output_type": "stream",
     "text": [
      "DCG@   1: 0.236 | Hits@   1: 0.236\n",
      "DCG@   5: 0.292 | Hits@   5: 0.344\n",
      "DCG@  10: 0.309 | Hits@  10: 0.397\n",
      "DCG@ 100: 0.361 | Hits@ 100: 0.649\n",
      "DCG@ 500: 0.392 | Hits@ 500: 0.893\n",
      "DCG@1000: 0.403 | Hits@1000: 1.000\n"
     ]
    },
    {
     "name": "stderr",
     "output_type": "stream",
     "text": [
      " 27%|██▋       | 1000/3760 [00:52<02:25, 18.96it/s]\n"
     ]
    },
    {
     "name": "stdout",
     "output_type": "stream",
     "text": [
      "min_count: 3, window: 3\n"
     ]
    },
    {
     "name": "stderr",
     "output_type": "stream",
     "text": [
      "100%|██████████| 6/6 [00:00<00:00, 1000.19it/s]\n"
     ]
    },
    {
     "name": "stdout",
     "output_type": "stream",
     "text": [
      "DCG@   1: 0.248 | Hits@   1: 0.248\n",
      "DCG@   5: 0.307 | Hits@   5: 0.363\n",
      "DCG@  10: 0.325 | Hits@  10: 0.418\n",
      "DCG@ 100: 0.378 | Hits@ 100: 0.681\n",
      "DCG@ 500: 0.408 | Hits@ 500: 0.909\n",
      "DCG@1000: 0.417 | Hits@1000: 1.000\n"
     ]
    },
    {
     "name": "stderr",
     "output_type": "stream",
     "text": [
      " 27%|██▋       | 1000/3760 [00:49<02:16, 20.27it/s]\n"
     ]
    },
    {
     "name": "stdout",
     "output_type": "stream",
     "text": [
      "min_count: 3, window: 4\n"
     ]
    },
    {
     "name": "stderr",
     "output_type": "stream",
     "text": [
      "100%|██████████| 6/6 [00:00<00:00, 3000.93it/s]\n"
     ]
    },
    {
     "name": "stdout",
     "output_type": "stream",
     "text": [
      "DCG@   1: 0.250 | Hits@   1: 0.250\n",
      "DCG@   5: 0.317 | Hits@   5: 0.377\n",
      "DCG@  10: 0.336 | Hits@  10: 0.436\n",
      "DCG@ 100: 0.390 | Hits@ 100: 0.708\n",
      "DCG@ 500: 0.418 | Hits@ 500: 0.925\n",
      "DCG@1000: 0.426 | Hits@1000: 1.000\n"
     ]
    },
    {
     "name": "stderr",
     "output_type": "stream",
     "text": [
      " 27%|██▋       | 1000/3760 [00:47<02:10, 21.07it/s]\n"
     ]
    },
    {
     "name": "stdout",
     "output_type": "stream",
     "text": [
      "min_count: 3, window: 5\n"
     ]
    },
    {
     "name": "stderr",
     "output_type": "stream",
     "text": [
      "100%|██████████| 6/6 [00:00<00:00, 6007.60it/s]\n"
     ]
    },
    {
     "name": "stdout",
     "output_type": "stream",
     "text": [
      "DCG@   1: 0.260 | Hits@   1: 0.260\n",
      "DCG@   5: 0.325 | Hits@   5: 0.388\n",
      "DCG@  10: 0.342 | Hits@  10: 0.441\n",
      "DCG@ 100: 0.399 | Hits@ 100: 0.723\n",
      "DCG@ 500: 0.426 | Hits@ 500: 0.933\n",
      "DCG@1000: 0.433 | Hits@1000: 1.000\n"
     ]
    },
    {
     "name": "stderr",
     "output_type": "stream",
     "text": [
      " 27%|██▋       | 1000/3760 [00:48<02:13, 20.68it/s]\n"
     ]
    },
    {
     "name": "stdout",
     "output_type": "stream",
     "text": [
      "min_count: 3, window: 6\n"
     ]
    },
    {
     "name": "stderr",
     "output_type": "stream",
     "text": [
      "100%|██████████| 6/6 [00:00<00:00, 1501.72it/s]\n"
     ]
    },
    {
     "name": "stdout",
     "output_type": "stream",
     "text": [
      "DCG@   1: 0.263 | Hits@   1: 0.263\n",
      "DCG@   5: 0.332 | Hits@   5: 0.397\n",
      "DCG@  10: 0.349 | Hits@  10: 0.451\n",
      "DCG@ 100: 0.404 | Hits@ 100: 0.724\n",
      "DCG@ 500: 0.430 | Hits@ 500: 0.928\n",
      "DCG@1000: 0.438 | Hits@1000: 1.000\n"
     ]
    },
    {
     "name": "stderr",
     "output_type": "stream",
     "text": [
      " 27%|██▋       | 1000/3760 [00:48<02:15, 20.43it/s]\n"
     ]
    },
    {
     "name": "stdout",
     "output_type": "stream",
     "text": [
      "min_count: 3, window: 7\n"
     ]
    },
    {
     "name": "stderr",
     "output_type": "stream",
     "text": [
      "100%|██████████| 6/6 [00:00<00:00, 5994.72it/s]\n"
     ]
    },
    {
     "name": "stdout",
     "output_type": "stream",
     "text": [
      "DCG@   1: 0.269 | Hits@   1: 0.269\n",
      "DCG@   5: 0.336 | Hits@   5: 0.397\n",
      "DCG@  10: 0.356 | Hits@  10: 0.459\n",
      "DCG@ 100: 0.409 | Hits@ 100: 0.723\n",
      "DCG@ 500: 0.436 | Hits@ 500: 0.927\n",
      "DCG@1000: 0.444 | Hits@1000: 1.000\n"
     ]
    },
    {
     "name": "stderr",
     "output_type": "stream",
     "text": [
      " 27%|██▋       | 1000/3760 [00:40<01:53, 24.40it/s]\n"
     ]
    },
    {
     "name": "stdout",
     "output_type": "stream",
     "text": [
      "min_count: 4, window: 1\n"
     ]
    },
    {
     "name": "stderr",
     "output_type": "stream",
     "text": [
      "100%|██████████| 6/6 [00:00<00:00, 3002.01it/s]\n"
     ]
    },
    {
     "name": "stdout",
     "output_type": "stream",
     "text": [
      "DCG@   1: 0.216 | Hits@   1: 0.216\n",
      "DCG@   5: 0.276 | Hits@   5: 0.329\n",
      "DCG@  10: 0.294 | Hits@  10: 0.384\n",
      "DCG@ 100: 0.337 | Hits@ 100: 0.609\n",
      "DCG@ 500: 0.369 | Hits@ 500: 0.860\n",
      "DCG@1000: 0.384 | Hits@1000: 1.000\n"
     ]
    },
    {
     "name": "stderr",
     "output_type": "stream",
     "text": [
      " 27%|██▋       | 1000/3760 [00:44<02:02, 22.58it/s]\n"
     ]
    },
    {
     "name": "stdout",
     "output_type": "stream",
     "text": [
      "min_count: 4, window: 2\n"
     ]
    },
    {
     "name": "stderr",
     "output_type": "stream",
     "text": [
      "100%|██████████| 6/6 [00:00<00:00, 5997.57it/s]\n"
     ]
    },
    {
     "name": "stdout",
     "output_type": "stream",
     "text": [
      "DCG@   1: 0.235 | Hits@   1: 0.235\n",
      "DCG@   5: 0.291 | Hits@   5: 0.342\n",
      "DCG@  10: 0.307 | Hits@  10: 0.392\n",
      "DCG@ 100: 0.360 | Hits@ 100: 0.652\n",
      "DCG@ 500: 0.390 | Hits@ 500: 0.889\n",
      "DCG@1000: 0.402 | Hits@1000: 1.000\n"
     ]
    },
    {
     "name": "stderr",
     "output_type": "stream",
     "text": [
      " 27%|██▋       | 1000/3760 [00:45<02:04, 22.15it/s]\n"
     ]
    },
    {
     "name": "stdout",
     "output_type": "stream",
     "text": [
      "min_count: 4, window: 3\n"
     ]
    },
    {
     "name": "stderr",
     "output_type": "stream",
     "text": [
      "100%|██████████| 6/6 [00:00<00:00, 3003.08it/s]\n"
     ]
    },
    {
     "name": "stdout",
     "output_type": "stream",
     "text": [
      "DCG@   1: 0.248 | Hits@   1: 0.248\n",
      "DCG@   5: 0.309 | Hits@   5: 0.368\n",
      "DCG@  10: 0.324 | Hits@  10: 0.414\n",
      "DCG@ 100: 0.379 | Hits@ 100: 0.685\n",
      "DCG@ 500: 0.407 | Hits@ 500: 0.911\n",
      "DCG@1000: 0.417 | Hits@1000: 1.000\n"
     ]
    },
    {
     "name": "stderr",
     "output_type": "stream",
     "text": [
      " 27%|██▋       | 1000/3760 [00:46<02:07, 21.69it/s]\n"
     ]
    },
    {
     "name": "stdout",
     "output_type": "stream",
     "text": [
      "min_count: 4, window: 4\n"
     ]
    },
    {
     "name": "stderr",
     "output_type": "stream",
     "text": [
      "100%|██████████| 6/6 [00:00<00:00, 2001.42it/s]\n"
     ]
    },
    {
     "name": "stdout",
     "output_type": "stream",
     "text": [
      "DCG@   1: 0.247 | Hits@   1: 0.247\n",
      "DCG@   5: 0.316 | Hits@   5: 0.381\n",
      "DCG@  10: 0.334 | Hits@  10: 0.437\n",
      "DCG@ 100: 0.388 | Hits@ 100: 0.706\n",
      "DCG@ 500: 0.415 | Hits@ 500: 0.922\n",
      "DCG@1000: 0.424 | Hits@1000: 1.000\n"
     ]
    },
    {
     "name": "stderr",
     "output_type": "stream",
     "text": [
      " 27%|██▋       | 1000/3760 [00:42<01:57, 23.40it/s]\n"
     ]
    },
    {
     "name": "stdout",
     "output_type": "stream",
     "text": [
      "min_count: 4, window: 5\n"
     ]
    },
    {
     "name": "stderr",
     "output_type": "stream",
     "text": [
      "100%|██████████| 6/6 [00:00<00:00, 3001.65it/s]\n"
     ]
    },
    {
     "name": "stdout",
     "output_type": "stream",
     "text": [
      "DCG@   1: 0.251 | Hits@   1: 0.251\n",
      "DCG@   5: 0.321 | Hits@   5: 0.385\n",
      "DCG@  10: 0.341 | Hits@  10: 0.447\n",
      "DCG@ 100: 0.395 | Hits@ 100: 0.719\n",
      "DCG@ 500: 0.422 | Hits@ 500: 0.927\n",
      "DCG@1000: 0.429 | Hits@1000: 1.000\n"
     ]
    },
    {
     "name": "stderr",
     "output_type": "stream",
     "text": [
      " 27%|██▋       | 1000/3760 [00:44<02:03, 22.42it/s]\n"
     ]
    },
    {
     "name": "stdout",
     "output_type": "stream",
     "text": [
      "min_count: 4, window: 6\n"
     ]
    },
    {
     "name": "stderr",
     "output_type": "stream",
     "text": [
      "100%|██████████| 6/6 [00:00<00:00, 3002.72it/s]\n"
     ]
    },
    {
     "name": "stdout",
     "output_type": "stream",
     "text": [
      "DCG@   1: 0.258 | Hits@   1: 0.258\n",
      "DCG@   5: 0.330 | Hits@   5: 0.396\n",
      "DCG@  10: 0.347 | Hits@  10: 0.450\n",
      "DCG@ 100: 0.403 | Hits@ 100: 0.727\n",
      "DCG@ 500: 0.429 | Hits@ 500: 0.930\n",
      "DCG@1000: 0.437 | Hits@1000: 1.000\n"
     ]
    },
    {
     "name": "stderr",
     "output_type": "stream",
     "text": [
      " 27%|██▋       | 1000/3760 [00:44<02:01, 22.63it/s]\n"
     ]
    },
    {
     "name": "stdout",
     "output_type": "stream",
     "text": [
      "min_count: 4, window: 7\n"
     ]
    },
    {
     "name": "stderr",
     "output_type": "stream",
     "text": [
      "100%|██████████| 6/6 [00:00<00:00, 3002.72it/s]\n"
     ]
    },
    {
     "name": "stdout",
     "output_type": "stream",
     "text": [
      "DCG@   1: 0.264 | Hits@   1: 0.264\n",
      "DCG@   5: 0.335 | Hits@   5: 0.399\n",
      "DCG@  10: 0.354 | Hits@  10: 0.461\n",
      "DCG@ 100: 0.408 | Hits@ 100: 0.728\n",
      "DCG@ 500: 0.435 | Hits@ 500: 0.934\n",
      "DCG@1000: 0.442 | Hits@1000: 1.000\n"
     ]
    },
    {
     "name": "stderr",
     "output_type": "stream",
     "text": [
      " 27%|██▋       | 1000/3760 [00:40<01:51, 24.83it/s]\n"
     ]
    },
    {
     "name": "stdout",
     "output_type": "stream",
     "text": [
      "min_count: 5, window: 1\n"
     ]
    },
    {
     "name": "stderr",
     "output_type": "stream",
     "text": [
      "100%|██████████| 6/6 [00:00<00:00, 2999.14it/s]\n"
     ]
    },
    {
     "name": "stdout",
     "output_type": "stream",
     "text": [
      "DCG@   1: 0.220 | Hits@   1: 0.220\n",
      "DCG@   5: 0.276 | Hits@   5: 0.323\n",
      "DCG@  10: 0.294 | Hits@  10: 0.380\n",
      "DCG@ 100: 0.341 | Hits@ 100: 0.615\n",
      "DCG@ 500: 0.372 | Hits@ 500: 0.867\n",
      "DCG@1000: 0.386 | Hits@1000: 1.000\n"
     ]
    },
    {
     "name": "stderr",
     "output_type": "stream",
     "text": [
      " 27%|██▋       | 1000/3760 [00:31<01:27, 31.69it/s]\n"
     ]
    },
    {
     "name": "stdout",
     "output_type": "stream",
     "text": [
      "min_count: 5, window: 2\n"
     ]
    },
    {
     "name": "stderr",
     "output_type": "stream",
     "text": [
      "100%|██████████| 6/6 [00:00<00:00, 6020.53it/s]\n"
     ]
    },
    {
     "name": "stdout",
     "output_type": "stream",
     "text": [
      "DCG@   1: 0.230 | Hits@   1: 0.230\n",
      "DCG@   5: 0.290 | Hits@   5: 0.346\n",
      "DCG@  10: 0.306 | Hits@  10: 0.397\n",
      "DCG@ 100: 0.359 | Hits@ 100: 0.660\n",
      "DCG@ 500: 0.388 | Hits@ 500: 0.894\n",
      "DCG@1000: 0.400 | Hits@1000: 1.000\n"
     ]
    },
    {
     "name": "stderr",
     "output_type": "stream",
     "text": [
      " 27%|██▋       | 1000/3760 [00:31<01:25, 32.15it/s]\n"
     ]
    },
    {
     "name": "stdout",
     "output_type": "stream",
     "text": [
      "min_count: 5, window: 3\n"
     ]
    },
    {
     "name": "stderr",
     "output_type": "stream",
     "text": [
      "100%|██████████| 6/6 [00:00<00:00, 6001.87it/s]\n"
     ]
    },
    {
     "name": "stdout",
     "output_type": "stream",
     "text": [
      "DCG@   1: 0.242 | Hits@   1: 0.242\n",
      "DCG@   5: 0.304 | Hits@   5: 0.361\n",
      "DCG@  10: 0.323 | Hits@  10: 0.418\n",
      "DCG@ 100: 0.375 | Hits@ 100: 0.678\n",
      "DCG@ 500: 0.405 | Hits@ 500: 0.907\n",
      "DCG@1000: 0.415 | Hits@1000: 1.000\n"
     ]
    },
    {
     "name": "stderr",
     "output_type": "stream",
     "text": [
      " 27%|██▋       | 1000/3760 [00:30<01:25, 32.44it/s]\n"
     ]
    },
    {
     "name": "stdout",
     "output_type": "stream",
     "text": [
      "min_count: 5, window: 4\n"
     ]
    },
    {
     "name": "stderr",
     "output_type": "stream",
     "text": [
      "100%|██████████| 6/6 [00:00<00:00, 5991.86it/s]\n"
     ]
    },
    {
     "name": "stdout",
     "output_type": "stream",
     "text": [
      "DCG@   1: 0.253 | Hits@   1: 0.253\n",
      "DCG@   5: 0.316 | Hits@   5: 0.377\n",
      "DCG@  10: 0.336 | Hits@  10: 0.437\n",
      "DCG@ 100: 0.391 | Hits@ 100: 0.714\n",
      "DCG@ 500: 0.418 | Hits@ 500: 0.926\n",
      "DCG@1000: 0.426 | Hits@1000: 1.000\n"
     ]
    },
    {
     "name": "stderr",
     "output_type": "stream",
     "text": [
      " 27%|██▋       | 1000/3760 [00:30<01:25, 32.34it/s]\n"
     ]
    },
    {
     "name": "stdout",
     "output_type": "stream",
     "text": [
      "min_count: 5, window: 5\n"
     ]
    },
    {
     "name": "stderr",
     "output_type": "stream",
     "text": [
      "100%|██████████| 6/6 [00:00<00:00, 3000.22it/s]\n"
     ]
    },
    {
     "name": "stdout",
     "output_type": "stream",
     "text": [
      "DCG@   1: 0.255 | Hits@   1: 0.255\n",
      "DCG@   5: 0.321 | Hits@   5: 0.382\n",
      "DCG@  10: 0.341 | Hits@  10: 0.444\n",
      "DCG@ 100: 0.396 | Hits@ 100: 0.716\n",
      "DCG@ 500: 0.423 | Hits@ 500: 0.927\n",
      "DCG@1000: 0.431 | Hits@1000: 1.000\n"
     ]
    },
    {
     "name": "stderr",
     "output_type": "stream",
     "text": [
      " 27%|██▋       | 1000/3760 [00:31<01:26, 31.92it/s]\n"
     ]
    },
    {
     "name": "stdout",
     "output_type": "stream",
     "text": [
      "min_count: 5, window: 6\n"
     ]
    },
    {
     "name": "stderr",
     "output_type": "stream",
     "text": [
      "100%|██████████| 6/6 [00:00<00:00, 3003.80it/s]\n"
     ]
    },
    {
     "name": "stdout",
     "output_type": "stream",
     "text": [
      "DCG@   1: 0.258 | Hits@   1: 0.258\n",
      "DCG@   5: 0.330 | Hits@   5: 0.394\n",
      "DCG@  10: 0.348 | Hits@  10: 0.448\n",
      "DCG@ 100: 0.403 | Hits@ 100: 0.722\n",
      "DCG@ 500: 0.429 | Hits@ 500: 0.929\n",
      "DCG@1000: 0.437 | Hits@1000: 1.000\n"
     ]
    },
    {
     "name": "stderr",
     "output_type": "stream",
     "text": [
      " 27%|██▋       | 1000/3760 [00:31<01:25, 32.16it/s]\n"
     ]
    },
    {
     "name": "stdout",
     "output_type": "stream",
     "text": [
      "min_count: 5, window: 7\n"
     ]
    },
    {
     "name": "stderr",
     "output_type": "stream",
     "text": [
      "100%|██████████| 6/6 [00:00<00:00, 6011.90it/s]"
     ]
    },
    {
     "name": "stdout",
     "output_type": "stream",
     "text": [
      "DCG@   1: 0.268 | Hits@   1: 0.268\n",
      "DCG@   5: 0.342 | Hits@   5: 0.409\n",
      "DCG@  10: 0.357 | Hits@  10: 0.457\n",
      "DCG@ 100: 0.412 | Hits@ 100: 0.731\n",
      "DCG@ 500: 0.437 | Hits@ 500: 0.931\n",
      "DCG@1000: 0.445 | Hits@1000: 1.000\n"
     ]
    },
    {
     "name": "stderr",
     "output_type": "stream",
     "text": [
      "\n"
     ]
    }
   ],
   "execution_count": 124
  },
  {
   "metadata": {
    "ExecuteTime": {
     "end_time": "2025-01-20T21:42:47.813302Z",
     "start_time": "2025-01-20T21:42:47.679303Z"
    }
   },
   "cell_type": "code",
   "source": [
    "import matplotlib.pyplot as plt\n",
    "\n",
    "plt.figure(figsize=(15, 8))\n",
    "plt.plot(hits_history)\n",
    "plt.plot(dsg_history)\n",
    "plt.legend(['Hits@', 'DCG@'])\n",
    "plt.show()"
   ],
   "outputs": [
    {
     "data": {
      "text/plain": [
       "<Figure size 1500x800 with 1 Axes>"
      ],
      "image/png": "[encoded data removed]"
     },
     "metadata": {},
     "output_type": "display_data"
    }
   ],
   "execution_count": 130
  },
  {
   "cell_type": "markdown",
   "metadata": {
    "id": "tY8PxB0j-ThG"
   },
   "source": [
    "### Замечание:\n",
    "Решить эту задачу с помощью обучения полноценной нейронной сети будет вам предложено, как часть задания в одной из домашних работ по теме \"Диалоговые системы\"."
   ]
  },
  {
   "cell_type": "markdown",
   "metadata": {
    "id": "vymVj8IxO2PO"
   },
   "source": [
    "Напишите свой вывод о полученных результатах.\n",
    "* Какой принцип токенизации даёт качество лучше и почему?\n",
    "* Помогает ли нормализация слов?\n",
    "* Какие эмбеддинги лучше справляются с задачей и почему?\n",
    "* Почему получилось плохое качество решения задачи?\n",
    "* Предложите свой подход к решению задачи.\n",
    "\n",
    "## Вывод:\n"
   ]
  },
  {
   "cell_type": "markdown",
   "metadata": {
    "id": "emODHztAQUQz"
   },
   "source": [
    ""
   ]
  }
 ]
}
