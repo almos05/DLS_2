{
 "nbformat": 4,
 "nbformat_minor": 0,
 "metadata": {
  "kernelspec": {
   "display_name": "Python 3",
   "language": "python",
   "name": "python3"
  },
  "language_info": {
   "codemirror_mode": {
    "name": "ipython",
    "version": 3
   },
   "file_extension": ".py",
   "mimetype": "text/x-python",
   "name": "python",
   "nbconvert_exporter": "python",
   "pygments_lexer": "ipython3",
   "version": "3.7.2"
  },
  "colab": {
   "name": "[homework]simple_embeddings.ipynb",
   "provenance": [],
   "collapsed_sections": [
    "BIWqBuEa6j0b",
    "uS9FwWNd5a3S",
    "MQk_rolFwT_h",
    "ai48-5vv6j1d",
    "Y60z4t6W6j16",
    "0sUSxk866j1_",
    "J5xWOORI6j2F",
    "tHZqgDTo6j0i",
    "ySQQp0oQt1Ep",
    "LL6_Rjg3InL8"
   ]
  }
 },
 "cells": [
  {
   "cell_type": "markdown",
   "metadata": {
    "id": "Ot3c4fjZwC4T"
   },
   "source": [
    "<img src=\"https://s8.hostingkartinok.com/uploads/images/2018/08/308b49fcfbc619d629fe4604bceb67ac.jpg\" width=500, height=450>\n",
    "<h3 style=\"text-align: center;\"><b>Физтех-Школа Прикладной математики и информатики (ФПМИ) МФТИ</b></h3>"
   ]
  },
  {
   "cell_type": "markdown",
   "metadata": {
    "id": "P2JdzEXmwRU5"
   },
   "source": [
    "---"
   ]
  },
  {
   "cell_type": "markdown",
   "metadata": {
    "id": "Fc8iHXIVwDwj"
   },
   "source": [
    "***Some parts of the notebook are almost the copy of [ mmta-team course](https://github.com/mmta-team/mmta_fall_2020). Special thanks to mmta-team for making them publicly available. [Original notebook](https://github.com/mmta-team/mmta_fall_2020/blob/master/tasks/01_word_embeddings/task_word_embeddings.ipynb).***"
   ]
  },
  {
   "cell_type": "markdown",
   "metadata": {
    "id": "7D0wm5jt6j0U"
   },
   "source": [
    "<b> Прочитайте семинар, пожалуйста, для успешного выполнения домашнего задания. В конце ноутка напишите свой вывод. Работа без вывода оценивается ниже."
   ]
  },
  {
   "cell_type": "markdown",
   "metadata": {
    "id": "BIWqBuEa6j0b"
   },
   "source": [
    "## Задача поиска схожих по смыслу предложений"
   ]
  },
  {
   "cell_type": "markdown",
   "metadata": {
    "id": "NUkwMPLA6j0g"
   },
   "source": [
    "Мы будем ранжировать вопросы [StackOverflow](https://stackoverflow.com) на основе семантического векторного представления "
   ]
  },
  {
   "cell_type": "markdown",
   "metadata": {
    "id": "dNRXIEfu5a3Q"
   },
   "source": [
    "До этого в курсе не было речи про задачу ранжировния, поэтому введем математическую формулировку"
   ]
  },
  {
   "cell_type": "markdown",
   "metadata": {
    "id": "uS9FwWNd5a3S"
   },
   "source": [
    "## Задача ранжирования(Learning to Rank)"
   ]
  },
  {
   "cell_type": "markdown",
   "metadata": {
    "id": "wdwY9-f75a3T"
   },
   "source": [
    "* $X$ - множество объектов\n",
    "* $X^l = \\{x_1, x_2, ..., x_l\\}$ - обучающая выборка\n",
    "<br>На обучающей выборке задан порядок между некоторыми элементами, то есть нам известно, что некий объект выборки более релевантный для нас, чем другой:\n",
    "* $i \\prec j$ - порядок пары индексов объектов на выборке $X^l$ c индексами $i$ и $j$\n",
    "### Задача:\n",
    "построить ранжирующую функцию $a$ : $X \\rightarrow R$ такую, что\n",
    "$$i \\prec j \\Rightarrow a(x_i) < a(x_j)$$"
   ]
  },
  {
   "cell_type": "markdown",
   "metadata": {
    "id": "WG2IGBsh5a3U"
   },
   "source": [
    "<img src=\"https://d25skit2l41vkl.cloudfront.net/wp-content/uploads/2016/12/Featured-Image.jpg\" width=500, height=450>"
   ]
  },
  {
   "cell_type": "markdown",
   "metadata": {
    "id": "MQk_rolFwT_h"
   },
   "source": [
    "### Embeddings"
   ]
  },
  {
   "cell_type": "markdown",
   "metadata": {
    "id": "xUe1PGXn6j0l"
   },
   "source": [
    "Будем использовать предобученные векторные представления слов на постах Stack Overflow.<br>\n",
    "[A word2vec model trained on Stack Overflow posts](https://github.com/vefstathiou/SO_word2vec)"
   ]
  },
  {
   "metadata": {
    "ExecuteTime": {
     "end_time": "2025-01-19T03:51:10.411860Z",
     "start_time": "2025-01-19T03:51:10.408737Z"
    }
   },
   "cell_type": "code",
   "source": "import math",
   "outputs": [],
   "execution_count": 47
  },
  {
   "metadata": {},
   "cell_type": "markdown",
   "source": "Dataset: https://zenodo.org/record/1199620/files/SO_vectors_200.bin?download=1"
  },
  {
   "cell_type": "code",
   "metadata": {
    "id": "O8YJTOYv6j0s",
    "ExecuteTime": {
     "end_time": "2025-01-19T03:51:22.281822Z",
     "start_time": "2025-01-19T03:51:11.313844Z"
    }
   },
   "source": [
    "from gensim.models.keyedvectors import KeyedVectors\n",
    "wv_embeddings = KeyedVectors.load_word2vec_format(\"../../datasets/SO_vectors_200.bin\", binary=True)"
   ],
   "outputs": [],
   "execution_count": 48
  },
  {
   "metadata": {
    "ExecuteTime": {
     "end_time": "2025-01-19T03:51:22.685579Z",
     "start_time": "2025-01-19T03:51:22.307814Z"
    }
   },
   "cell_type": "code",
   "source": [
    "outlier = wv_embeddings.doesnt_match([\"python\", \"java\", \"c\", \"dog\"])  # Находит \"лишнее\" слово в списке\n",
    "outlier"
   ],
   "outputs": [
    {
     "data": {
      "text/plain": [
       "'dog'"
      ]
     },
     "execution_count": 49,
     "metadata": {},
     "output_type": "execute_result"
    }
   ],
   "execution_count": 49
  },
  {
   "metadata": {
    "ExecuteTime": {
     "end_time": "2025-01-19T03:51:22.725375Z",
     "start_time": "2025-01-19T03:51:22.721395Z"
    }
   },
   "cell_type": "code",
   "source": "wv_embeddings.similarity('dog', 'cat')  # Возвращает коэффициент косинусной близости между двумя словами.",
   "outputs": [
    {
     "data": {
      "text/plain": [
       "0.6852341"
      ]
     },
     "execution_count": 50,
     "metadata": {},
     "output_type": "execute_result"
    }
   ],
   "execution_count": 50
  },
  {
   "metadata": {},
   "cell_type": "markdown",
   "source": [
    "Косинусная мера: \n",
    "\n",
    "![Косинусное расстояние](https://avatars.mds.yandex.net/i?id=bb9eff763a532435d4cca4f948d40d74_l-5235567-images-thumbs&n=13)\n"
   ]
  },
  {
   "metadata": {
    "ExecuteTime": {
     "end_time": "2025-01-19T03:51:22.775924Z",
     "start_time": "2025-01-19T03:51:22.771537Z"
    }
   },
   "cell_type": "code",
   "source": "wv_embeddings.index_to_key[0:10]",
   "outputs": [
    {
     "data": {
      "text/plain": [
       "['use', 'code', 'using', 'like', 'will', 'want', 'need', 'get', 'file', 'one']"
      ]
     },
     "execution_count": 51,
     "metadata": {},
     "output_type": "execute_result"
    }
   ],
   "execution_count": 51
  },
  {
   "metadata": {
    "ExecuteTime": {
     "end_time": "2025-01-19T03:51:22.891803Z",
     "start_time": "2025-01-19T03:51:22.820274Z"
    }
   },
   "cell_type": "code",
   "source": "wv_embeddings.most_similar(positive=['django', 'python'], negative=['ruby'], topn=3)",
   "outputs": [
    {
     "data": {
      "text/plain": [
       "[('web2py', 0.6115486025810242),\n",
       " ('flask', 0.5925045609474182),\n",
       " ('djangos', 0.5907748341560364)]"
      ]
     },
     "execution_count": 52,
     "metadata": {},
     "output_type": "execute_result"
    }
   ],
   "execution_count": 52
  },
  {
   "metadata": {
    "ExecuteTime": {
     "end_time": "2025-01-19T03:51:23.020907Z",
     "start_time": "2025-01-19T03:51:22.943102Z"
    }
   },
   "cell_type": "code",
   "source": "wv_embeddings.most_similar(positive=['pandas', 'python'], negative=['r'], topn=3)",
   "outputs": [
    {
     "data": {
      "text/plain": [
       "[('pythons', 0.6542717218399048),\n",
       " ('pytables', 0.6075527667999268),\n",
       " ('python3', 0.5946738719940186)]"
      ]
     },
     "execution_count": 53,
     "metadata": {},
     "output_type": "execute_result"
    }
   ],
   "execution_count": 53
  },
  {
   "metadata": {
    "ExecuteTime": {
     "end_time": "2025-01-19T03:51:23.047465Z",
     "start_time": "2025-01-19T03:51:23.043312Z"
    }
   },
   "cell_type": "code",
   "source": "wv_embeddings[0].shape",
   "outputs": [
    {
     "data": {
      "text/plain": [
       "(200,)"
      ]
     },
     "execution_count": 54,
     "metadata": {},
     "output_type": "execute_result"
    }
   ],
   "execution_count": 54
  },
  {
   "cell_type": "markdown",
   "metadata": {
    "id": "aIcT_g-C6j1E"
   },
   "source": [
    "#### Как пользоваться этими векторами?"
   ]
  },
  {
   "cell_type": "markdown",
   "metadata": {
    "id": "DWO5SPDY6j1G"
   },
   "source": [
    "Посмотрим на примере одного слова, что из себя представляет embedding"
   ]
  },
  {
   "cell_type": "code",
   "metadata": {
    "scrolled": true,
    "id": "KeSBlQfk6j1J",
    "ExecuteTime": {
     "end_time": "2025-01-19T03:51:23.097650Z",
     "start_time": "2025-01-19T03:51:23.094370Z"
    }
   },
   "source": [
    "word = 'dog'\n",
    "if word in wv_embeddings:\n",
    "    print(wv_embeddings[word].dtype, wv_embeddings[word].shape)"
   ],
   "outputs": [
    {
     "name": "stdout",
     "output_type": "stream",
     "text": [
      "float32 (200,)\n"
     ]
    }
   ],
   "execution_count": 55
  },
  {
   "cell_type": "code",
   "metadata": {
    "id": "T4Eq-D1qxpMJ",
    "ExecuteTime": {
     "end_time": "2025-01-19T03:51:23.145057Z",
     "start_time": "2025-01-19T03:51:23.141767Z"
    }
   },
   "source": "print(f\"Num of words: {len(wv_embeddings.index_to_key)}\")",
   "outputs": [
    {
     "name": "stdout",
     "output_type": "stream",
     "text": [
      "Num of words: 1787145\n"
     ]
    }
   ],
   "execution_count": 56
  },
  {
   "cell_type": "markdown",
   "metadata": {
    "id": "ZT6NTCys6j1Q"
   },
   "source": [
    "Найдем наиболее близкие слова к слову `dog`:"
   ]
  },
  {
   "metadata": {
    "ExecuteTime": {
     "end_time": "2025-01-19T03:51:23.251017Z",
     "start_time": "2025-01-19T03:51:23.189498Z"
    }
   },
   "cell_type": "code",
   "source": "wv_embeddings.most_similar(positive=['dog'], topn=5)",
   "outputs": [
    {
     "data": {
      "text/plain": [
       "[('animal', 0.8564180135726929),\n",
       " ('dogs', 0.7880866527557373),\n",
       " ('mammal', 0.7623804211616516),\n",
       " ('cats', 0.7621253728866577),\n",
       " ('animals', 0.760793924331665)]"
      ]
     },
     "execution_count": 57,
     "metadata": {},
     "output_type": "execute_result"
    }
   ],
   "execution_count": 57
  },
  {
   "cell_type": "markdown",
   "metadata": {
    "id": "n08z2PjMwC5o"
   },
   "source": [
    "#### Вопрос 1:\n",
    "* Входит ли слов `cat` топ-5 близких слов к слову `dog`? Какое место? "
   ]
  },
  {
   "metadata": {
    "scrolled": true,
    "id": "nYwVz0xG6j1U",
    "ExecuteTime": {
     "end_time": "2025-01-19T03:51:23.349144Z",
     "start_time": "2025-01-19T03:51:23.280146Z"
    }
   },
   "cell_type": "code",
   "source": [
    "for i, obj in enumerate(wv_embeddings.most_similar(positive=['cat'], topn=5)):\n",
    "    word, similary = obj\n",
    "    if 'dog' == word:\n",
    "        print(f'top: {i + 1}, word: {word}, similary: {similary}')\n",
    "        break"
   ],
   "outputs": [
    {
     "name": "stdout",
     "output_type": "stream",
     "text": [
      "top: 2, word: dog, similary: 0.6852341890335083\n"
     ]
    }
   ],
   "execution_count": 58
  },
  {
   "cell_type": "markdown",
   "metadata": {
    "id": "ai48-5vv6j1d"
   },
   "source": [
    "### Векторные представления текста\n",
    "\n",
    "Перейдем от векторных представлений отдельных слов к векторным представлениям вопросов, как к **среднему** векторов всех слов в вопросе. Если для какого-то слова нет предобученного вектора, то его нужно пропустить. Если вопрос не содержит ни одного известного слова, то нужно вернуть нулевой вектор."
   ]
  },
  {
   "cell_type": "code",
   "metadata": {
    "id": "EhNuxBJd6j1f",
    "ExecuteTime": {
     "end_time": "2025-01-19T03:51:23.365343Z",
     "start_time": "2025-01-19T03:51:23.361731Z"
    }
   },
   "source": [
    "import re\n",
    "import numpy as np\n",
    "\n",
    "# you can use your tokenizer\n",
    "# for example, from nltk.tokenize import WordPunctTokenizer\n",
    "\n",
    "class MyTokenizer:\n",
    "    def __init__(self):\n",
    "        pass\n",
    "    def tokenize(self, text):\n",
    "        return re.findall(r'\\w+', text)\n",
    "tokenizer = MyTokenizer()"
   ],
   "outputs": [],
   "execution_count": 59
  },
  {
   "cell_type": "code",
   "metadata": {
    "id": "YHcvu6186j1m",
    "ExecuteTime": {
     "end_time": "2025-01-19T03:51:23.409181Z",
     "start_time": "2025-01-19T03:51:23.405161Z"
    }
   },
   "source": [
    "def question_to_vec(question, embeddings, tokenizer, dim=200):\n",
    "    \"\"\"\n",
    "        question: строка\n",
    "        embeddings: наше векторное представление\n",
    "        dim: размер любого вектора в нашем представлении\n",
    "        \n",
    "        return: векторное представление для вопроса\n",
    "    \"\"\"\n",
    "    \n",
    "    emb_means = []\n",
    "    for word in tokenizer.tokenize(question):\n",
    "        if word in embeddings:\n",
    "            emb_means.append(embeddings[word])\n",
    "    \n",
    "    if len(emb_means) == 0:\n",
    "        return np.zeros(dim)\n",
    "    return np.array(emb_means, dtype='float32').mean(axis=0)"
   ],
   "outputs": [],
   "execution_count": 60
  },
  {
   "cell_type": "markdown",
   "metadata": {
    "id": "u5Q_4j7r6j1u"
   },
   "source": [
    "Теперь у нас есть метод для создания векторного представления любого предложения."
   ]
  },
  {
   "cell_type": "markdown",
   "metadata": {
    "id": "EsJSNkhm6j1y"
   },
   "source": [
    "#### Вопрос 2:\n",
    "* Какая третья(с индексом 2) компонента вектора предложения `I love neural networks` (округлите до 2 знаков после запятой)?"
   ]
  },
  {
   "cell_type": "code",
   "metadata": {
    "scrolled": true,
    "id": "a62r11cT6j10",
    "ExecuteTime": {
     "end_time": "2025-01-19T03:51:23.415461Z",
     "start_time": "2025-01-19T03:51:23.411703Z"
    }
   },
   "source": "text = 'I love neural networks'",
   "outputs": [],
   "execution_count": 61
  },
  {
   "metadata": {
    "ExecuteTime": {
     "end_time": "2025-01-19T03:51:23.435233Z",
     "start_time": "2025-01-19T03:51:23.429688Z"
    }
   },
   "cell_type": "code",
   "source": [
    "vector = question_to_vec(text, wv_embeddings, tokenizer)\n",
    "vector"
   ],
   "outputs": [
    {
     "data": {
      "text/plain": [
       "array([-1.0142275 , -1.6891261 , -1.2854122 , -1.3710302 ,  0.15916634,\n",
       "        0.06706961,  1.1188413 , -0.07051762,  0.5386369 , -0.37139115,\n",
       "        0.28913018,  1.03125   , -2.865466  , -1.3192873 ,  2.2098296 ,\n",
       "        1.1678672 ,  1.0841951 ,  1.8467226 , -0.98733807,  0.8720946 ,\n",
       "       -0.17219625,  0.73839015, -0.7827826 , -0.8827869 , -0.6152611 ,\n",
       "       -0.15872358, -0.6170798 ,  0.36668167,  2.0137532 ,  0.2627472 ,\n",
       "       -1.4950123 , -1.386715  , -1.2049937 , -1.016617  ,  2.7621174 ,\n",
       "        1.7255713 , -0.19038178, -0.5899447 , -0.1141155 , -1.8890352 ,\n",
       "       -1.7883505 , -0.20420384, -0.7062034 ,  2.489034  , -0.15452717,\n",
       "        1.1255013 ,  0.2610835 ,  1.3153247 , -0.57667524, -0.3327141 ,\n",
       "        1.6764902 ,  0.91229993, -0.69880134,  2.3752553 , -1.7634224 ,\n",
       "        3.1378052 ,  1.2243204 , -1.0554415 ,  0.7897571 ,  0.04404024,\n",
       "        1.1623045 , -0.4478023 , -0.9149816 ,  0.01501505, -0.85523087,\n",
       "       -1.0183454 , -0.7162116 ,  1.0727204 ,  0.8881876 , -0.29789424,\n",
       "        1.4994873 , -0.9384045 , -1.6828092 ,  1.0525229 ,  0.77871495,\n",
       "       -3.34081   ,  0.15682733,  0.7449282 , -1.4001557 ,  0.26698634,\n",
       "       -0.73809963,  0.37732854, -1.186255  , -1.5580353 , -1.6205387 ,\n",
       "        0.3077639 , -0.6114703 ,  2.3046587 , -1.5368671 ,  1.1242722 ,\n",
       "        1.1441461 , -1.1531478 , -0.5860432 , -0.51876646,  0.0847506 ,\n",
       "        0.55700606,  0.23870413,  1.9462968 ,  0.53030854,  2.6519432 ,\n",
       "       -0.44217658, -1.3738413 , -2.3082082 , -1.7291006 ,  0.09150317,\n",
       "        0.5256326 , -1.2948507 ,  0.47028258, -0.27833918,  1.7435821 ,\n",
       "        1.2399105 , -0.5580708 ,  1.1559254 ,  0.41553274,  1.609121  ,\n",
       "        1.7537718 , -1.77554   ,  0.44009423, -1.2379423 ,  0.10831648,\n",
       "       -0.6030591 , -2.0164118 , -0.741288  ,  1.3980994 , -0.16379206,\n",
       "       -0.68049955, -0.5787128 , -0.39811432,  0.01662459, -0.02013254,\n",
       "       -1.4819161 , -1.5942149 ,  1.7215437 ,  1.3974282 ,  1.8339332 ,\n",
       "       -1.6149954 ,  1.6407114 ,  0.01269384,  0.8794584 ,  0.8255847 ,\n",
       "       -1.4109812 , -0.6173281 , -0.35946855,  0.6510838 , -1.4075956 ,\n",
       "        1.1300169 , -0.93034726, -2.0259316 ,  0.76860523,  1.2960612 ,\n",
       "       -0.889519  ,  1.3354112 ,  0.99171686,  0.9166878 ,  1.4183179 ,\n",
       "        1.3392485 , -2.2770903 ,  2.0534172 , -0.06724194, -2.3479369 ,\n",
       "       -1.8847011 , -0.02379521, -0.26363063,  1.0747885 , -0.3491387 ,\n",
       "       -0.7492485 ,  0.6601408 ,  0.02122569,  0.35414076,  0.21582615,\n",
       "        0.5345003 ,  0.8234115 ,  0.03441159,  1.2792889 ,  0.57790637,\n",
       "       -1.0084995 , -1.4206891 ,  1.8025084 ,  0.8448728 ,  0.35306382,\n",
       "       -0.61330116, -0.4524261 , -0.4341513 , -0.1759737 , -0.7880316 ,\n",
       "        0.02072136,  0.683048  , -0.3041604 ,  1.2950336 , -0.92554665,\n",
       "       -1.357943  ,  0.16884269, -1.2752739 ,  0.02057016, -1.4632632 ,\n",
       "       -0.57811093,  0.9936001 ,  1.8199921 , -1.6206802 ,  0.8086469 ],\n",
       "      dtype=float32)"
      ]
     },
     "execution_count": 62,
     "metadata": {},
     "output_type": "execute_result"
    }
   ],
   "execution_count": 62
  },
  {
   "metadata": {
    "ExecuteTime": {
     "end_time": "2025-01-19T03:51:23.480608Z",
     "start_time": "2025-01-19T03:51:23.475872Z"
    }
   },
   "cell_type": "code",
   "source": "round(vector[2], 2)",
   "outputs": [
    {
     "data": {
      "text/plain": [
       "-1.29"
      ]
     },
     "execution_count": 63,
     "metadata": {},
     "output_type": "execute_result"
    }
   ],
   "execution_count": 63
  },
  {
   "metadata": {
    "ExecuteTime": {
     "end_time": "2025-01-19T03:51:23.533216Z",
     "start_time": "2025-01-19T03:51:23.528322Z"
    }
   },
   "cell_type": "code",
   "source": [
    "from nltk.tokenize import WordPunctTokenizer\n",
    "\n",
    "tokenizer = WordPunctTokenizer()\n",
    "vector = question_to_vec(text, wv_embeddings, tokenizer)\n",
    "vector"
   ],
   "outputs": [
    {
     "data": {
      "text/plain": [
       "array([-1.0142275 , -1.6891261 , -1.2854122 , -1.3710302 ,  0.15916634,\n",
       "        0.06706961,  1.1188413 , -0.07051762,  0.5386369 , -0.37139115,\n",
       "        0.28913018,  1.03125   , -2.865466  , -1.3192873 ,  2.2098296 ,\n",
       "        1.1678672 ,  1.0841951 ,  1.8467226 , -0.98733807,  0.8720946 ,\n",
       "       -0.17219625,  0.73839015, -0.7827826 , -0.8827869 , -0.6152611 ,\n",
       "       -0.15872358, -0.6170798 ,  0.36668167,  2.0137532 ,  0.2627472 ,\n",
       "       -1.4950123 , -1.386715  , -1.2049937 , -1.016617  ,  2.7621174 ,\n",
       "        1.7255713 , -0.19038178, -0.5899447 , -0.1141155 , -1.8890352 ,\n",
       "       -1.7883505 , -0.20420384, -0.7062034 ,  2.489034  , -0.15452717,\n",
       "        1.1255013 ,  0.2610835 ,  1.3153247 , -0.57667524, -0.3327141 ,\n",
       "        1.6764902 ,  0.91229993, -0.69880134,  2.3752553 , -1.7634224 ,\n",
       "        3.1378052 ,  1.2243204 , -1.0554415 ,  0.7897571 ,  0.04404024,\n",
       "        1.1623045 , -0.4478023 , -0.9149816 ,  0.01501505, -0.85523087,\n",
       "       -1.0183454 , -0.7162116 ,  1.0727204 ,  0.8881876 , -0.29789424,\n",
       "        1.4994873 , -0.9384045 , -1.6828092 ,  1.0525229 ,  0.77871495,\n",
       "       -3.34081   ,  0.15682733,  0.7449282 , -1.4001557 ,  0.26698634,\n",
       "       -0.73809963,  0.37732854, -1.186255  , -1.5580353 , -1.6205387 ,\n",
       "        0.3077639 , -0.6114703 ,  2.3046587 , -1.5368671 ,  1.1242722 ,\n",
       "        1.1441461 , -1.1531478 , -0.5860432 , -0.51876646,  0.0847506 ,\n",
       "        0.55700606,  0.23870413,  1.9462968 ,  0.53030854,  2.6519432 ,\n",
       "       -0.44217658, -1.3738413 , -2.3082082 , -1.7291006 ,  0.09150317,\n",
       "        0.5256326 , -1.2948507 ,  0.47028258, -0.27833918,  1.7435821 ,\n",
       "        1.2399105 , -0.5580708 ,  1.1559254 ,  0.41553274,  1.609121  ,\n",
       "        1.7537718 , -1.77554   ,  0.44009423, -1.2379423 ,  0.10831648,\n",
       "       -0.6030591 , -2.0164118 , -0.741288  ,  1.3980994 , -0.16379206,\n",
       "       -0.68049955, -0.5787128 , -0.39811432,  0.01662459, -0.02013254,\n",
       "       -1.4819161 , -1.5942149 ,  1.7215437 ,  1.3974282 ,  1.8339332 ,\n",
       "       -1.6149954 ,  1.6407114 ,  0.01269384,  0.8794584 ,  0.8255847 ,\n",
       "       -1.4109812 , -0.6173281 , -0.35946855,  0.6510838 , -1.4075956 ,\n",
       "        1.1300169 , -0.93034726, -2.0259316 ,  0.76860523,  1.2960612 ,\n",
       "       -0.889519  ,  1.3354112 ,  0.99171686,  0.9166878 ,  1.4183179 ,\n",
       "        1.3392485 , -2.2770903 ,  2.0534172 , -0.06724194, -2.3479369 ,\n",
       "       -1.8847011 , -0.02379521, -0.26363063,  1.0747885 , -0.3491387 ,\n",
       "       -0.7492485 ,  0.6601408 ,  0.02122569,  0.35414076,  0.21582615,\n",
       "        0.5345003 ,  0.8234115 ,  0.03441159,  1.2792889 ,  0.57790637,\n",
       "       -1.0084995 , -1.4206891 ,  1.8025084 ,  0.8448728 ,  0.35306382,\n",
       "       -0.61330116, -0.4524261 , -0.4341513 , -0.1759737 , -0.7880316 ,\n",
       "        0.02072136,  0.683048  , -0.3041604 ,  1.2950336 , -0.92554665,\n",
       "       -1.357943  ,  0.16884269, -1.2752739 ,  0.02057016, -1.4632632 ,\n",
       "       -0.57811093,  0.9936001 ,  1.8199921 , -1.6206802 ,  0.8086469 ],\n",
       "      dtype=float32)"
      ]
     },
     "execution_count": 64,
     "metadata": {},
     "output_type": "execute_result"
    }
   ],
   "execution_count": 64
  },
  {
   "metadata": {
    "ExecuteTime": {
     "end_time": "2025-01-19T03:51:23.612992Z",
     "start_time": "2025-01-19T03:51:23.608768Z"
    }
   },
   "cell_type": "code",
   "source": "round(vector[2], 2)",
   "outputs": [
    {
     "data": {
      "text/plain": [
       "-1.29"
      ]
     },
     "execution_count": 65,
     "metadata": {},
     "output_type": "execute_result"
    }
   ],
   "execution_count": 65
  },
  {
   "cell_type": "markdown",
   "metadata": {
    "id": "Y60z4t6W6j16"
   },
   "source": [
    "### Оценка близости текстов\n",
    "\n",
    "Представим, что мы используем идеальные векторные представления слов. Тогда косинусное расстояние между дублирующими предложениями должно быть меньше, чем между случайно взятыми предложениями. \n",
    "\n",
    "Сгенерируем для каждого из $N$ вопросов $R$ случайных отрицательных примеров и примешаем к ним также настоящие дубликаты. Для каждого вопроса будем ранжировать с помощью нашей модели $R + 1$ примеров и смотреть на позицию дубликата. Мы хотим, чтобы дубликат был первым в ранжированном списке.\n",
    "\n",
    "#### Hits@K\n",
    "Первой простой метрикой будет количество корректных попаданий для какого-то $K$:\n",
    "$$ \\text{Hits@K} = \\frac{1}{N}\\sum_{i=1}^N \\, [rank\\_q_i^{'} \\le K],$$\n",
    "* $\\begin{equation*}\n",
    "[x < 0 ] \\equiv \n",
    " \\begin{cases}\n",
    "   1, &x < 0\\\\\n",
    "   0, &x \\geq 0\n",
    " \\end{cases}\n",
    "\\end{equation*}$ - индикаторная функция\n",
    "* $q_i$ - $i$-ый вопрос\n",
    "* $q_i^{'}$ - его дубликат\n",
    "* $rank\\_q_i^{'}$ - позиция дубликата в ранжированном списке ближайших предложений для вопроса $q_i$.\n",
    "\n",
    "#### DCG@K\n",
    "Второй метрикой будет упрощенная DCG метрика, учитывающая порядок элементов в списке путем домножения релевантности элемента на вес равный обратному логарифму номера позиции::\n",
    "$$ \\text{DCG@K} = \\frac{1}{N} \\sum_{i=1}^N\\frac{1}{\\log_2(1+rank\\_q_i^{'})}\\cdot[rank\\_q_i^{'} \\le K],$$\n",
    "С такой метрикой модель штрафуется за большой ранк корректного ответа"
   ]
  },
  {
   "cell_type": "markdown",
   "metadata": {
    "id": "eHCnH-jw6j18"
   },
   "source": [
    "#### Вопрос 3:\n",
    "* Максимум `Hits@47 - DCG@1`?\n",
    "\n",
    "1 - min(DCG)? min(DSG) = 0 => Ответ: 1."
   ]
  },
  {
   "cell_type": "markdown",
   "metadata": {
    "id": "_tFemBkP6j1-"
   },
   "source": [
    "<img src='https://hsto.org/files/1c5/edf/dee/1c5edfdeebce4b71a86bdf986d9f88f2.jpg' width=400, height=200>"
   ]
  },
  {
   "cell_type": "markdown",
   "metadata": {
    "id": "0sUSxk866j1_"
   },
   "source": [
    "#### Пример оценок\n",
    "\n",
    "Вычислим описанные выше метрики для игрушечного примера. \n",
    "Пусть\n",
    "* $N = 1$, $R = 3$\n",
    "* <font color='green'>\"Что такое python?\"</font> - вопрос $q_1$\n",
    "* <font color='red'>\"Что такое язык python?\"</font> - его дубликат $q_i^{'}$\n",
    "\n",
    "Пусть модель выдала следующий ранжированный список кандидатов:\n",
    "\n",
    "1. \"Как изучить с++?\"\n",
    "2. <font color='red'>\"Что такое язык python?\"</font>\n",
    "3. \"Хочу учить Java\"\n",
    "4. \"Не понимаю Tensorflow\"\n",
    "\n",
    "$\\Rightarrow rank\\_q_i^{'} = 2$\n",
    "\n",
    "Вычислим метрику *Hits@K* для *K = 1, 4*:\n",
    "\n",
    "- [K = 1] $\\text{Hits@1} =  [rank\\_q_i^{'} \\le 1] = 0$\n",
    "- [K = 4] $\\text{Hits@4} =  [rank\\_q_i^{'} \\le 4] = 1$\n",
    "\n",
    "Вычислим метрику *DCG@K* для *K = 1, 4*:\n",
    "- [K = 1] $\\text{DCG@1} = \\frac{1}{\\log_2(1+2)}\\cdot[2 \\le 1] = 0$\n",
    "- [K = 4] $\\text{DCG@4} = \\frac{1}{\\log_2(1+2)}\\cdot[2 \\le 4] = \\frac{1}{\\log_2{3}}$"
   ]
  },
  {
   "cell_type": "markdown",
   "metadata": {
    "id": "B4L6HJJC6j2B"
   },
   "source": [
    "#### Вопрос 4:\n",
    "* Вычислите `DCG@10`, если $rank\\_q_i^{'} = 9$(округлите до одного знака после запятой)\n",
    "\n",
    "- [K = 10] $\\text{DCG@10} = \\frac{1}{\\log_2(1+9)}\\cdot[9 \\le 10] = \\frac{1}{\\log_2{10}} \\approx 0,3$"
   ]
  },
  {
   "cell_type": "markdown",
   "metadata": {
    "id": "J5xWOORI6j2F"
   },
   "source": [
    "### HITS\\_COUNT и DCG\\_SCORE"
   ]
  },
  {
   "cell_type": "markdown",
   "metadata": {
    "id": "I1q9WQOx6j2H"
   },
   "source": [
    "Каждая функция имеет два аргумента: $dup\\_ranks$ и $k$. $dup\\_ranks$ является списком, который содержит рейтинги дубликатов(их позиции в ранжированном списке). Например, $dup\\_ranks = [2]$ для примера, описанного выше."
   ]
  },
  {
   "cell_type": "code",
   "metadata": {
    "id": "F5VwySUB6j2J",
    "ExecuteTime": {
     "end_time": "2025-01-19T03:51:26.887679Z",
     "start_time": "2025-01-19T03:51:26.884252Z"
    }
   },
   "source": [
    "def hits_count(dup_ranks, k):\n",
    "    \"\"\"\n",
    "        dup_ranks: list индексов дубликатов\n",
    "        result: вернуть  Hits@k\n",
    "    \"\"\"\n",
    "    \n",
    "    return sum(rank_qi <= k for rank_qi in dup_ranks) / len(dup_ranks)"
   ],
   "outputs": [],
   "execution_count": 66
  },
  {
   "cell_type": "code",
   "metadata": {
    "id": "82hQaxCH6j2R",
    "ExecuteTime": {
     "end_time": "2025-01-19T03:51:27.719253Z",
     "start_time": "2025-01-19T03:51:27.715721Z"
    }
   },
   "source": [
    "def dcg_score(dup_ranks, k):\n",
    "    \"\"\"\n",
    "        dup_ranks: list индексов дубликатов\n",
    "        result: вернуть DCG@k\n",
    "    \"\"\"\n",
    "\n",
    "    return sum((1 / math.log2(1 + rank_qi)) if rank_qi <= k else 0 for rank_qi in dup_ranks) / len(dup_ranks)"
   ],
   "outputs": [],
   "execution_count": 67
  },
  {
   "cell_type": "markdown",
   "metadata": {
    "id": "PcwHeXN26j2Y"
   },
   "source": [
    "Протестируем функции. Пусть $N = 1$, то есть один эксперимент. Будем искать копию вопроса и оценивать метрики."
   ]
  },
  {
   "cell_type": "code",
   "metadata": {
    "id": "fjISmOEW6j2h",
    "ExecuteTime": {
     "end_time": "2025-01-19T03:51:29.679573Z",
     "start_time": "2025-01-19T03:51:29.676569Z"
    }
   },
   "source": [
    "import pandas as pd"
   ],
   "outputs": [],
   "execution_count": 68
  },
  {
   "cell_type": "code",
   "metadata": {
    "id": "gLa_Wqfh6j2m",
    "ExecuteTime": {
     "end_time": "2025-01-19T03:57:14.901053Z",
     "start_time": "2025-01-19T03:57:14.897060Z"
    }
   },
   "source": [
    "copy_answers = [\"How does the catch keyword determine the type of exception that was thrown\",]\n",
    "\n",
    "# наши кандидаты\n",
    "candidates_ranking = [[\"How Can I Make These Links Rotate in PHP\",\n",
    "                       \"How does the catch keyword determine the type of exception that was thrown\",\n",
    "                       \"NSLog array description not memory address\",\n",
    "                       \"PECL_HTTP not recognised php ubuntu\"],]\n",
    "# dup_ranks — позиции наших копий, так как эксперимент один, то этот массив длины 1\n",
    "dup_ranks = [2]\n",
    "\n",
    "# вычисляем метрику для разных k\n",
    "print('Ваш ответ HIT:', [hits_count(dup_ranks, k) for k in range(1, 5)])\n",
    "print('Ваш ответ DCG:', [round(dcg_score(dup_ranks, k), 5) for k in range(1, 5)])"
   ],
   "outputs": [
    {
     "name": "stdout",
     "output_type": "stream",
     "text": [
      "Ваш ответ HIT: [0.0, 1.0, 1.0, 1.0]\n",
      "Ваш ответ DCG: [0.0, 0.63093, 0.63093, 0.63093]\n"
     ]
    }
   ],
   "execution_count": 71
  },
  {
   "cell_type": "markdown",
   "metadata": {
    "id": "MoHC3YoQ6j2t"
   },
   "source": [
    "У вас должно получиться"
   ]
  },
  {
   "cell_type": "code",
   "metadata": {
    "scrolled": true,
    "id": "B0NFWq4f6j2u",
    "ExecuteTime": {
     "end_time": "2025-01-19T03:57:17.822591Z",
     "start_time": "2025-01-19T03:57:17.813708Z"
    }
   },
   "source": [
    "# correct_answers - метрика для разных k\n",
    "correct_answers = pd.DataFrame([[0, 1, 1, 1], [0, 1 / (np.log2(3)), 1 / (np.log2(3)), 1 / (np.log2(3))]],\n",
    "                               index=['HITS', 'DCG'], columns=range(1,5))\n",
    "correct_answers"
   ],
   "outputs": [
    {
     "data": {
      "text/plain": [
       "      1        2        3        4\n",
       "HITS  0  1.00000  1.00000  1.00000\n",
       "DCG   0  0.63093  0.63093  0.63093"
      ],
      "text/html": [
       "<div>\n",
       "<style scoped>\n",
       "    .dataframe tbody tr th:only-of-type {\n",
       "        vertical-align: middle;\n",
       "    }\n",
       "\n",
       "    .dataframe tbody tr th {\n",
       "        vertical-align: top;\n",
       "    }\n",
       "\n",
       "    .dataframe thead th {\n",
       "        text-align: right;\n",
       "    }\n",
       "</style>\n",
       "<table border=\"1\" class=\"dataframe\">\n",
       "  <thead>\n",
       "    <tr style=\"text-align: right;\">\n",
       "      <th></th>\n",
       "      <th>1</th>\n",
       "      <th>2</th>\n",
       "      <th>3</th>\n",
       "      <th>4</th>\n",
       "    </tr>\n",
       "  </thead>\n",
       "  <tbody>\n",
       "    <tr>\n",
       "      <th>HITS</th>\n",
       "      <td>0</td>\n",
       "      <td>1.00000</td>\n",
       "      <td>1.00000</td>\n",
       "      <td>1.00000</td>\n",
       "    </tr>\n",
       "    <tr>\n",
       "      <th>DCG</th>\n",
       "      <td>0</td>\n",
       "      <td>0.63093</td>\n",
       "      <td>0.63093</td>\n",
       "      <td>0.63093</td>\n",
       "    </tr>\n",
       "  </tbody>\n",
       "</table>\n",
       "</div>"
      ]
     },
     "execution_count": 72,
     "metadata": {},
     "output_type": "execute_result"
    }
   ],
   "execution_count": 72
  },
  {
   "cell_type": "markdown",
   "metadata": {
    "id": "tHZqgDTo6j0i"
   },
   "source": [
    "### Данные\n",
    "[arxiv link](https://drive.google.com/file/d/1QqT4D0EoqJTy7v9VrNCYD-m964XZFR7_/edit)\n",
    "\n",
    "`train.tsv` - выборка для обучения.<br> В каждой строке через табуляцию записаны: **<вопрос>, <похожий вопрос>**\n",
    "\n",
    "`validation.tsv` - тестовая выборка.<br> В каждой строке через табуляцию записаны: **<вопрос>, <похожий вопрос>, <отрицательный пример 1>, <отрицательный пример 2>, ...**"
   ]
  },
  {
   "cell_type": "code",
   "metadata": {
    "id": "jKVK2lDGvrIe",
    "colab": {
     "base_uri": "https://localhost:8080/"
    },
    "executionInfo": {
     "status": "ok",
     "timestamp": 1628256058346,
     "user_tz": -180,
     "elapsed": 28,
     "user": {
      "displayName": "Deep Learning School",
      "photoUrl": "https://lh3.googleusercontent.com/a-/AOh14GhNf0RkP5WvkU5MixKfC1Sv3mb-9QWgAbC6VcfQvA=s64",
      "userId": "16549096980415837553"
     }
    },
    "outputId": "51944c9b-d6e8-41af-bec4-bb35fba5d51b"
   },
   "source": [
    "!unzip stackoverflow_similar_questions.zip"
   ],
   "execution_count": null,
   "outputs": [
    {
     "output_type": "stream",
     "text": [
      "unzip:  cannot find or open stackoverflow_similar_questions.zip, stackoverflow_similar_questions.zip.zip or stackoverflow_similar_questions.zip.ZIP.\n"
     ],
     "name": "stdout"
    }
   ]
  },
  {
   "cell_type": "markdown",
   "metadata": {
    "id": "hil2UsUG6j22"
   },
   "source": [
    "Считайте данные."
   ]
  },
  {
   "cell_type": "code",
   "metadata": {
    "id": "B4EBho8s6j26"
   },
   "source": [
    "def read_corpus(filename):\n",
    "    data = []\n",
    "    for line in open(filename, encoding='utf-8'):\n",
    "        '''your code'''\n",
    "    return data"
   ],
   "execution_count": null,
   "outputs": []
  },
  {
   "cell_type": "markdown",
   "metadata": {
    "id": "kkTxY3Mk9_nG"
   },
   "source": [
    "Нам понадобиться только файл validation."
   ]
  },
  {
   "cell_type": "code",
   "metadata": {
    "id": "PTVB9Tnp6j29",
    "colab": {
     "base_uri": "https://localhost:8080/",
     "height": 274
    },
    "executionInfo": {
     "status": "error",
     "timestamp": 1628256058355,
     "user_tz": -180,
     "elapsed": 21,
     "user": {
      "displayName": "Deep Learning School",
      "photoUrl": "https://lh3.googleusercontent.com/a-/AOh14GhNf0RkP5WvkU5MixKfC1Sv3mb-9QWgAbC6VcfQvA=s64",
      "userId": "16549096980415837553"
     }
    },
    "outputId": "9c55c802-3d82-471d-eab2-195dabf5026c"
   },
   "source": [
    "validation_data = read_corpus('./data/validation.tsv')"
   ],
   "execution_count": null,
   "outputs": [
    {
     "output_type": "error",
     "ename": "FileNotFoundError",
     "evalue": "ignored",
     "traceback": [
      "\u001B[0;31m---------------------------------------------------------------------------\u001B[0m",
      "\u001B[0;31mFileNotFoundError\u001B[0m                         Traceback (most recent call last)",
      "\u001B[0;32m<ipython-input-3-ca6b401c96c1>\u001B[0m in \u001B[0;36m<module>\u001B[0;34m()\u001B[0m\n\u001B[0;32m----> 1\u001B[0;31m \u001B[0mvalidation_data\u001B[0m \u001B[0;34m=\u001B[0m \u001B[0mread_corpus\u001B[0m\u001B[0;34m(\u001B[0m\u001B[0;34m'./data/validation.tsv'\u001B[0m\u001B[0;34m)\u001B[0m\u001B[0;34m\u001B[0m\u001B[0;34m\u001B[0m\u001B[0m\n\u001B[0m",
      "\u001B[0;32m<ipython-input-2-2efd59a4a206>\u001B[0m in \u001B[0;36mread_corpus\u001B[0;34m(filename)\u001B[0m\n\u001B[1;32m      1\u001B[0m \u001B[0;32mdef\u001B[0m \u001B[0mread_corpus\u001B[0m\u001B[0;34m(\u001B[0m\u001B[0mfilename\u001B[0m\u001B[0;34m)\u001B[0m\u001B[0;34m:\u001B[0m\u001B[0;34m\u001B[0m\u001B[0;34m\u001B[0m\u001B[0m\n\u001B[1;32m      2\u001B[0m     \u001B[0mdata\u001B[0m \u001B[0;34m=\u001B[0m \u001B[0;34m[\u001B[0m\u001B[0;34m]\u001B[0m\u001B[0;34m\u001B[0m\u001B[0;34m\u001B[0m\u001B[0m\n\u001B[0;32m----> 3\u001B[0;31m     \u001B[0;32mfor\u001B[0m \u001B[0mline\u001B[0m \u001B[0;32min\u001B[0m \u001B[0mopen\u001B[0m\u001B[0;34m(\u001B[0m\u001B[0mfilename\u001B[0m\u001B[0;34m,\u001B[0m \u001B[0mencoding\u001B[0m\u001B[0;34m=\u001B[0m\u001B[0;34m'utf-8'\u001B[0m\u001B[0;34m)\u001B[0m\u001B[0;34m:\u001B[0m\u001B[0;34m\u001B[0m\u001B[0;34m\u001B[0m\u001B[0m\n\u001B[0m\u001B[1;32m      4\u001B[0m         \u001B[0;34m'''your code'''\u001B[0m\u001B[0;34m\u001B[0m\u001B[0;34m\u001B[0m\u001B[0m\n\u001B[1;32m      5\u001B[0m     \u001B[0;32mreturn\u001B[0m \u001B[0mdata\u001B[0m\u001B[0;34m\u001B[0m\u001B[0;34m\u001B[0m\u001B[0m\n",
      "\u001B[0;31mFileNotFoundError\u001B[0m: [Errno 2] No such file or directory: './data/validation.tsv'"
     ]
    }
   ]
  },
  {
   "cell_type": "markdown",
   "metadata": {
    "id": "bTHfL-9y6j3F"
   },
   "source": [
    "Кол-во строк"
   ]
  },
  {
   "cell_type": "code",
   "metadata": {
    "scrolled": false,
    "id": "z6ubXhIe6j3H"
   },
   "source": [
    "len(validation_data)"
   ],
   "execution_count": null,
   "outputs": []
  },
  {
   "cell_type": "markdown",
   "metadata": {
    "id": "kaOQblBy6j3M"
   },
   "source": [
    "Размер нескольких первых строк"
   ]
  },
  {
   "cell_type": "code",
   "metadata": {
    "id": "yRx6e-Pe6j3M"
   },
   "source": [
    "for i in range(5):\n",
    "    print(i + 1, len(validation_data[i]))"
   ],
   "execution_count": null,
   "outputs": []
  },
  {
   "cell_type": "markdown",
   "metadata": {
    "id": "ySQQp0oQt1Ep"
   },
   "source": [
    "### Ранжирование без обучения"
   ]
  },
  {
   "cell_type": "markdown",
   "metadata": {
    "id": "iElEDhj-6j3R"
   },
   "source": [
    "Реализуйте функцию ранжирования кандидатов на основе косинусного расстояния. Функция должна по списку кандидатов вернуть отсортированный список пар (позиция в исходном списке кандидатов, кандидат). При этом позиция кандидата в полученном списке является его рейтингом (первый - лучший). Например, если исходный список кандидатов был [a, b, c], и самый похожий на исходный вопрос среди них - c, затем a, и в конце b, то функция должна вернуть список **[(2, c), (0, a), (1, b)]**."
   ]
  },
  {
   "cell_type": "code",
   "metadata": {
    "id": "K02JARKr6j3T"
   },
   "source": [
    "from sklearn.metrics.pairwise import cosine_similarity\n",
    "from copy import deepcopy"
   ],
   "execution_count": null,
   "outputs": []
  },
  {
   "cell_type": "code",
   "metadata": {
    "id": "1yP8wJWj6j3X"
   },
   "source": [
    "def rank_candidates(question, candidates, embeddings, tokenizer, dim=200):\n",
    "    \"\"\"\n",
    "        question: строка\n",
    "        candidates: массив строк(кандидатов) [a, b, c]\n",
    "        result: пары (начальная позиция, кандидат) [(2, c), (0, a), (1, b)]\n",
    "    \"\"\"\n",
    "    '''your code'''"
   ],
   "execution_count": null,
   "outputs": []
  },
  {
   "cell_type": "markdown",
   "metadata": {
    "id": "TnBszTb76j3c"
   },
   "source": [
    "Протестируйте работу функции на примерах ниже. Пусть $N=2$, то есть два эксперимента"
   ]
  },
  {
   "cell_type": "code",
   "metadata": {
    "id": "xvQgtP176j3h"
   },
   "source": [
    "questions = ['converting string to list', 'Sending array via Ajax fails'] \n",
    "\n",
    "candidates = [['Convert Google results object (pure js) to Python object', # первый эксперимент\n",
    "               'C# create cookie from string and send it',\n",
    "               'How to use jQuery AJAX for an outside domain?'],\n",
    "              \n",
    "              ['Getting all list items of an unordered list in PHP',      # второй эксперимент\n",
    "               'WPF- How to update the changes in list item of a list',\n",
    "               'select2 not displaying search results']]"
   ],
   "execution_count": null,
   "outputs": []
  },
  {
   "cell_type": "code",
   "metadata": {
    "id": "bPj1JGFi6j3m"
   },
   "source": [
    "for question, q_candidates in zip(questions, candidates):\n",
    "        ranks = rank_candidates(question, q_candidates, wv_embeddings, tokenizer)\n",
    "        print(ranks)\n",
    "        print()"
   ],
   "execution_count": null,
   "outputs": []
  },
  {
   "cell_type": "markdown",
   "metadata": {
    "id": "jm4cidj56j3q"
   },
   "source": [
    "Для первого экперимента вы можете полностью сравнить ваши ответы и правильные ответы. Но для второго эксперимента два ответа на кандидаты будут <b>скрыты</b>(*)"
   ]
  },
  {
   "cell_type": "code",
   "metadata": {
    "id": "0LeKMIsn6j3s"
   },
   "source": [
    "# должно вывести\n",
    "results = [[(1, 'C# create cookie from string and send it'),\n",
    "            (0, 'Convert Google results object (pure js) to Python object'),\n",
    "            (2, 'How to use jQuery AJAX for an outside domain?')],\n",
    "           [(*, 'Getting all list items of an unordered list in PHP'), #скрыт\n",
    "            (*, 'select2 not displaying search results'), #скрыт\n",
    "            (*, 'WPF- How to update the changes in list item of a list')]] #скрыт"
   ],
   "execution_count": null,
   "outputs": []
  },
  {
   "cell_type": "markdown",
   "metadata": {
    "id": "t1ttnIBe6j3x"
   },
   "source": [
    "Последовательность начальных индексов вы должны получить `для эксперимента 1`  1, 0, 2."
   ]
  },
  {
   "cell_type": "markdown",
   "metadata": {
    "id": "5WQgYDWd6j3y"
   },
   "source": [
    "#### Вопрос 5:\n",
    "* Какую последовательность начальных индексов вы получили `для эксперимента 2`(перечисление без запятой и пробелов, например, `102` для первого эксперимента?"
   ]
  },
  {
   "cell_type": "markdown",
   "metadata": {
    "id": "fPllOY-Y6j30"
   },
   "source": [
    "Теперь мы можем оценить качество нашего метода. Запустите следующие два блока кода для получения результата. Обратите внимание, что вычисление расстояния между векторами занимает некоторое время (примерно 10 минут). Можете взять для validation 1000 примеров."
   ]
  },
  {
   "cell_type": "code",
   "metadata": {
    "id": "Z3q9sxddz-yU"
   },
   "source": [
    "from tqdm.notebook import tqdm"
   ],
   "execution_count": null,
   "outputs": []
  },
  {
   "cell_type": "code",
   "metadata": {
    "id": "nu7K4mis6j32"
   },
   "source": [
    "wv_ranking = []\n",
    "max_validation_examples = 1000\n",
    "for i, line in enumerate(tqdm(validation_data)):\n",
    "    if i == max_validation_examples:\n",
    "        break\n",
    "    q, *ex = line\n",
    "    ranks = rank_candidates(q, ex, wv_embeddings, tokenizer)\n",
    "    wv_ranking.append([r[0] for r in ranks].index('0') + 1)"
   ],
   "execution_count": null,
   "outputs": []
  },
  {
   "cell_type": "code",
   "metadata": {
    "scrolled": true,
    "id": "gDtS520v6j35"
   },
   "source": [
    "for k in tqdm([1, 5, 10, 100, 500, 1000]):\n",
    "    print(\"DCG@%4d: %.3f | Hits@%4d: %.3f\" % (k, dcg_score(wv_ranking, k), k, hits_count(wv_ranking, k)))"
   ],
   "execution_count": null,
   "outputs": []
  },
  {
   "cell_type": "markdown",
   "metadata": {
    "id": "LL6_Rjg3InL8"
   },
   "source": [
    "### Эмбеддинги, обученные на корпусе похожих вопросов"
   ]
  },
  {
   "cell_type": "code",
   "metadata": {
    "id": "iNvbpR5gJIPz"
   },
   "source": [
    "train_data = read_corpus('./data/train.tsv')"
   ],
   "execution_count": null,
   "outputs": []
  },
  {
   "cell_type": "markdown",
   "metadata": {
    "id": "Nr281ZyEJfjT"
   },
   "source": [
    "Улучшите качество модели.<br>Склеим вопросы в пары и обучим на них модель Word2Vec из gensim. Выберите размер window. Объясните свой выбор."
   ]
  },
  {
   "cell_type": "code",
   "metadata": {
    "id": "f6Y46SSQMTL0"
   },
   "source": [
    "'''your code'''"
   ],
   "execution_count": null,
   "outputs": []
  },
  {
   "cell_type": "code",
   "metadata": {
    "id": "QuJzAM0cI-UH"
   },
   "source": [
    "from gensim.models import Word2Vec\n",
    "embeddings_trained = Word2Vec(words, # data for model to train on\n",
    "                 size=200,                 # embedding vector size\n",
    "                 min_count='''your code''',             # consider words that occured at least 5 times\n",
    "                 window='''your code''').wv"
   ],
   "execution_count": null,
   "outputs": []
  },
  {
   "cell_type": "code",
   "metadata": {
    "id": "OQonbm4nMenD"
   },
   "source": [
    "wv_ranking = []\n",
    "max_validation_examples = 1000\n",
    "for i, line in enumerate(tqdm(validation_data)):\n",
    "    if i == max_validation_examples:\n",
    "        break\n",
    "    q, *ex = line\n",
    "    ranks = rank_candidates(q, ex, embeddings_trained, tokenizer)\n",
    "    wv_ranking.append([r[0] for r in ranks].index('0') + 1)"
   ],
   "execution_count": null,
   "outputs": []
  },
  {
   "cell_type": "code",
   "metadata": {
    "id": "3kahBUPGMgGR"
   },
   "source": [
    "for k in tqdm([1, 5, 10, 100, 500, 1000]):\n",
    "    print(\"DCG@%4d: %.3f | Hits@%4d: %.3f\" % (k, dcg_score(wv_ranking, k), k, hits_count(wv_ranking, k)))"
   ],
   "execution_count": null,
   "outputs": []
  },
  {
   "cell_type": "markdown",
   "metadata": {
    "id": "tY8PxB0j-ThG"
   },
   "source": [
    "### Замечание:\n",
    "Решить эту задачу с помощью обучения полноценной нейронной сети будет вам предложено, как часть задания в одной из домашних работ по теме \"Диалоговые системы\"."
   ]
  },
  {
   "cell_type": "markdown",
   "metadata": {
    "id": "vymVj8IxO2PO"
   },
   "source": [
    "Напишите свой вывод о полученных результатах.\n",
    "* Какой принцип токенизации даёт качество лучше и почему?\n",
    "* Помогает ли нормализация слов?\n",
    "* Какие эмбеддинги лучше справляются с задачей и почему?\n",
    "* Почему получилось плохое качество решения задачи?\n",
    "* Предложите свой подход к решению задачи.\n",
    "\n",
    "## Вывод:\n"
   ]
  },
  {
   "cell_type": "markdown",
   "metadata": {
    "id": "emODHztAQUQz"
   },
   "source": [
    ""
   ]
  }
 ]
}
