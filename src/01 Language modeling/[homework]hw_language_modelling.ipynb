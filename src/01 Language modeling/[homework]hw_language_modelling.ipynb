{
 "cells": [
  {
   "cell_type": "markdown",
   "metadata": {
    "id": "d0ADTojbpfLt"
   },
   "source": [
    "<p style=\"align: center;\"><img src=\"https://static.tildacdn.com/tild6636-3531-4239-b465-376364646465/Deep_Learning_School.png\" width=\"400\"></p>\n",
    "\n",
    "# Домашнее задание. Обучение языковой модели с помощью LSTM (10 баллов)"
   ]
  },
  {
   "cell_type": "markdown",
   "metadata": {
    "id": "ldHSmYY6p_mZ"
   },
   "source": [
    "\n",
    "В этом задании Вам предстоит обучить языковую модель с помощью рекуррентной нейронной сети. В отличие от семинарского занятия, Вам необходимо будет работать с отдельными словами, а не буквами.\n",
    "\n",
    "\n",
    "Установим модуль ```datasets```, чтобы нам проще было работать с данными."
   ]
  },
  {
   "cell_type": "code",
   "metadata": {
    "id": "3yvNdv6cp_0P",
    "ExecuteTime": {
     "end_time": "2025-03-20T10:16:01.894879Z",
     "start_time": "2025-03-20T10:16:01.891768Z"
    }
   },
   "source": "#!pip install datasets",
   "outputs": [],
   "execution_count": 1
  },
  {
   "cell_type": "markdown",
   "metadata": {
    "id": "rh9ZXSeCpng9"
   },
   "source": [
    "Импорт необходимых библиотек"
   ]
  },
  {
   "cell_type": "code",
   "metadata": {
    "id": "XOJi16bLpd_O",
    "ExecuteTime": {
     "end_time": "2025-03-20T10:17:12.990293Z",
     "start_time": "2025-03-20T10:17:12.986115Z"
    }
   },
   "source": [
    "import torch\n",
    "import torch.nn as nn\n",
    "from numpy.ma.extras import unique\n",
    "from torch.utils.data import Dataset, DataLoader\n",
    "\n",
    "import numpy as np\n",
    "import matplotlib.pyplot as plt\n",
    "\n",
    "from tqdm import tqdm\n",
    "from datasets import load_dataset\n",
    "from nltk.tokenize import sent_tokenize, word_tokenize\n",
    "from sklearn.model_selection import train_test_split\n",
    "import nltk\n",
    "\n",
    "from collections import Counter\n",
    "from typing import List\n",
    "\n",
    "import seaborn\n",
    "seaborn.set(palette='summer')"
   ],
   "outputs": [],
   "execution_count": 17
  },
  {
   "cell_type": "code",
   "metadata": {
    "id": "91JuM0SQvXud",
    "ExecuteTime": {
     "end_time": "2025-03-20T10:16:05.317002Z",
     "start_time": "2025-03-20T10:16:05.068872Z"
    }
   },
   "source": [
    "nltk.download('punkt')"
   ],
   "outputs": [
    {
     "name": "stderr",
     "output_type": "stream",
     "text": [
      "[nltk_data] Downloading package punkt to\n",
      "[nltk_data]     C:\\Users\\tende\\AppData\\Roaming\\nltk_data...\n",
      "[nltk_data]   Package punkt is already up-to-date!\n"
     ]
    },
    {
     "data": {
      "text/plain": [
       "True"
      ]
     },
     "execution_count": 3,
     "metadata": {},
     "output_type": "execute_result"
    }
   ],
   "execution_count": 3
  },
  {
   "cell_type": "code",
   "metadata": {
    "id": "adJC8ShFq9HM",
    "ExecuteTime": {
     "end_time": "2025-03-20T10:16:05.437950Z",
     "start_time": "2025-03-20T10:16:05.375304Z"
    }
   },
   "source": [
    "device = 'cuda' if torch.cuda.is_available() else 'cpu'\n",
    "device"
   ],
   "outputs": [
    {
     "data": {
      "text/plain": [
       "'cuda'"
      ]
     },
     "execution_count": 4,
     "metadata": {},
     "output_type": "execute_result"
    }
   ],
   "execution_count": 4
  },
  {
   "cell_type": "markdown",
   "metadata": {
    "id": "pwsfS1ENq5ig"
   },
   "source": [
    "## Подготовка данных\n",
    "\n",
    "Воспользуемся датасетом imdb. В нем хранятся отзывы о фильмах с сайта imdb. Загрузим данные с помощью функции ```load_dataset```"
   ]
  },
  {
   "cell_type": "code",
   "metadata": {
    "id": "qHLNWOfJqSfc",
    "ExecuteTime": {
     "end_time": "2025-03-20T10:16:46.479579Z",
     "start_time": "2025-03-20T10:16:05.489461Z"
    }
   },
   "source": [
    "# Загрузим датасет\n",
    "dataset = load_dataset('imdb')\n",
    "dataset"
   ],
   "outputs": [
    {
     "data": {
      "text/plain": [
       "DatasetDict({\n",
       "    train: Dataset({\n",
       "        features: ['text', 'label'],\n",
       "        num_rows: 25000\n",
       "    })\n",
       "    test: Dataset({\n",
       "        features: ['text', 'label'],\n",
       "        num_rows: 25000\n",
       "    })\n",
       "    unsupervised: Dataset({\n",
       "        features: ['text', 'label'],\n",
       "        num_rows: 50000\n",
       "    })\n",
       "})"
      ]
     },
     "execution_count": 5,
     "metadata": {},
     "output_type": "execute_result"
    }
   ],
   "execution_count": 5
  },
  {
   "cell_type": "markdown",
   "metadata": {
    "id": "24gn7CuZ9agP"
   },
   "source": [
    "### Препроцессинг данных и создание словаря (1 балл)\n",
    "\n",
    "Далее вам необходмо самостоятельно произвести препроцессинг данных и получить словарь или же просто ```set``` строк. Что необходимо сделать:\n",
    "\n",
    "1. Разделить отдельные тренировочные примеры на отдельные предложения с помощью функции ```sent_tokenize``` из бибилиотеки ```nltk```. Каждое отдельное предложение будет одним тренировочным примером.\n",
    "2. Оставить только те предложения, в которых меньше ```word_threshold``` слов.\n",
    "3. Посчитать частоту вхождения каждого слова в оставшихся предложениях. Для деления предлоения на отдельные слова удобно использовать функцию ```word_tokenize```.\n",
    "4. Создать объект ```vocab``` класса ```set```, положить в него служебные токены '\\<unk\\>', '\\<bos\\>', '\\<eos\\>', '\\<pad\\>' и vocab_size самых частовстречающихся слов.   "
   ]
  },
  {
   "metadata": {
    "ExecuteTime": {
     "end_time": "2025-03-20T10:16:46.598489Z",
     "start_time": "2025-03-20T10:16:46.513567Z"
    }
   },
   "cell_type": "code",
   "source": "[word for word in sent_tokenize(dataset['train']['text'][0], 'english')] # лучше даже использовать данные unsupervised, так как мы в этом нотбуке не используем test данные вообще",
   "outputs": [
    {
     "data": {
      "text/plain": [
       "['I rented I AM CURIOUS-YELLOW from my video store because of all the controversy that surrounded it when it was first released in 1967.',\n",
       " 'I also heard that at first it was seized by U.S. customs if it ever tried to enter this country, therefore being a fan of films considered \"controversial\" I really had to see this for myself.<br /><br />The plot is centered around a young Swedish drama student named Lena who wants to learn everything she can about life.',\n",
       " 'In particular she wants to focus her attentions to making some sort of documentary on what the average Swede thought about certain political issues such as the Vietnam War and race issues in the United States.',\n",
       " 'In between asking politicians and ordinary denizens of Stockholm about their opinions on politics, she has sex with her drama teacher, classmates, and married men.<br /><br />What kills me about I AM CURIOUS-YELLOW is that 40 years ago, this was considered pornographic.',\n",
       " \"Really, the sex and nudity scenes are few and far between, even then it's not shot like some cheaply made porno.\",\n",
       " 'While my countrymen mind find it shocking, in reality sex and nudity are a major staple in Swedish cinema.',\n",
       " 'Even Ingmar Bergman, arguably their answer to good old boy John Ford, had sex scenes in his films.<br /><br />I do commend the filmmakers for the fact that any sex shown in the film is shown for artistic purposes rather than just to shock people and make money to be shown in pornographic theaters in America.',\n",
       " 'I AM CURIOUS-YELLOW is a good film for anyone wanting to study the meat and potatoes (no pun intended) of Swedish cinema.',\n",
       " \"But really, this film doesn't have much of a plot.\"]"
      ]
     },
     "execution_count": 6,
     "metadata": {},
     "output_type": "execute_result"
    }
   ],
   "execution_count": 6
  },
  {
   "metadata": {
    "ExecuteTime": {
     "end_time": "2025-03-20T10:16:46.633754Z",
     "start_time": "2025-03-20T10:16:46.628737Z"
    }
   },
   "cell_type": "code",
   "source": "dataset['train'][0]",
   "outputs": [
    {
     "data": {
      "text/plain": [
       "{'text': 'I rented I AM CURIOUS-YELLOW from my video store because of all the controversy that surrounded it when it was first released in 1967. I also heard that at first it was seized by U.S. customs if it ever tried to enter this country, therefore being a fan of films considered \"controversial\" I really had to see this for myself.<br /><br />The plot is centered around a young Swedish drama student named Lena who wants to learn everything she can about life. In particular she wants to focus her attentions to making some sort of documentary on what the average Swede thought about certain political issues such as the Vietnam War and race issues in the United States. In between asking politicians and ordinary denizens of Stockholm about their opinions on politics, she has sex with her drama teacher, classmates, and married men.<br /><br />What kills me about I AM CURIOUS-YELLOW is that 40 years ago, this was considered pornographic. Really, the sex and nudity scenes are few and far between, even then it\\'s not shot like some cheaply made porno. While my countrymen mind find it shocking, in reality sex and nudity are a major staple in Swedish cinema. Even Ingmar Bergman, arguably their answer to good old boy John Ford, had sex scenes in his films.<br /><br />I do commend the filmmakers for the fact that any sex shown in the film is shown for artistic purposes rather than just to shock people and make money to be shown in pornographic theaters in America. I AM CURIOUS-YELLOW is a good film for anyone wanting to study the meat and potatoes (no pun intended) of Swedish cinema. But really, this film doesn\\'t have much of a plot.',\n",
       " 'label': 0}"
      ]
     },
     "execution_count": 7,
     "metadata": {},
     "output_type": "execute_result"
    }
   ],
   "execution_count": 7
  },
  {
   "cell_type": "code",
   "metadata": {
    "id": "Ins2tVCdsS47",
    "ExecuteTime": {
     "end_time": "2025-03-20T10:17:37.907883Z",
     "start_time": "2025-03-20T10:17:13.093473Z"
    }
   },
   "source": [
    "import re\n",
    "\n",
    "sentences = []\n",
    "word_threshold = 32\n",
    "\n",
    "# Получить отдельные предложения и поместить их в sentences\n",
    "for review in tqdm(dataset['train']['text']):\n",
    "    # sentences.extend([re.sub(r'[^\\w\\s]', '', proposal).lower() for proposal in sent_tokenize(review, 'english') if len(proposal) < word_threshold]) # убираем пунктуацию\n",
    "    for proposal in sent_tokenize(review, 'english'):\n",
    "        proposal = word_tokenize(proposal.lower(), 'english')\n",
    "        if len(proposal) < word_threshold:\n",
    "            sentences.extend([proposal])"
   ],
   "outputs": [
    {
     "name": "stderr",
     "output_type": "stream",
     "text": [
      "100%|██████████| 25000/25000 [00:24<00:00, 1011.51it/s]\n"
     ]
    }
   ],
   "execution_count": 18
  },
  {
   "cell_type": "code",
   "metadata": {
    "id": "bxeBxP3J1Rj3",
    "ExecuteTime": {
     "end_time": "2025-03-20T10:17:38.011095Z",
     "start_time": "2025-03-20T10:17:38.008201Z"
    }
   },
   "source": [
    "print(\"Всего предложений:\", len(sentences))"
   ],
   "outputs": [
    {
     "name": "stdout",
     "output_type": "stream",
     "text": [
      "Всего предложений: 198801\n"
     ]
    }
   ],
   "execution_count": 19
  },
  {
   "metadata": {
    "ExecuteTime": {
     "end_time": "2025-03-20T10:18:05.239783Z",
     "start_time": "2025-03-20T10:18:05.234784Z"
    }
   },
   "cell_type": "code",
   "source": "sentences[0]",
   "outputs": [
    {
     "data": {
      "text/plain": [
       "['i',\n",
       " 'rented',\n",
       " 'i',\n",
       " 'am',\n",
       " 'curious-yellow',\n",
       " 'from',\n",
       " 'my',\n",
       " 'video',\n",
       " 'store',\n",
       " 'because',\n",
       " 'of',\n",
       " 'all',\n",
       " 'the',\n",
       " 'controversy',\n",
       " 'that',\n",
       " 'surrounded',\n",
       " 'it',\n",
       " 'when',\n",
       " 'it',\n",
       " 'was',\n",
       " 'first',\n",
       " 'released',\n",
       " 'in',\n",
       " '1967',\n",
       " '.']"
      ]
     },
     "execution_count": 20,
     "metadata": {},
     "output_type": "execute_result"
    }
   ],
   "execution_count": 20
  },
  {
   "cell_type": "markdown",
   "metadata": {
    "id": "iT82XkT6ULA_"
   },
   "source": [
    "Посчитаем для каждого слова его встречаемость."
   ]
  },
  {
   "cell_type": "code",
   "metadata": {
    "id": "nEvCN0Y1w1yH",
    "ExecuteTime": {
     "end_time": "2025-03-20T10:18:07.145679Z",
     "start_time": "2025-03-20T10:18:06.626063Z"
    }
   },
   "source": [
    "words = []\n",
    "\n",
    "# Расчет встречаемости слов\n",
    "for proposal in sentences:\n",
    "    words.extend(proposal)\n",
    "\n",
    "words = Counter(words)\n",
    "words.most_common(10)"
   ],
   "outputs": [
    {
     "data": {
      "text/plain": [
       "[('.', 170189),\n",
       " ('the', 151288),\n",
       " (',', 114121),\n",
       " ('a', 75273),\n",
       " ('and', 73159),\n",
       " ('of', 62796),\n",
       " ('to', 60494),\n",
       " ('is', 57468),\n",
       " ('it', 51862),\n",
       " ('i', 48989)]"
      ]
     },
     "execution_count": 21,
     "metadata": {},
     "output_type": "execute_result"
    }
   ],
   "execution_count": 21
  },
  {
   "metadata": {
    "ExecuteTime": {
     "end_time": "2025-03-20T10:18:07.965279Z",
     "start_time": "2025-03-20T10:18:07.961805Z"
    }
   },
   "cell_type": "code",
   "source": "len(words)",
   "outputs": [
    {
     "data": {
      "text/plain": [
       "68415"
      ]
     },
     "execution_count": 22,
     "metadata": {},
     "output_type": "execute_result"
    }
   ],
   "execution_count": 22
  },
  {
   "cell_type": "markdown",
   "metadata": {
    "id": "B4k4uSoHUSI0"
   },
   "source": [
    "Добавим в словарь ```vocab_size``` самых встречающихся слов."
   ]
  },
  {
   "cell_type": "code",
   "metadata": {
    "id": "oUBNwsK9xLIu",
    "ExecuteTime": {
     "end_time": "2025-03-20T10:18:09.944168Z",
     "start_time": "2025-03-20T10:18:09.881938Z"
    }
   },
   "source": [
    "vocab = {'<unk>', '<bos>', '<eos>', '<pad>'}\n",
    "vocab_size = 40000\n",
    "most_common = [x[0] for x in words.most_common(vocab_size)] # генератор содержащий топ vocab_size слов\n",
    "\n",
    "# Наполнение множества\n",
    "vocab = vocab.union(most_common)\n",
    "print(type(vocab))\n",
    "list(vocab)[:5]"
   ],
   "outputs": [
    {
     "name": "stdout",
     "output_type": "stream",
     "text": [
      "<class 'set'>\n"
     ]
    },
    {
     "data": {
      "text/plain": [
       "['maneuvered', 'winona', 'human-like', 'hark', 'contribute']"
      ]
     },
     "execution_count": 23,
     "metadata": {},
     "output_type": "execute_result"
    }
   ],
   "execution_count": 23
  },
  {
   "cell_type": "code",
   "source": [
    "assert '<unk>' in vocab\n",
    "assert '<bos>' in vocab\n",
    "assert '<eos>' in vocab\n",
    "assert '<pad>' in vocab\n",
    "assert len(vocab) == vocab_size + 4"
   ],
   "metadata": {
    "id": "ieT0DFUpXnV2",
    "ExecuteTime": {
     "end_time": "2025-03-20T10:18:10.705466Z",
     "start_time": "2025-03-20T10:18:10.701920Z"
    }
   },
   "outputs": [],
   "execution_count": 24
  },
  {
   "cell_type": "code",
   "metadata": {
    "id": "JhACW2CQyck5",
    "ExecuteTime": {
     "end_time": "2025-03-20T10:18:11.148757Z",
     "start_time": "2025-03-20T10:18:11.144758Z"
    }
   },
   "source": [
    "print(\"Всего слов в словаре:\", len(vocab))"
   ],
   "outputs": [
    {
     "name": "stdout",
     "output_type": "stream",
     "text": [
      "Всего слов в словаре: 40004\n"
     ]
    }
   ],
   "execution_count": 25
  },
  {
   "cell_type": "markdown",
   "metadata": {
    "id": "UmeRYKSIUcdE"
   },
   "source": [
    "### Подготовка датасета (1 балл)\n",
    "\n",
    "Далее, как и в семинарском занятии, подготовим датасеты и даталоадеры.\n",
    "\n",
    "В классе ```WordDataset``` вам необходимо реализовать метод ```__getitem__```, который будет возвращать сэмпл данных по входному idx, то есть список целых чисел (индексов слов).\n",
    "\n",
    "Внутри этого метода необходимо добавить служебные токены начала и конца последовательности, а также токенизировать соответствующее предложение с помощью ```word_tokenize``` и сопоставить ему индексы из ```word2ind```."
   ]
  },
  {
   "cell_type": "code",
   "metadata": {
    "id": "iD7SmSy3v2dl",
    "ExecuteTime": {
     "end_time": "2025-03-20T10:18:12.207442Z",
     "start_time": "2025-03-20T10:18:12.178887Z"
    }
   },
   "source": [
    "word2ind = {word: i for i, word in enumerate(vocab)}\n",
    "ind2word = {i: word for word, i in word2ind.items()}"
   ],
   "outputs": [],
   "execution_count": 26
  },
  {
   "cell_type": "code",
   "metadata": {
    "id": "FVzXL17PzC7K",
    "ExecuteTime": {
     "end_time": "2025-03-20T10:18:12.984111Z",
     "start_time": "2025-03-20T10:18:12.979472Z"
    }
   },
   "source": [
    "class WordDataset:\n",
    "    def __init__(self, sentences): # dataset['test']\n",
    "        self.data = sentences\n",
    "        self.unk_id = word2ind['<unk>']\n",
    "        self.bos_id = word2ind['<bos>']\n",
    "        self.eos_id = word2ind['<eos>']\n",
    "        self.pad_id = word2ind['<pad>']\n",
    "\n",
    "    def __getitem__(self, idx: int) -> List[int]:\n",
    "        tokenized_sentence = []\n",
    "        \n",
    "        # Допишите код здесь\n",
    "        tokenized_sentence += [self.bos_id]\n",
    "        tokenized_sentence += [\n",
    "            word2ind.get(word, self.unk_id) for word in self.data[idx] # я уже заранее каждое предложение токенизировал, не знаю насколько это правильно с точки зрения общей концепции, но на данных sentences - ок\n",
    "        ]\n",
    "        tokenized_sentence += [self.eos_id]\n",
    "\n",
    "        return tokenized_sentence\n",
    "\n",
    "    def __len__(self) -> int:\n",
    "        return len(self.data)"
   ],
   "outputs": [],
   "execution_count": 27
  },
  {
   "cell_type": "code",
   "metadata": {
    "id": "I6CtYNMp2_g0",
    "ExecuteTime": {
     "end_time": "2025-03-20T10:18:13.664611Z",
     "start_time": "2025-03-20T10:18:13.660425Z"
    }
   },
   "source": [
    "from torch.nn.utils.rnn import pad_sequence\n",
    "\n",
    "def collate_fn_with_padding(\n",
    "    input_batch: List[List[int]], pad_id=word2ind['<pad>']) -> torch.Tensor:\n",
    "    \n",
    "    sequences = [torch.tensor(seq, dtype=torch.long) for seq in input_batch]\n",
    "    padded_sequences = pad_sequence(sequences, batch_first=True, padding_value=pad_id).to(device)\n",
    "    \n",
    "    #print(\"max_seq_len:\", padded_sequences.shape[1])\n",
    "\n",
    "    new_batch = { # [Я, пошёл, в, магазин, .]\n",
    "        'input_ids': padded_sequences[:,:-1], # [Я, пошёл, в, магазин]\n",
    "        'target_ids': padded_sequences[:,1:]  # [пошёл, в, магазин, .]\n",
    "    }\n",
    "\n",
    "    return new_batch"
   ],
   "outputs": [],
   "execution_count": 28
  },
  {
   "cell_type": "code",
   "metadata": {
    "id": "6xmeK9Ys1BIG",
    "ExecuteTime": {
     "end_time": "2025-03-20T10:18:15.190809Z",
     "start_time": "2025-03-20T10:18:15.100300Z"
    }
   },
   "source": [
    "train_sentences, eval_sentences = train_test_split(sentences, test_size=0.2)\n",
    "eval_sentences, test_sentences = train_test_split(sentences, test_size=0.5)\n",
    "\n",
    "train_dataset = WordDataset(train_sentences)\n",
    "eval_dataset = WordDataset(eval_sentences)\n",
    "test_dataset = WordDataset(test_sentences)\n",
    "\n",
    "batch_size = 128\n",
    "\n",
    "train_dataloader = DataLoader(\n",
    "    train_dataset, collate_fn=collate_fn_with_padding, batch_size=batch_size, drop_last=True) # Добавил drop_last=True\n",
    "\n",
    "eval_dataloader = DataLoader(\n",
    "    eval_dataset, collate_fn=collate_fn_with_padding, batch_size=batch_size, drop_last=True)\n",
    "\n",
    "test_dataloader = DataLoader(\n",
    "    test_dataset, collate_fn=collate_fn_with_padding, batch_size=batch_size, drop_last=True)"
   ],
   "outputs": [],
   "execution_count": 29
  },
  {
   "metadata": {
    "ExecuteTime": {
     "end_time": "2025-03-20T10:18:16.227278Z",
     "start_time": "2025-03-20T10:18:16.222735Z"
    }
   },
   "cell_type": "code",
   "source": "[ind2word[word] for word in eval_dataset[0]]",
   "outputs": [
    {
     "data": {
      "text/plain": [
       "['<bos>',\n",
       " 'i',\n",
       " 'also',\n",
       " 'thought',\n",
       " 'that',\n",
       " 'keene',\n",
       " 'curtis',\n",
       " 'was',\n",
       " 'wonderful',\n",
       " 'as',\n",
       " 'eisenhower',\n",
       " '.',\n",
       " '<eos>']"
      ]
     },
     "execution_count": 30,
     "metadata": {},
     "output_type": "execute_result"
    }
   ],
   "execution_count": 30
  },
  {
   "cell_type": "markdown",
   "metadata": {
    "id": "SMAexY7Y45E4"
   },
   "source": [
    "## Обучение и архитектура модели\n",
    "\n",
    "Вам необходимо на практике проверить, что влияет на качество языковых моделей. В этом задании нужно провести серию экспериментов с различными вариантами языковых моделей и сравнить различия в конечной перплексии на тестовом множестве.\n",
    "\n",
    "Возмоэные идеи для экспериментов:\n",
    "\n",
    "* Различные RNN-блоки, например, LSTM или GRU. Также можно добавить сразу несколько RNN блоков друг над другом с помощью аргумента num_layers. Вам поможет официальная документация [здесь](https://pytorch.org/docs/stable/generated/torch.nn.LSTM.html)\n",
    "* Различные размеры скрытого состояния. Различное количество линейных слоев после RNN-блока. Различные функции активации.\n",
    "* Добавление нормализаций в виде Dropout, BatchNorm или LayerNorm\n",
    "* Различные аргументы для оптимизации, например, подбор оптимального learning rate или тип алгоритма оптимизации SGD, Adam, RMSProp и другие\n",
    "* Любые другие идеи и подходы\n",
    "\n",
    "После проведения экспериментов необходимо составить таблицу результатов, в которой описан каждый эксперимент и посчитана перплексия на тестовом множестве.\n",
    "\n",
    "Учтите, что эксперименты, которые различаются, например, только размером скрытого состояния или количеством линейных слоев считаются, как один эксперимент.\n",
    "\n",
    "Успехов!"
   ]
  },
  {
   "cell_type": "markdown",
   "source": [
    "### Функция evaluate (1 балл)\n",
    "\n",
    "Заполните функцию ```evaluate```"
   ],
   "metadata": {
    "id": "KP1cO-3bmDv9"
   }
  },
  {
   "cell_type": "code",
   "source": [
    "def evaluate(model, criterion) -> float:\n",
    "    model.eval()\n",
    "    perplexity = []\n",
    "    with torch.no_grad():\n",
    "        for batch in eval_dataloader:\n",
    "            logits = model(batch['input_ids']).flatten(start_dim=0, end_dim=1)\n",
    "            loss = criterion(logits, batch['target_ids'].flatten())\n",
    "            perplexity.append(torch.exp(loss).item())\n",
    "\n",
    "    perplexity = sum(perplexity) / len(perplexity)\n",
    "\n",
    "    return perplexity"
   ],
   "metadata": {
    "id": "XUlMUVJ3mL4r",
    "ExecuteTime": {
     "end_time": "2025-03-20T10:18:18.262114Z",
     "start_time": "2025-03-20T10:18:18.257652Z"
    }
   },
   "outputs": [],
   "execution_count": 31
  },
  {
   "metadata": {
    "ExecuteTime": {
     "end_time": "2025-03-20T10:18:20.577793Z",
     "start_time": "2025-03-20T10:18:18.883662Z"
    }
   },
   "cell_type": "code",
   "source": [
    "with torch.no_grad():\n",
    "    for batch in eval_dataloader:\n",
    "        pass\n",
    "        #print(batch['input_ids'].shape, batch['target_ids'].shape)\n"
   ],
   "outputs": [],
   "execution_count": 32
  },
  {
   "cell_type": "markdown",
   "metadata": {
    "id": "bLV63Vsk7loy"
   },
   "source": [
    "### Train loop (1 балл)\n",
    "\n",
    "Напишите функцию для обучения модели."
   ]
  },
  {
   "cell_type": "code",
   "source": [
    "def train_model(model, criterion, optimizer, dataloader, num_epoch=10):\n",
    "    losses = []\n",
    "    perplexities = []\n",
    "    \n",
    "    for epoch in range(num_epoch):\n",
    "        epoch_losses = []\n",
    "        model.train()\n",
    "        for batch in tqdm(dataloader, desc=f'Training epoch {epoch}'):\n",
    "            optimizer.zero_grad()\n",
    "            logits = model(batch['input_ids']).flatten(start_dim=0, end_dim=1)\n",
    "            loss = criterion(logits, batch['target_ids'].flatten())\n",
    "            loss.backward()\n",
    "            optimizer.step()\n",
    "            \n",
    "            epoch_losses.append(loss.item())\n",
    "        \n",
    "        losses.append(sum(epoch_losses) / len(epoch_losses))\n",
    "        perplexities.append(evaluate(model, criterion))\n",
    "    \n",
    "    return losses, perplexities"
   ],
   "metadata": {
    "id": "bSZmUC3YmocP",
    "ExecuteTime": {
     "end_time": "2025-03-20T10:20:14.806451Z",
     "start_time": "2025-03-20T10:20:14.797921Z"
    }
   },
   "outputs": [],
   "execution_count": 37
  },
  {
   "cell_type": "markdown",
   "source": [
    "### Первый эксперимент (2 балла)\n",
    "\n",
    "Определите архитектуру модели и обучите её."
   ],
   "metadata": {
    "id": "hXmeyhBQmuq4"
   }
  },
  {
   "cell_type": "code",
   "source": [
    "class LanguageModel(nn.Module):\n",
    "    def __init__(self, hidden_dim: int, vocab_size: int):\n",
    "        super().__init__()\n",
    "        self.embeddings = nn.Embedding(vocab_size, hidden_dim)\n",
    "        self.rnn = nn.RNN(hidden_dim, hidden_dim, batch_first=True)\n",
    "        self.linear = nn.Linear(hidden_dim, hidden_dim)\n",
    "        self.dropout = nn.Dropout(p=0.3)\n",
    "        \n",
    "        self.activation = nn.Tanh()\n",
    "        \n",
    "        self.projection = nn.Linear(hidden_dim, vocab_size)\n",
    "\n",
    "    def forward(self, input_batch: torch.Tensor) -> torch.Tensor:\n",
    "        embeddings = self.embeddings(input_batch)\n",
    "        output, _ = self.rnn(embeddings)\n",
    "        output = self.activation(self.dropout(self.linear(output)))\n",
    "        projection = self.projection(output)\n",
    "\n",
    "        return projection"
   ],
   "metadata": {
    "id": "qaWvqNJom0ij",
    "ExecuteTime": {
     "end_time": "2025-03-20T10:20:16.531483Z",
     "start_time": "2025-03-20T10:20:16.526756Z"
    }
   },
   "outputs": [],
   "execution_count": 38
  },
  {
   "metadata": {
    "ExecuteTime": {
     "end_time": "2025-03-20T10:20:17.415068Z",
     "start_time": "2025-03-20T10:20:17.410068Z"
    }
   },
   "cell_type": "code",
   "source": "print(list(ind2word.keys()) == list(range(40004)))",
   "outputs": [
    {
     "name": "stdout",
     "output_type": "stream",
     "text": [
      "True\n"
     ]
    }
   ],
   "execution_count": 39
  },
  {
   "cell_type": "code",
   "source": [
    "# Обучите модель здесь\n",
    "\n",
    "model = LanguageModel(256, len(vocab)).to(device)\n",
    "criterion = nn.CrossEntropyLoss(ignore_index=word2ind['<pad>'])\n",
    "optimizer = torch.optim.Adam(model.parameters())\n",
    "\n",
    "losses, perplexities = train_model(model, criterion, optimizer, train_dataloader)"
   ],
   "metadata": {
    "id": "TxbEzn5fnBOY",
    "ExecuteTime": {
     "end_time": "2025-03-20T10:35:09.013556Z",
     "start_time": "2025-03-20T10:20:19.101285Z"
    }
   },
   "outputs": [
    {
     "name": "stderr",
     "output_type": "stream",
     "text": [
      "Training epoch 0:: 100%|██████████| 1242/1242 [01:14<00:00, 16.57it/s]\n",
      "Training epoch 1:: 100%|██████████| 1242/1242 [01:14<00:00, 16.66it/s]\n",
      "Training epoch 2:: 100%|██████████| 1242/1242 [01:15<00:00, 16.52it/s]\n",
      "Training epoch 3:: 100%|██████████| 1242/1242 [01:14<00:00, 16.64it/s]\n",
      "Training epoch 4:: 100%|██████████| 1242/1242 [01:14<00:00, 16.62it/s]\n",
      "Training epoch 5:: 100%|██████████| 1242/1242 [01:15<00:00, 16.55it/s]\n",
      "Training epoch 6:: 100%|██████████| 1242/1242 [01:13<00:00, 16.80it/s]\n",
      "Training epoch 7:: 100%|██████████| 1242/1242 [01:13<00:00, 16.79it/s]\n",
      "Training epoch 8:: 100%|██████████| 1242/1242 [01:13<00:00, 16.79it/s]\n",
      "Training epoch 9:: 100%|██████████| 1242/1242 [01:13<00:00, 16.79it/s]\n"
     ]
    }
   ],
   "execution_count": 40
  },
  {
   "metadata": {
    "ExecuteTime": {
     "end_time": "2025-03-20T10:47:58.199989Z",
     "start_time": "2025-03-20T10:47:58.067290Z"
    }
   },
   "cell_type": "code",
   "source": [
    "plt.plot(np.arange(len(losses)), losses)\n",
    "plt.title('Losses')\n",
    "plt.xlabel(\"epoch\")\n",
    "plt.show()"
   ],
   "outputs": [
    {
     "data": {
      "text/plain": [
       "<Figure size 640x480 with 1 Axes>"
      ],
      "image/png": "[encoded data removed]"
     },
     "metadata": {},
     "output_type": "display_data"
    }
   ],
   "execution_count": 41
  },
  {
   "metadata": {
    "ExecuteTime": {
     "end_time": "2025-03-20T10:47:58.648472Z",
     "start_time": "2025-03-20T10:47:58.577990Z"
    }
   },
   "cell_type": "code",
   "source": [
    "plt.plot(np.arange(len(perplexities)), perplexities)\n",
    "plt.title('Perplexity')\n",
    "plt.xlabel(\"epoch\")\n",
    "plt.show()"
   ],
   "outputs": [
    {
     "data": {
      "text/plain": [
       "<Figure size 640x480 with 1 Axes>"
      ],
      "image/png": "[encoded data removed]"
     },
     "metadata": {},
     "output_type": "display_data"
    }
   ],
   "execution_count": 42
  },
  {
   "metadata": {
    "ExecuteTime": {
     "end_time": "2025-03-20T10:48:37.649954Z",
     "start_time": "2025-03-20T10:48:37.645423Z"
    }
   },
   "cell_type": "code",
   "source": "perplexities[-1]",
   "outputs": [
    {
     "data": {
      "text/plain": [
       "86.84599985535611"
      ]
     },
     "execution_count": 44,
     "metadata": {},
     "output_type": "execute_result"
    }
   ],
   "execution_count": 44
  },
  {
   "cell_type": "markdown",
   "source": [
    "### Второй эксперимент (2 балла)\n",
    "\n",
    "Попробуйте что-то поменять в модели или в пайплайне обучения, идеи для экспериментов можно подсмотреть выше."
   ],
   "metadata": {
    "id": "X1EW4faIm0tl"
   }
  },
  {
   "cell_type": "code",
   "execution_count": null,
   "metadata": {
    "id": "wkSE4jR1XzTg"
   },
   "outputs": [],
   "source": [
    "# Проведите второй эксперимент"
   ]
  },
  {
   "cell_type": "markdown",
   "source": [
    "### Отчет (2 балла)\n",
    "\n",
    "Опишите проведенные эксперименты. Сравните перплексии полученных моделей. Предложите идеи по улучшению качества моделей."
   ],
   "metadata": {
    "id": "Y5V9H3eoFeAu"
   }
  },
  {
   "cell_type": "code",
   "source": [],
   "metadata": {
    "id": "M2GCDVeeF8LP"
   },
   "execution_count": null,
   "outputs": []
  }
 ],
 "metadata": {
  "accelerator": "GPU",
  "colab": {
   "provenance": []
  },
  "gpuClass": "standard",
  "kernelspec": {
   "display_name": "Python 3 (ipykernel)",
   "language": "python",
   "name": "python3"
  },
  "language_info": {
   "codemirror_mode": {
    "name": "ipython",
    "version": 3
   },
   "file_extension": ".py",
   "mimetype": "text/x-python",
   "name": "python",
   "nbconvert_exporter": "python",
   "pygments_lexer": "ipython3",
   "version": "3.8.13"
  }
 },
 "nbformat": 4,
 "nbformat_minor": 0
}
